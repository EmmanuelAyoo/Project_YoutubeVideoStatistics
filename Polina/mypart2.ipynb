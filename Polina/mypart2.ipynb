{
 "cells": [
  {
   "cell_type": "markdown",
   "metadata": {},
   "source": [
    "\n",
    "Project_YoutubeVideoStatistics\n"
   ]
  },
  {
   "cell_type": "code",
   "execution_count": null,
   "metadata": {},
   "outputs": [],
   "source": [
    "# Layout of mypart2.ipynb of the team project:\n",
    "\n",
    "# Dependancies\n",
    "# Gettiing to know the data\n",
    "# Cleaning data\n",
    "# Analysis of Relationship\n",
    "# Visualization \n",
    "\n",
    "# Initial areas of interest:\n",
    "\n",
    "# What channels are most popular/gitting mor likes\n",
    "# What publish_time got most likes\n",
    "# Views visualized\n",
    "#likes/channels/published times"
   ]
  },
  {
   "cell_type": "code",
   "execution_count": null,
   "metadata": {},
   "outputs": [],
   "source": [
    "# Dependencies and Setup\n",
    "import matplotlib.pyplot as plt\n",
    "%matplotlib inline\n",
    "import pandas as pd\n",
    "import scipy.stats as st\n",
    "import numpy as np\n",
    "from scipy.stats import linregress\n",
    "import seaborn as sns\n",
    "\n",
    "# data files\n",
    "dataset_path = \"../Resources/USvideos.csv\"\n",
    "# results_path = \"../Resources/Project_results.csv\"\n",
    "\n",
    "# Read the data \n",
    "data_df = pd.read_csv(dataset_path)\n",
    "\n",
    "data_df"
   ]
  },
  {
   "cell_type": "markdown",
   "metadata": {},
   "source": [
    "Gettiing to know the data\n",
    "\n",
    "\n",
    "\n"
   ]
  },
  {
   "cell_type": "code",
   "execution_count": null,
   "metadata": {},
   "outputs": [],
   "source": [
    "data_df.columns"
   ]
  },
  {
   "cell_type": "code",
   "execution_count": null,
   "metadata": {},
   "outputs": [],
   "source": [
    "data_df.shape"
   ]
  },
  {
   "cell_type": "code",
   "execution_count": null,
   "metadata": {},
   "outputs": [],
   "source": [
    "#number of videos in the set\n",
    "video_count =len(data_df[\"video_id\"].value_counts())\n",
    "print(f\"Total number of unique videos (by value_id) in the dataset is {video_count}.\")\n"
   ]
  },
  {
   "cell_type": "code",
   "execution_count": null,
   "metadata": {},
   "outputs": [],
   "source": [
    "#statistical summary of numerical columns\n",
    "data_df.describe()"
   ]
  },
  {
   "cell_type": "code",
   "execution_count": null,
   "metadata": {},
   "outputs": [],
   "source": [
    "#categories\n",
    "data_df.describe(include=np.object)"
   ]
  },
  {
   "cell_type": "code",
   "execution_count": null,
   "metadata": {},
   "outputs": [],
   "source": [
    "#columns and their data types\n",
    "data_df.info()"
   ]
  },
  {
   "cell_type": "code",
   "execution_count": null,
   "metadata": {},
   "outputs": [],
   "source": [
    "data_df.nunique()"
   ]
  },
  {
   "cell_type": "code",
   "execution_count": null,
   "metadata": {},
   "outputs": [],
   "source": [
    "#check unique column video_id\n",
    "data_df['video_id'].unique()"
   ]
  },
  {
   "cell_type": "code",
   "execution_count": null,
   "metadata": {},
   "outputs": [],
   "source": [
    "#check unique column \n",
    "data_df['publish_time'].unique()"
   ]
  },
  {
   "cell_type": "code",
   "execution_count": null,
   "metadata": {},
   "outputs": [],
   "source": []
  },
  {
   "cell_type": "markdown",
   "metadata": {},
   "source": [
    "Cleaning Data"
   ]
  },
  {
   "cell_type": "code",
   "execution_count": null,
   "metadata": {},
   "outputs": [],
   "source": [
    "#check for Null values\n",
    "data_df.isnull().sum()"
   ]
  },
  {
   "cell_type": "code",
   "execution_count": null,
   "metadata": {},
   "outputs": [],
   "source": [
    "# can drop columns that dont need\n",
    "#new_df = data_sd.drop([\" \", \" \", \" \", \" \"], axis=1)"
   ]
  },
  {
   "cell_type": "code",
   "execution_count": null,
   "metadata": {},
   "outputs": [],
   "source": [
    "#remove duplicates\n",
    "\n",
    "\n"
   ]
  },
  {
   "cell_type": "code",
   "execution_count": null,
   "metadata": {},
   "outputs": [],
   "source": [
    "#create clean_df with columns of interest instead of dropping\n",
    "\n",
    "clean_df = data_df[['video_id','views','likes', 'dislikes','channel_title','publish_time']]\n",
    "clean_df"
   ]
  },
  {
   "cell_type": "code",
   "execution_count": null,
   "metadata": {},
   "outputs": [],
   "source": [
    "#check for outliers\n",
    "\n",
    "\n"
   ]
  },
  {
   "cell_type": "markdown",
   "metadata": {},
   "source": [
    "Analysis of Relationship and Visualization"
   ]
  },
  {
   "cell_type": "code",
   "execution_count": null,
   "metadata": {},
   "outputs": [],
   "source": [
    "#correlation matrix between variables \n",
    "corelation = clean_df.corr()\n",
    "sns.heatmap(corelation, xticklabels=corelation.columns, yticklabels=corelation.columns, annot=True)\n"
   ]
  },
  {
   "cell_type": "code",
   "execution_count": null,
   "metadata": {},
   "outputs": [],
   "source": [
    "# columns = [\"views\", \"likes\", \"dislikes\"]\n",
    "# corr_matrix = clean_df[columns].corr()\n",
    "# corr_matrix"
   ]
  },
  {
   "cell_type": "code",
   "execution_count": null,
   "metadata": {},
   "outputs": [],
   "source": [
    "#relationship between two variables\n",
    "sns.pairplot(clean_df)"
   ]
  },
  {
   "cell_type": "code",
   "execution_count": null,
   "metadata": {},
   "outputs": [],
   "source": [
    "#scatterplot \n",
    "sns.relplot(x=\"views\", y=\"likes\", hue=\"dislikes\", data=clean_df)"
   ]
  },
  {
   "cell_type": "code",
   "execution_count": null,
   "metadata": {},
   "outputs": [],
   "source": [
    "# #scatterplot \n",
    "# sns.relplot(x=\"views\", y=\"likes\" ,hue=\"publish_date\", data=clean_df)\n"
   ]
  },
  {
   "cell_type": "code",
   "execution_count": null,
   "metadata": {},
   "outputs": [],
   "source": [
    "#scatterplot \n",
    "sns.relplot(x=\"views\", y=\"dislikes\" ,hue=\"channel_title\", data=clean_df)"
   ]
  },
  {
   "cell_type": "code",
   "execution_count": null,
   "metadata": {},
   "outputs": [],
   "source": [
    "#scatterplot \n",
    "sns.relplot(x=\"views\", y=\"dislikes\" ,hue=\"publish_date\", data=clean_df)"
   ]
  },
  {
   "cell_type": "code",
   "execution_count": null,
   "metadata": {},
   "outputs": [],
   "source": [
    "#histogram for ranges\n",
    "\n",
    "sns.distplot(clean_df['views'], bins=1000)\n"
   ]
  },
  {
   "cell_type": "code",
   "execution_count": null,
   "metadata": {},
   "outputs": [],
   "source": [
    "#histogram for ranges\n",
    "\n",
    "sns.distplot(clean_df['likes'])"
   ]
  },
  {
   "cell_type": "code",
   "execution_count": null,
   "metadata": {},
   "outputs": [],
   "source": [
    "#histogram for ranges\n",
    "\n",
    "sns.distplot(clean_df['channel_title'])"
   ]
  },
  {
   "cell_type": "code",
   "execution_count": null,
   "metadata": {},
   "outputs": [],
   "source": [
    "sns.catplot(x='likes', kind='box',data= clean_df)"
   ]
  },
  {
   "cell_type": "code",
   "execution_count": null,
   "metadata": {},
   "outputs": [],
   "source": [
    "sns.catplot(x='views', kind='box',data= clean_df)"
   ]
  },
  {
   "cell_type": "code",
   "execution_count": null,
   "metadata": {},
   "outputs": [],
   "source": [
    "sns.catplot(x='dislikes', kind='box',data= clean_df)"
   ]
  },
  {
   "cell_type": "code",
   "execution_count": null,
   "metadata": {},
   "outputs": [],
   "source": [
    "# plt.bar(clean_df['views'],clean_df['likes'], clean_df['dislikes'])\n",
    "plt.bar(clean_df['views'],clean_df['likes'])"
   ]
  },
  {
   "cell_type": "code",
   "execution_count": null,
   "metadata": {},
   "outputs": [],
   "source": [
    "#to understand the distribution\n",
    "clean_df.boxplot(column= 'views', by='likes')"
   ]
  },
  {
   "cell_type": "code",
   "execution_count": null,
   "metadata": {},
   "outputs": [],
   "source": [
    "#matplotlib\n",
    "clean_df['views'].hist(bins=1000)"
   ]
  },
  {
   "cell_type": "code",
   "execution_count": null,
   "metadata": {},
   "outputs": [],
   "source": [
    "#sort clean-df by views\n",
    "clean_df_sorted_views = clean_df.sort_values('views', ascending=False)\n",
    "clean_df_sorted_views.head()"
   ]
  },
  {
   "cell_type": "code",
   "execution_count": null,
   "metadata": {},
   "outputs": [],
   "source": [
    "# Generate a bar plot showing -----------------------\n",
    "#pass 2 col???\n",
    "count = clean_df['likes','views'].value_counts()\n",
    "\n",
    "count.plot(kind=\"bar\")\n",
    "plt.ylabel(\"likes\")\n",
    "plt.xlabel(\"views\")\n",
    "\n",
    "plt.show()\n",
    "count"
   ]
  },
  {
   "cell_type": "code",
   "execution_count": null,
   "metadata": {},
   "outputs": [],
   "source": [
    "#most liked videos\n",
    "most_liked = clean_df['views'].max()\n",
    "most_liked"
   ]
  },
  {
   "cell_type": "code",
   "execution_count": null,
   "metadata": {},
   "outputs": [],
   "source": [
    "#top 20 most liked channels vs likes\n",
    "clean_df('channel_title', 'likes')\n",
    "clean_df.head(20)"
   ]
  },
  {
   "cell_type": "code",
   "execution_count": null,
   "metadata": {},
   "outputs": [],
   "source": [
    "#top 20 most liked channels vs veiws\n",
    "clean_df('channel_title', 'views')\n",
    "clean_df.head(20)"
   ]
  },
  {
   "cell_type": "code",
   "execution_count": null,
   "metadata": {},
   "outputs": [],
   "source": [
    "# Plot View versus likes               ---------------------------------------------------------------\n",
    "x_values = clean_df[\"views\"]\n",
    "y_values = main_df['likes']\n",
    "plt.scatter(x_values,y_values)\n",
    "plt.title(\"Views vs. Likes\")\n",
    "plt.xlabel('Veiws')\n",
    "plt.ylabel('Likes')\n",
    "plt.savefig(\"../Project_YoutubeVideoStatistics/output_data/views_vs_likes.png\")\n",
    "plt.show()\n"
   ]
  },
  {
   "cell_type": "code",
   "execution_count": null,
   "metadata": {},
   "outputs": [],
   "source": [
    "# Create a function to create Linear Regression plots\n",
    "\n",
    "def linearplot(x_values,y_values,y_label, coor):\n",
    "    \n",
    "\n",
    "    print(f\"The r-squared is: {round(st.pearsonr(x_values, y_values)[0],2)}\")\n",
    "    \n",
    "    (slope, intercept, rvalue, pvalue, stderr) = linregress(x_values, y_values)\n",
    "    regress_values = x_values * slope + intercept\n",
    "    line_eq = \"y = \" + str(round(slope,2)) + \"x + \" + str(round(intercept,2))\n",
    "    plt.scatter(x_values,y_values)\n",
    "    plt.plot(x_values,regress_values,\"r-\")\n",
    "    plt.annotate(line_eq,coor,fontsize=15,color=\"red\")\n",
    " \n",
    "    plt.xlabel('Views')\n",
    "    plt.ylabel(y_label)"
   ]
  },
  {
   "cell_type": "code",
   "execution_count": null,
   "metadata": {},
   "outputs": [],
   "source": [
    "x_values= clean_df[\"views\"]\n",
    "y_values= clean_df[\"likes\"]\n",
    "linearplot(x_values, y_values, \"channel_title\", (6,30))\n",
    "\n",
    "plt.savefig(\"../Project_YoutubeVideoStatistics/output_data/views_vs_likes.png\")\n",
    "plt.show()"
   ]
  },
  {
   "cell_type": "markdown",
   "metadata": {},
   "source": [
    "Analysis:\n",
    "    \n",
    "      "
   ]
  },
  {
   "cell_type": "code",
   "execution_count": null,
   "metadata": {},
   "outputs": [],
   "source": []
  }
 ],
 "metadata": {
  "kernelspec": {
   "display_name": "Python 3",
   "language": "python",
   "name": "python3"
  },
  "language_info": {
   "codemirror_mode": {
    "name": "ipython",
    "version": 3
   },
   "file_extension": ".py",
   "mimetype": "text/x-python",
   "name": "python",
   "nbconvert_exporter": "python",
   "pygments_lexer": "ipython3",
   "version": "3.7.4"
  }
 },
 "nbformat": 4,
 "nbformat_minor": 2
}
