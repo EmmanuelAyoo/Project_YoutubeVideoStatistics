{
 "cells": [
  {
   "cell_type": "markdown",
   "metadata": {},
   "source": [
    "\n",
    "## Project_YoutubeVideoStatistics\n"
   ]
  },
  {
   "cell_type": "markdown",
   "metadata": {},
   "source": [
    "Team Project/PH Part: Dependancies - Gettiing to know the Data -  Cleaning data - Analysis of Relationship and Visualization \n",
    "\n",
    "##### Ares of Interest: channels/views/likes/dislikes.."
   ]
  },
  {
   "cell_type": "code",
   "execution_count": 1,
   "metadata": {},
   "outputs": [
    {
     "data": {
      "text/html": [
       "<div>\n",
       "<style scoped>\n",
       "    .dataframe tbody tr th:only-of-type {\n",
       "        vertical-align: middle;\n",
       "    }\n",
       "\n",
       "    .dataframe tbody tr th {\n",
       "        vertical-align: top;\n",
       "    }\n",
       "\n",
       "    .dataframe thead th {\n",
       "        text-align: right;\n",
       "    }\n",
       "</style>\n",
       "<table border=\"1\" class=\"dataframe\">\n",
       "  <thead>\n",
       "    <tr style=\"text-align: right;\">\n",
       "      <th></th>\n",
       "      <th>video_id</th>\n",
       "      <th>trending_date</th>\n",
       "      <th>title</th>\n",
       "      <th>channel_title</th>\n",
       "      <th>category_id</th>\n",
       "      <th>publish_time</th>\n",
       "      <th>tags</th>\n",
       "      <th>views</th>\n",
       "      <th>likes</th>\n",
       "      <th>dislikes</th>\n",
       "      <th>comment_count</th>\n",
       "      <th>thumbnail_link</th>\n",
       "      <th>comments_disabled</th>\n",
       "      <th>ratings_disabled</th>\n",
       "      <th>video_error_or_removed</th>\n",
       "      <th>description</th>\n",
       "    </tr>\n",
       "  </thead>\n",
       "  <tbody>\n",
       "    <tr>\n",
       "      <td>0</td>\n",
       "      <td>2kyS6SvSYSE</td>\n",
       "      <td>17.14.11</td>\n",
       "      <td>WE WANT TO TALK ABOUT OUR MARRIAGE</td>\n",
       "      <td>CaseyNeistat</td>\n",
       "      <td>22</td>\n",
       "      <td>2017-11-13T17:13:01.000Z</td>\n",
       "      <td>SHANtell martin</td>\n",
       "      <td>748374</td>\n",
       "      <td>57527</td>\n",
       "      <td>2966</td>\n",
       "      <td>15954</td>\n",
       "      <td>https://i.ytimg.com/vi/2kyS6SvSYSE/default.jpg</td>\n",
       "      <td>False</td>\n",
       "      <td>False</td>\n",
       "      <td>False</td>\n",
       "      <td>SHANTELL'S CHANNEL - https://www.youtube.com/s...</td>\n",
       "    </tr>\n",
       "    <tr>\n",
       "      <td>1</td>\n",
       "      <td>1ZAPwfrtAFY</td>\n",
       "      <td>17.14.11</td>\n",
       "      <td>The Trump Presidency: Last Week Tonight with J...</td>\n",
       "      <td>LastWeekTonight</td>\n",
       "      <td>24</td>\n",
       "      <td>2017-11-13T07:30:00.000Z</td>\n",
       "      <td>last week tonight trump presidency|\"last week ...</td>\n",
       "      <td>2418783</td>\n",
       "      <td>97185</td>\n",
       "      <td>6146</td>\n",
       "      <td>12703</td>\n",
       "      <td>https://i.ytimg.com/vi/1ZAPwfrtAFY/default.jpg</td>\n",
       "      <td>False</td>\n",
       "      <td>False</td>\n",
       "      <td>False</td>\n",
       "      <td>One year after the presidential election, John...</td>\n",
       "    </tr>\n",
       "    <tr>\n",
       "      <td>2</td>\n",
       "      <td>5qpjK5DgCt4</td>\n",
       "      <td>17.14.11</td>\n",
       "      <td>Racist Superman | Rudy Mancuso, King Bach &amp; Le...</td>\n",
       "      <td>Rudy Mancuso</td>\n",
       "      <td>23</td>\n",
       "      <td>2017-11-12T19:05:24.000Z</td>\n",
       "      <td>racist superman|\"rudy\"|\"mancuso\"|\"king\"|\"bach\"...</td>\n",
       "      <td>3191434</td>\n",
       "      <td>146033</td>\n",
       "      <td>5339</td>\n",
       "      <td>8181</td>\n",
       "      <td>https://i.ytimg.com/vi/5qpjK5DgCt4/default.jpg</td>\n",
       "      <td>False</td>\n",
       "      <td>False</td>\n",
       "      <td>False</td>\n",
       "      <td>WATCH MY PREVIOUS VIDEO ▶ \\n\\nSUBSCRIBE ► http...</td>\n",
       "    </tr>\n",
       "    <tr>\n",
       "      <td>3</td>\n",
       "      <td>puqaWrEC7tY</td>\n",
       "      <td>17.14.11</td>\n",
       "      <td>Nickelback Lyrics: Real or Fake?</td>\n",
       "      <td>Good Mythical Morning</td>\n",
       "      <td>24</td>\n",
       "      <td>2017-11-13T11:00:04.000Z</td>\n",
       "      <td>rhett and link|\"gmm\"|\"good mythical morning\"|\"...</td>\n",
       "      <td>343168</td>\n",
       "      <td>10172</td>\n",
       "      <td>666</td>\n",
       "      <td>2146</td>\n",
       "      <td>https://i.ytimg.com/vi/puqaWrEC7tY/default.jpg</td>\n",
       "      <td>False</td>\n",
       "      <td>False</td>\n",
       "      <td>False</td>\n",
       "      <td>Today we find out if Link is a Nickelback amat...</td>\n",
       "    </tr>\n",
       "    <tr>\n",
       "      <td>4</td>\n",
       "      <td>d380meD0W0M</td>\n",
       "      <td>17.14.11</td>\n",
       "      <td>I Dare You: GOING BALD!?</td>\n",
       "      <td>nigahiga</td>\n",
       "      <td>24</td>\n",
       "      <td>2017-11-12T18:01:41.000Z</td>\n",
       "      <td>ryan|\"higa\"|\"higatv\"|\"nigahiga\"|\"i dare you\"|\"...</td>\n",
       "      <td>2095731</td>\n",
       "      <td>132235</td>\n",
       "      <td>1989</td>\n",
       "      <td>17518</td>\n",
       "      <td>https://i.ytimg.com/vi/d380meD0W0M/default.jpg</td>\n",
       "      <td>False</td>\n",
       "      <td>False</td>\n",
       "      <td>False</td>\n",
       "      <td>I know it's been a while since we did this sho...</td>\n",
       "    </tr>\n",
       "    <tr>\n",
       "      <td>...</td>\n",
       "      <td>...</td>\n",
       "      <td>...</td>\n",
       "      <td>...</td>\n",
       "      <td>...</td>\n",
       "      <td>...</td>\n",
       "      <td>...</td>\n",
       "      <td>...</td>\n",
       "      <td>...</td>\n",
       "      <td>...</td>\n",
       "      <td>...</td>\n",
       "      <td>...</td>\n",
       "      <td>...</td>\n",
       "      <td>...</td>\n",
       "      <td>...</td>\n",
       "      <td>...</td>\n",
       "      <td>...</td>\n",
       "    </tr>\n",
       "    <tr>\n",
       "      <td>40944</td>\n",
       "      <td>BZt0qjTWNhw</td>\n",
       "      <td>18.14.06</td>\n",
       "      <td>The Cat Who Caught the Laser</td>\n",
       "      <td>AaronsAnimals</td>\n",
       "      <td>15</td>\n",
       "      <td>2018-05-18T13:00:04.000Z</td>\n",
       "      <td>aarons animals|\"aarons\"|\"animals\"|\"cat\"|\"cats\"...</td>\n",
       "      <td>1685609</td>\n",
       "      <td>38160</td>\n",
       "      <td>1385</td>\n",
       "      <td>2657</td>\n",
       "      <td>https://i.ytimg.com/vi/BZt0qjTWNhw/default.jpg</td>\n",
       "      <td>False</td>\n",
       "      <td>False</td>\n",
       "      <td>False</td>\n",
       "      <td>The Cat Who Caught the Laser - Aaron's Animals</td>\n",
       "    </tr>\n",
       "    <tr>\n",
       "      <td>40945</td>\n",
       "      <td>1h7KV2sjUWY</td>\n",
       "      <td>18.14.06</td>\n",
       "      <td>True Facts : Ant Mutualism</td>\n",
       "      <td>zefrank1</td>\n",
       "      <td>22</td>\n",
       "      <td>2018-05-18T01:00:06.000Z</td>\n",
       "      <td>[none]</td>\n",
       "      <td>1064798</td>\n",
       "      <td>60008</td>\n",
       "      <td>382</td>\n",
       "      <td>3936</td>\n",
       "      <td>https://i.ytimg.com/vi/1h7KV2sjUWY/default.jpg</td>\n",
       "      <td>False</td>\n",
       "      <td>False</td>\n",
       "      <td>False</td>\n",
       "      <td>NaN</td>\n",
       "    </tr>\n",
       "    <tr>\n",
       "      <td>40946</td>\n",
       "      <td>D6Oy4LfoqsU</td>\n",
       "      <td>18.14.06</td>\n",
       "      <td>I GAVE SAFIYA NYGAARD A PERFECT HAIR MAKEOVER ...</td>\n",
       "      <td>Brad Mondo</td>\n",
       "      <td>24</td>\n",
       "      <td>2018-05-18T17:34:22.000Z</td>\n",
       "      <td>I gave safiya nygaard a perfect hair makeover ...</td>\n",
       "      <td>1066451</td>\n",
       "      <td>48068</td>\n",
       "      <td>1032</td>\n",
       "      <td>3992</td>\n",
       "      <td>https://i.ytimg.com/vi/D6Oy4LfoqsU/default.jpg</td>\n",
       "      <td>False</td>\n",
       "      <td>False</td>\n",
       "      <td>False</td>\n",
       "      <td>I had so much fun transforming Safiyas hair in...</td>\n",
       "    </tr>\n",
       "    <tr>\n",
       "      <td>40947</td>\n",
       "      <td>oV0zkMe1K8s</td>\n",
       "      <td>18.14.06</td>\n",
       "      <td>How Black Panther Should Have Ended</td>\n",
       "      <td>How It Should Have Ended</td>\n",
       "      <td>1</td>\n",
       "      <td>2018-05-17T17:00:04.000Z</td>\n",
       "      <td>Black Panther|\"HISHE\"|\"Marvel\"|\"Infinity War\"|...</td>\n",
       "      <td>5660813</td>\n",
       "      <td>192957</td>\n",
       "      <td>2846</td>\n",
       "      <td>13088</td>\n",
       "      <td>https://i.ytimg.com/vi/oV0zkMe1K8s/default.jpg</td>\n",
       "      <td>False</td>\n",
       "      <td>False</td>\n",
       "      <td>False</td>\n",
       "      <td>How Black Panther Should Have EndedWatch More ...</td>\n",
       "    </tr>\n",
       "    <tr>\n",
       "      <td>40948</td>\n",
       "      <td>ooyjaVdt-jA</td>\n",
       "      <td>18.14.06</td>\n",
       "      <td>Official Call of Duty®: Black Ops 4 — Multipla...</td>\n",
       "      <td>Call of Duty</td>\n",
       "      <td>20</td>\n",
       "      <td>2018-05-17T17:09:38.000Z</td>\n",
       "      <td>call of duty|\"cod\"|\"activision\"|\"Black Ops 4\"</td>\n",
       "      <td>10306119</td>\n",
       "      <td>357079</td>\n",
       "      <td>212976</td>\n",
       "      <td>144795</td>\n",
       "      <td>https://i.ytimg.com/vi/ooyjaVdt-jA/default.jpg</td>\n",
       "      <td>False</td>\n",
       "      <td>False</td>\n",
       "      <td>False</td>\n",
       "      <td>Call of Duty: Black Ops 4 Multiplayer raises t...</td>\n",
       "    </tr>\n",
       "  </tbody>\n",
       "</table>\n",
       "<p>40949 rows × 16 columns</p>\n",
       "</div>"
      ],
      "text/plain": [
       "          video_id trending_date  \\\n",
       "0      2kyS6SvSYSE      17.14.11   \n",
       "1      1ZAPwfrtAFY      17.14.11   \n",
       "2      5qpjK5DgCt4      17.14.11   \n",
       "3      puqaWrEC7tY      17.14.11   \n",
       "4      d380meD0W0M      17.14.11   \n",
       "...            ...           ...   \n",
       "40944  BZt0qjTWNhw      18.14.06   \n",
       "40945  1h7KV2sjUWY      18.14.06   \n",
       "40946  D6Oy4LfoqsU      18.14.06   \n",
       "40947  oV0zkMe1K8s      18.14.06   \n",
       "40948  ooyjaVdt-jA      18.14.06   \n",
       "\n",
       "                                                   title  \\\n",
       "0                     WE WANT TO TALK ABOUT OUR MARRIAGE   \n",
       "1      The Trump Presidency: Last Week Tonight with J...   \n",
       "2      Racist Superman | Rudy Mancuso, King Bach & Le...   \n",
       "3                       Nickelback Lyrics: Real or Fake?   \n",
       "4                               I Dare You: GOING BALD!?   \n",
       "...                                                  ...   \n",
       "40944                       The Cat Who Caught the Laser   \n",
       "40945                         True Facts : Ant Mutualism   \n",
       "40946  I GAVE SAFIYA NYGAARD A PERFECT HAIR MAKEOVER ...   \n",
       "40947                How Black Panther Should Have Ended   \n",
       "40948  Official Call of Duty®: Black Ops 4 — Multipla...   \n",
       "\n",
       "                  channel_title  category_id              publish_time  \\\n",
       "0                  CaseyNeistat           22  2017-11-13T17:13:01.000Z   \n",
       "1               LastWeekTonight           24  2017-11-13T07:30:00.000Z   \n",
       "2                  Rudy Mancuso           23  2017-11-12T19:05:24.000Z   \n",
       "3         Good Mythical Morning           24  2017-11-13T11:00:04.000Z   \n",
       "4                      nigahiga           24  2017-11-12T18:01:41.000Z   \n",
       "...                         ...          ...                       ...   \n",
       "40944             AaronsAnimals           15  2018-05-18T13:00:04.000Z   \n",
       "40945                  zefrank1           22  2018-05-18T01:00:06.000Z   \n",
       "40946                Brad Mondo           24  2018-05-18T17:34:22.000Z   \n",
       "40947  How It Should Have Ended            1  2018-05-17T17:00:04.000Z   \n",
       "40948              Call of Duty           20  2018-05-17T17:09:38.000Z   \n",
       "\n",
       "                                                    tags     views   likes  \\\n",
       "0                                        SHANtell martin    748374   57527   \n",
       "1      last week tonight trump presidency|\"last week ...   2418783   97185   \n",
       "2      racist superman|\"rudy\"|\"mancuso\"|\"king\"|\"bach\"...   3191434  146033   \n",
       "3      rhett and link|\"gmm\"|\"good mythical morning\"|\"...    343168   10172   \n",
       "4      ryan|\"higa\"|\"higatv\"|\"nigahiga\"|\"i dare you\"|\"...   2095731  132235   \n",
       "...                                                  ...       ...     ...   \n",
       "40944  aarons animals|\"aarons\"|\"animals\"|\"cat\"|\"cats\"...   1685609   38160   \n",
       "40945                                             [none]   1064798   60008   \n",
       "40946  I gave safiya nygaard a perfect hair makeover ...   1066451   48068   \n",
       "40947  Black Panther|\"HISHE\"|\"Marvel\"|\"Infinity War\"|...   5660813  192957   \n",
       "40948      call of duty|\"cod\"|\"activision\"|\"Black Ops 4\"  10306119  357079   \n",
       "\n",
       "       dislikes  comment_count  \\\n",
       "0          2966          15954   \n",
       "1          6146          12703   \n",
       "2          5339           8181   \n",
       "3           666           2146   \n",
       "4          1989          17518   \n",
       "...         ...            ...   \n",
       "40944      1385           2657   \n",
       "40945       382           3936   \n",
       "40946      1032           3992   \n",
       "40947      2846          13088   \n",
       "40948    212976         144795   \n",
       "\n",
       "                                       thumbnail_link  comments_disabled  \\\n",
       "0      https://i.ytimg.com/vi/2kyS6SvSYSE/default.jpg              False   \n",
       "1      https://i.ytimg.com/vi/1ZAPwfrtAFY/default.jpg              False   \n",
       "2      https://i.ytimg.com/vi/5qpjK5DgCt4/default.jpg              False   \n",
       "3      https://i.ytimg.com/vi/puqaWrEC7tY/default.jpg              False   \n",
       "4      https://i.ytimg.com/vi/d380meD0W0M/default.jpg              False   \n",
       "...                                               ...                ...   \n",
       "40944  https://i.ytimg.com/vi/BZt0qjTWNhw/default.jpg              False   \n",
       "40945  https://i.ytimg.com/vi/1h7KV2sjUWY/default.jpg              False   \n",
       "40946  https://i.ytimg.com/vi/D6Oy4LfoqsU/default.jpg              False   \n",
       "40947  https://i.ytimg.com/vi/oV0zkMe1K8s/default.jpg              False   \n",
       "40948  https://i.ytimg.com/vi/ooyjaVdt-jA/default.jpg              False   \n",
       "\n",
       "       ratings_disabled  video_error_or_removed  \\\n",
       "0                 False                   False   \n",
       "1                 False                   False   \n",
       "2                 False                   False   \n",
       "3                 False                   False   \n",
       "4                 False                   False   \n",
       "...                 ...                     ...   \n",
       "40944             False                   False   \n",
       "40945             False                   False   \n",
       "40946             False                   False   \n",
       "40947             False                   False   \n",
       "40948             False                   False   \n",
       "\n",
       "                                             description  \n",
       "0      SHANTELL'S CHANNEL - https://www.youtube.com/s...  \n",
       "1      One year after the presidential election, John...  \n",
       "2      WATCH MY PREVIOUS VIDEO ▶ \\n\\nSUBSCRIBE ► http...  \n",
       "3      Today we find out if Link is a Nickelback amat...  \n",
       "4      I know it's been a while since we did this sho...  \n",
       "...                                                  ...  \n",
       "40944     The Cat Who Caught the Laser - Aaron's Animals  \n",
       "40945                                                NaN  \n",
       "40946  I had so much fun transforming Safiyas hair in...  \n",
       "40947  How Black Panther Should Have EndedWatch More ...  \n",
       "40948  Call of Duty: Black Ops 4 Multiplayer raises t...  \n",
       "\n",
       "[40949 rows x 16 columns]"
      ]
     },
     "execution_count": 1,
     "metadata": {},
     "output_type": "execute_result"
    }
   ],
   "source": [
    "# Dependencies and Setup\n",
    "import matplotlib.pyplot as plt\n",
    "%matplotlib inline\n",
    "import pandas as pd\n",
    "import scipy.stats as st\n",
    "import numpy as np\n",
    "from scipy.stats import linregress\n",
    "import seaborn as sns\n",
    "\n",
    "# data files\n",
    "dataset_path = \"../Resources/USvideos.csv\"\n",
    "# results_path = \"../Resources/Project_results.csv\"\n",
    "\n",
    "# Read the data \n",
    "data_df = pd.read_csv(dataset_path)\n",
    "\n",
    "data_df"
   ]
  },
  {
   "cell_type": "markdown",
   "metadata": {},
   "source": [
    "## Gettiing to know the data\n",
    "\n",
    "\n",
    "\n"
   ]
  },
  {
   "cell_type": "code",
   "execution_count": 2,
   "metadata": {},
   "outputs": [
    {
     "data": {
      "text/plain": [
       "Index(['video_id', 'trending_date', 'title', 'channel_title', 'category_id',\n",
       "       'publish_time', 'tags', 'views', 'likes', 'dislikes', 'comment_count',\n",
       "       'thumbnail_link', 'comments_disabled', 'ratings_disabled',\n",
       "       'video_error_or_removed', 'description'],\n",
       "      dtype='object')"
      ]
     },
     "execution_count": 2,
     "metadata": {},
     "output_type": "execute_result"
    }
   ],
   "source": [
    "data_df.columns"
   ]
  },
  {
   "cell_type": "code",
   "execution_count": 3,
   "metadata": {},
   "outputs": [
    {
     "data": {
      "text/plain": [
       "(40949, 16)"
      ]
     },
     "execution_count": 3,
     "metadata": {},
     "output_type": "execute_result"
    }
   ],
   "source": [
    "data_df.shape"
   ]
  },
  {
   "cell_type": "code",
   "execution_count": 4,
   "metadata": {},
   "outputs": [
    {
     "name": "stdout",
     "output_type": "stream",
     "text": [
      "Total number of unique videos (by video_id) in the dataset is 6351.\n"
     ]
    }
   ],
   "source": [
    "#number of videos in the set\n",
    "video_count =len(data_df[\"video_id\"].value_counts())\n",
    "print(f\"Total number of unique videos (by video_id) in the dataset is {video_count}.\")\n"
   ]
  },
  {
   "cell_type": "code",
   "execution_count": 5,
   "metadata": {},
   "outputs": [
    {
     "data": {
      "text/html": [
       "<div>\n",
       "<style scoped>\n",
       "    .dataframe tbody tr th:only-of-type {\n",
       "        vertical-align: middle;\n",
       "    }\n",
       "\n",
       "    .dataframe tbody tr th {\n",
       "        vertical-align: top;\n",
       "    }\n",
       "\n",
       "    .dataframe thead th {\n",
       "        text-align: right;\n",
       "    }\n",
       "</style>\n",
       "<table border=\"1\" class=\"dataframe\">\n",
       "  <thead>\n",
       "    <tr style=\"text-align: right;\">\n",
       "      <th></th>\n",
       "      <th>category_id</th>\n",
       "      <th>views</th>\n",
       "      <th>likes</th>\n",
       "      <th>dislikes</th>\n",
       "      <th>comment_count</th>\n",
       "    </tr>\n",
       "  </thead>\n",
       "  <tbody>\n",
       "    <tr>\n",
       "      <td>count</td>\n",
       "      <td>40949.000000</td>\n",
       "      <td>4.094900e+04</td>\n",
       "      <td>4.094900e+04</td>\n",
       "      <td>4.094900e+04</td>\n",
       "      <td>4.094900e+04</td>\n",
       "    </tr>\n",
       "    <tr>\n",
       "      <td>mean</td>\n",
       "      <td>19.972429</td>\n",
       "      <td>2.360785e+06</td>\n",
       "      <td>7.426670e+04</td>\n",
       "      <td>3.711401e+03</td>\n",
       "      <td>8.446804e+03</td>\n",
       "    </tr>\n",
       "    <tr>\n",
       "      <td>std</td>\n",
       "      <td>7.568327</td>\n",
       "      <td>7.394114e+06</td>\n",
       "      <td>2.288853e+05</td>\n",
       "      <td>2.902971e+04</td>\n",
       "      <td>3.743049e+04</td>\n",
       "    </tr>\n",
       "    <tr>\n",
       "      <td>min</td>\n",
       "      <td>1.000000</td>\n",
       "      <td>5.490000e+02</td>\n",
       "      <td>0.000000e+00</td>\n",
       "      <td>0.000000e+00</td>\n",
       "      <td>0.000000e+00</td>\n",
       "    </tr>\n",
       "    <tr>\n",
       "      <td>25%</td>\n",
       "      <td>17.000000</td>\n",
       "      <td>2.423290e+05</td>\n",
       "      <td>5.424000e+03</td>\n",
       "      <td>2.020000e+02</td>\n",
       "      <td>6.140000e+02</td>\n",
       "    </tr>\n",
       "    <tr>\n",
       "      <td>50%</td>\n",
       "      <td>24.000000</td>\n",
       "      <td>6.818610e+05</td>\n",
       "      <td>1.809100e+04</td>\n",
       "      <td>6.310000e+02</td>\n",
       "      <td>1.856000e+03</td>\n",
       "    </tr>\n",
       "    <tr>\n",
       "      <td>75%</td>\n",
       "      <td>25.000000</td>\n",
       "      <td>1.823157e+06</td>\n",
       "      <td>5.541700e+04</td>\n",
       "      <td>1.938000e+03</td>\n",
       "      <td>5.755000e+03</td>\n",
       "    </tr>\n",
       "    <tr>\n",
       "      <td>max</td>\n",
       "      <td>43.000000</td>\n",
       "      <td>2.252119e+08</td>\n",
       "      <td>5.613827e+06</td>\n",
       "      <td>1.674420e+06</td>\n",
       "      <td>1.361580e+06</td>\n",
       "    </tr>\n",
       "  </tbody>\n",
       "</table>\n",
       "</div>"
      ],
      "text/plain": [
       "        category_id         views         likes      dislikes  comment_count\n",
       "count  40949.000000  4.094900e+04  4.094900e+04  4.094900e+04   4.094900e+04\n",
       "mean      19.972429  2.360785e+06  7.426670e+04  3.711401e+03   8.446804e+03\n",
       "std        7.568327  7.394114e+06  2.288853e+05  2.902971e+04   3.743049e+04\n",
       "min        1.000000  5.490000e+02  0.000000e+00  0.000000e+00   0.000000e+00\n",
       "25%       17.000000  2.423290e+05  5.424000e+03  2.020000e+02   6.140000e+02\n",
       "50%       24.000000  6.818610e+05  1.809100e+04  6.310000e+02   1.856000e+03\n",
       "75%       25.000000  1.823157e+06  5.541700e+04  1.938000e+03   5.755000e+03\n",
       "max       43.000000  2.252119e+08  5.613827e+06  1.674420e+06   1.361580e+06"
      ]
     },
     "execution_count": 5,
     "metadata": {},
     "output_type": "execute_result"
    }
   ],
   "source": [
    "#statistical summary of numerical columns\n",
    "data_df.describe()"
   ]
  },
  {
   "cell_type": "code",
   "execution_count": 6,
   "metadata": {},
   "outputs": [
    {
     "data": {
      "text/html": [
       "<div>\n",
       "<style scoped>\n",
       "    .dataframe tbody tr th:only-of-type {\n",
       "        vertical-align: middle;\n",
       "    }\n",
       "\n",
       "    .dataframe tbody tr th {\n",
       "        vertical-align: top;\n",
       "    }\n",
       "\n",
       "    .dataframe thead th {\n",
       "        text-align: right;\n",
       "    }\n",
       "</style>\n",
       "<table border=\"1\" class=\"dataframe\">\n",
       "  <thead>\n",
       "    <tr style=\"text-align: right;\">\n",
       "      <th></th>\n",
       "      <th>video_id</th>\n",
       "      <th>trending_date</th>\n",
       "      <th>title</th>\n",
       "      <th>channel_title</th>\n",
       "      <th>publish_time</th>\n",
       "      <th>tags</th>\n",
       "      <th>thumbnail_link</th>\n",
       "      <th>description</th>\n",
       "    </tr>\n",
       "  </thead>\n",
       "  <tbody>\n",
       "    <tr>\n",
       "      <td>count</td>\n",
       "      <td>40949</td>\n",
       "      <td>40949</td>\n",
       "      <td>40949</td>\n",
       "      <td>40949</td>\n",
       "      <td>40949</td>\n",
       "      <td>40949</td>\n",
       "      <td>40949</td>\n",
       "      <td>40379</td>\n",
       "    </tr>\n",
       "    <tr>\n",
       "      <td>unique</td>\n",
       "      <td>6351</td>\n",
       "      <td>205</td>\n",
       "      <td>6455</td>\n",
       "      <td>2207</td>\n",
       "      <td>6269</td>\n",
       "      <td>6055</td>\n",
       "      <td>6352</td>\n",
       "      <td>6901</td>\n",
       "    </tr>\n",
       "    <tr>\n",
       "      <td>top</td>\n",
       "      <td>j4KvrAUjn6c</td>\n",
       "      <td>18.22.01</td>\n",
       "      <td>WE MADE OUR MOM CRY...HER DREAM CAME TRUE!</td>\n",
       "      <td>ESPN</td>\n",
       "      <td>2018-05-18T14:00:04.000Z</td>\n",
       "      <td>[none]</td>\n",
       "      <td>https://i.ytimg.com/vi/j4KvrAUjn6c/default.jpg</td>\n",
       "      <td>► Listen LIVE: http://power1051fm.com/\\n► Face...</td>\n",
       "    </tr>\n",
       "    <tr>\n",
       "      <td>freq</td>\n",
       "      <td>30</td>\n",
       "      <td>200</td>\n",
       "      <td>30</td>\n",
       "      <td>203</td>\n",
       "      <td>50</td>\n",
       "      <td>1535</td>\n",
       "      <td>30</td>\n",
       "      <td>58</td>\n",
       "    </tr>\n",
       "  </tbody>\n",
       "</table>\n",
       "</div>"
      ],
      "text/plain": [
       "           video_id trending_date                                       title  \\\n",
       "count         40949         40949                                       40949   \n",
       "unique         6351           205                                        6455   \n",
       "top     j4KvrAUjn6c      18.22.01  WE MADE OUR MOM CRY...HER DREAM CAME TRUE!   \n",
       "freq             30           200                                          30   \n",
       "\n",
       "       channel_title              publish_time    tags  \\\n",
       "count          40949                     40949   40949   \n",
       "unique          2207                      6269    6055   \n",
       "top             ESPN  2018-05-18T14:00:04.000Z  [none]   \n",
       "freq             203                        50    1535   \n",
       "\n",
       "                                        thumbnail_link  \\\n",
       "count                                            40949   \n",
       "unique                                            6352   \n",
       "top     https://i.ytimg.com/vi/j4KvrAUjn6c/default.jpg   \n",
       "freq                                                30   \n",
       "\n",
       "                                              description  \n",
       "count                                               40379  \n",
       "unique                                               6901  \n",
       "top     ► Listen LIVE: http://power1051fm.com/\\n► Face...  \n",
       "freq                                                   58  "
      ]
     },
     "execution_count": 6,
     "metadata": {},
     "output_type": "execute_result"
    }
   ],
   "source": [
    "#categories\n",
    "data_df.describe(include=np.object)"
   ]
  },
  {
   "cell_type": "code",
   "execution_count": 7,
   "metadata": {},
   "outputs": [
    {
     "name": "stdout",
     "output_type": "stream",
     "text": [
      "<class 'pandas.core.frame.DataFrame'>\n",
      "RangeIndex: 40949 entries, 0 to 40948\n",
      "Data columns (total 16 columns):\n",
      "video_id                  40949 non-null object\n",
      "trending_date             40949 non-null object\n",
      "title                     40949 non-null object\n",
      "channel_title             40949 non-null object\n",
      "category_id               40949 non-null int64\n",
      "publish_time              40949 non-null object\n",
      "tags                      40949 non-null object\n",
      "views                     40949 non-null int64\n",
      "likes                     40949 non-null int64\n",
      "dislikes                  40949 non-null int64\n",
      "comment_count             40949 non-null int64\n",
      "thumbnail_link            40949 non-null object\n",
      "comments_disabled         40949 non-null bool\n",
      "ratings_disabled          40949 non-null bool\n",
      "video_error_or_removed    40949 non-null bool\n",
      "description               40379 non-null object\n",
      "dtypes: bool(3), int64(5), object(8)\n",
      "memory usage: 4.2+ MB\n"
     ]
    }
   ],
   "source": [
    "#columns and their data types\n",
    "data_df.info()"
   ]
  },
  {
   "cell_type": "code",
   "execution_count": 8,
   "metadata": {},
   "outputs": [
    {
     "data": {
      "text/plain": [
       "video_id                   6351\n",
       "trending_date               205\n",
       "title                      6455\n",
       "channel_title              2207\n",
       "category_id                  16\n",
       "publish_time               6269\n",
       "tags                       6055\n",
       "views                     40478\n",
       "likes                     29850\n",
       "dislikes                   8516\n",
       "comment_count             13773\n",
       "thumbnail_link             6352\n",
       "comments_disabled             2\n",
       "ratings_disabled              2\n",
       "video_error_or_removed        2\n",
       "description                6901\n",
       "dtype: int64"
      ]
     },
     "execution_count": 8,
     "metadata": {},
     "output_type": "execute_result"
    }
   ],
   "source": [
    "data_df.nunique()"
   ]
  },
  {
   "cell_type": "code",
   "execution_count": 9,
   "metadata": {},
   "outputs": [
    {
     "data": {
      "text/plain": [
       "array(['2kyS6SvSYSE', '1ZAPwfrtAFY', '5qpjK5DgCt4', ..., '6h8QgZF5Qu4',\n",
       "       'mpnshdmtE2Y', 'yz7Xq3T0YPs'], dtype=object)"
      ]
     },
     "execution_count": 9,
     "metadata": {},
     "output_type": "execute_result"
    }
   ],
   "source": [
    "#check unique column video_id\n",
    "data_df['video_id'].unique()"
   ]
  },
  {
   "cell_type": "code",
   "execution_count": 10,
   "metadata": {},
   "outputs": [
    {
     "data": {
      "text/plain": [
       "array(['2017-11-13T17:13:01.000Z', '2017-11-13T07:30:00.000Z',\n",
       "       '2017-11-12T19:05:24.000Z', ..., '2018-06-13T05:27:27.000Z',\n",
       "       '2018-06-12T16:03:58.000Z', '2018-06-13T09:00:06.000Z'],\n",
       "      dtype=object)"
      ]
     },
     "execution_count": 10,
     "metadata": {},
     "output_type": "execute_result"
    }
   ],
   "source": [
    "#check unique column \n",
    "data_df['publish_time'].unique()"
   ]
  },
  {
   "cell_type": "markdown",
   "metadata": {},
   "source": [
    "## Cleaning Data"
   ]
  },
  {
   "cell_type": "code",
   "execution_count": 11,
   "metadata": {},
   "outputs": [
    {
     "data": {
      "text/plain": [
       "video_id                    0\n",
       "trending_date               0\n",
       "title                       0\n",
       "channel_title               0\n",
       "category_id                 0\n",
       "publish_time                0\n",
       "tags                        0\n",
       "views                       0\n",
       "likes                       0\n",
       "dislikes                    0\n",
       "comment_count               0\n",
       "thumbnail_link              0\n",
       "comments_disabled           0\n",
       "ratings_disabled            0\n",
       "video_error_or_removed      0\n",
       "description               570\n",
       "dtype: int64"
      ]
     },
     "execution_count": 11,
     "metadata": {},
     "output_type": "execute_result"
    }
   ],
   "source": [
    "#check for Null values\n",
    "data_df.isnull().sum()"
   ]
  },
  {
   "cell_type": "code",
   "execution_count": 12,
   "metadata": {},
   "outputs": [
    {
     "data": {
      "text/plain": [
       "(40901, 16)"
      ]
     },
     "execution_count": 12,
     "metadata": {},
     "output_type": "execute_result"
    }
   ],
   "source": [
    "#remove duplicates\n",
    "# data_df = data_df.drop_duplicates() runs the same number as withhout param\n",
    "data_df = data_df.drop_duplicates(subset=None, keep='first', inplace=False)\n",
    "data_df.shape\n"
   ]
  },
  {
   "cell_type": "code",
   "execution_count": 13,
   "metadata": {},
   "outputs": [],
   "source": [
    "# data_df = data_df.drop_duplicates(subset=None, keep='first', inplace=False)\n",
    "# data_df.shape"
   ]
  },
  {
   "cell_type": "code",
   "execution_count": 14,
   "metadata": {},
   "outputs": [
    {
     "data": {
      "text/html": [
       "<div>\n",
       "<style scoped>\n",
       "    .dataframe tbody tr th:only-of-type {\n",
       "        vertical-align: middle;\n",
       "    }\n",
       "\n",
       "    .dataframe tbody tr th {\n",
       "        vertical-align: top;\n",
       "    }\n",
       "\n",
       "    .dataframe thead th {\n",
       "        text-align: right;\n",
       "    }\n",
       "</style>\n",
       "<table border=\"1\" class=\"dataframe\">\n",
       "  <thead>\n",
       "    <tr style=\"text-align: right;\">\n",
       "      <th></th>\n",
       "      <th>Video ID</th>\n",
       "      <th>Total Views</th>\n",
       "      <th>Total Likes</th>\n",
       "      <th>Total Dislikes</th>\n",
       "      <th>Channel Title</th>\n",
       "      <th>Time Published</th>\n",
       "      <th>Trending Date</th>\n",
       "      <th>Number of Comments</th>\n",
       "    </tr>\n",
       "  </thead>\n",
       "  <tbody>\n",
       "    <tr>\n",
       "      <td>0</td>\n",
       "      <td>2kyS6SvSYSE</td>\n",
       "      <td>748374</td>\n",
       "      <td>57527</td>\n",
       "      <td>2966</td>\n",
       "      <td>CaseyNeistat</td>\n",
       "      <td>2017-11-13T17:13:01.000Z</td>\n",
       "      <td>17.14.11</td>\n",
       "      <td>15954</td>\n",
       "    </tr>\n",
       "    <tr>\n",
       "      <td>1</td>\n",
       "      <td>1ZAPwfrtAFY</td>\n",
       "      <td>2418783</td>\n",
       "      <td>97185</td>\n",
       "      <td>6146</td>\n",
       "      <td>LastWeekTonight</td>\n",
       "      <td>2017-11-13T07:30:00.000Z</td>\n",
       "      <td>17.14.11</td>\n",
       "      <td>12703</td>\n",
       "    </tr>\n",
       "    <tr>\n",
       "      <td>2</td>\n",
       "      <td>5qpjK5DgCt4</td>\n",
       "      <td>3191434</td>\n",
       "      <td>146033</td>\n",
       "      <td>5339</td>\n",
       "      <td>Rudy Mancuso</td>\n",
       "      <td>2017-11-12T19:05:24.000Z</td>\n",
       "      <td>17.14.11</td>\n",
       "      <td>8181</td>\n",
       "    </tr>\n",
       "    <tr>\n",
       "      <td>3</td>\n",
       "      <td>puqaWrEC7tY</td>\n",
       "      <td>343168</td>\n",
       "      <td>10172</td>\n",
       "      <td>666</td>\n",
       "      <td>Good Mythical Morning</td>\n",
       "      <td>2017-11-13T11:00:04.000Z</td>\n",
       "      <td>17.14.11</td>\n",
       "      <td>2146</td>\n",
       "    </tr>\n",
       "    <tr>\n",
       "      <td>4</td>\n",
       "      <td>d380meD0W0M</td>\n",
       "      <td>2095731</td>\n",
       "      <td>132235</td>\n",
       "      <td>1989</td>\n",
       "      <td>nigahiga</td>\n",
       "      <td>2017-11-12T18:01:41.000Z</td>\n",
       "      <td>17.14.11</td>\n",
       "      <td>17518</td>\n",
       "    </tr>\n",
       "    <tr>\n",
       "      <td>...</td>\n",
       "      <td>...</td>\n",
       "      <td>...</td>\n",
       "      <td>...</td>\n",
       "      <td>...</td>\n",
       "      <td>...</td>\n",
       "      <td>...</td>\n",
       "      <td>...</td>\n",
       "      <td>...</td>\n",
       "    </tr>\n",
       "    <tr>\n",
       "      <td>40944</td>\n",
       "      <td>BZt0qjTWNhw</td>\n",
       "      <td>1685609</td>\n",
       "      <td>38160</td>\n",
       "      <td>1385</td>\n",
       "      <td>AaronsAnimals</td>\n",
       "      <td>2018-05-18T13:00:04.000Z</td>\n",
       "      <td>18.14.06</td>\n",
       "      <td>2657</td>\n",
       "    </tr>\n",
       "    <tr>\n",
       "      <td>40945</td>\n",
       "      <td>1h7KV2sjUWY</td>\n",
       "      <td>1064798</td>\n",
       "      <td>60008</td>\n",
       "      <td>382</td>\n",
       "      <td>zefrank1</td>\n",
       "      <td>2018-05-18T01:00:06.000Z</td>\n",
       "      <td>18.14.06</td>\n",
       "      <td>3936</td>\n",
       "    </tr>\n",
       "    <tr>\n",
       "      <td>40946</td>\n",
       "      <td>D6Oy4LfoqsU</td>\n",
       "      <td>1066451</td>\n",
       "      <td>48068</td>\n",
       "      <td>1032</td>\n",
       "      <td>Brad Mondo</td>\n",
       "      <td>2018-05-18T17:34:22.000Z</td>\n",
       "      <td>18.14.06</td>\n",
       "      <td>3992</td>\n",
       "    </tr>\n",
       "    <tr>\n",
       "      <td>40947</td>\n",
       "      <td>oV0zkMe1K8s</td>\n",
       "      <td>5660813</td>\n",
       "      <td>192957</td>\n",
       "      <td>2846</td>\n",
       "      <td>How It Should Have Ended</td>\n",
       "      <td>2018-05-17T17:00:04.000Z</td>\n",
       "      <td>18.14.06</td>\n",
       "      <td>13088</td>\n",
       "    </tr>\n",
       "    <tr>\n",
       "      <td>40948</td>\n",
       "      <td>ooyjaVdt-jA</td>\n",
       "      <td>10306119</td>\n",
       "      <td>357079</td>\n",
       "      <td>212976</td>\n",
       "      <td>Call of Duty</td>\n",
       "      <td>2018-05-17T17:09:38.000Z</td>\n",
       "      <td>18.14.06</td>\n",
       "      <td>144795</td>\n",
       "    </tr>\n",
       "  </tbody>\n",
       "</table>\n",
       "<p>40901 rows × 8 columns</p>\n",
       "</div>"
      ],
      "text/plain": [
       "          Video ID  Total Views  Total Likes  Total Dislikes  \\\n",
       "0      2kyS6SvSYSE       748374        57527            2966   \n",
       "1      1ZAPwfrtAFY      2418783        97185            6146   \n",
       "2      5qpjK5DgCt4      3191434       146033            5339   \n",
       "3      puqaWrEC7tY       343168        10172             666   \n",
       "4      d380meD0W0M      2095731       132235            1989   \n",
       "...            ...          ...          ...             ...   \n",
       "40944  BZt0qjTWNhw      1685609        38160            1385   \n",
       "40945  1h7KV2sjUWY      1064798        60008             382   \n",
       "40946  D6Oy4LfoqsU      1066451        48068            1032   \n",
       "40947  oV0zkMe1K8s      5660813       192957            2846   \n",
       "40948  ooyjaVdt-jA     10306119       357079          212976   \n",
       "\n",
       "                  Channel Title            Time Published Trending Date  \\\n",
       "0                  CaseyNeistat  2017-11-13T17:13:01.000Z      17.14.11   \n",
       "1               LastWeekTonight  2017-11-13T07:30:00.000Z      17.14.11   \n",
       "2                  Rudy Mancuso  2017-11-12T19:05:24.000Z      17.14.11   \n",
       "3         Good Mythical Morning  2017-11-13T11:00:04.000Z      17.14.11   \n",
       "4                      nigahiga  2017-11-12T18:01:41.000Z      17.14.11   \n",
       "...                         ...                       ...           ...   \n",
       "40944             AaronsAnimals  2018-05-18T13:00:04.000Z      18.14.06   \n",
       "40945                  zefrank1  2018-05-18T01:00:06.000Z      18.14.06   \n",
       "40946                Brad Mondo  2018-05-18T17:34:22.000Z      18.14.06   \n",
       "40947  How It Should Have Ended  2018-05-17T17:00:04.000Z      18.14.06   \n",
       "40948              Call of Duty  2018-05-17T17:09:38.000Z      18.14.06   \n",
       "\n",
       "       Number of Comments  \n",
       "0                   15954  \n",
       "1                   12703  \n",
       "2                    8181  \n",
       "3                    2146  \n",
       "4                   17518  \n",
       "...                   ...  \n",
       "40944                2657  \n",
       "40945                3936  \n",
       "40946                3992  \n",
       "40947               13088  \n",
       "40948              144795  \n",
       "\n",
       "[40901 rows x 8 columns]"
      ]
     },
     "execution_count": 14,
     "metadata": {},
     "output_type": "execute_result"
    }
   ],
   "source": [
    "\n",
    "clean_df = data_df.rename(columns={\n",
    "                                    \"video_id\":\"Video ID\",\n",
    "                                    \"views\":\"Total Views\",\n",
    "                                    \"likes\":\"Total Likes\",\n",
    "                                    \"dislikes\":\"Total Dislikes\",\n",
    "                                    \"channel_title\":\"Channel Title\",\n",
    "                                    \"publish_time\":\"Time Published\",\n",
    "                                    \"trending_date\":\"Trending Date\",\n",
    "                                    \"comment_count\":\"Number of Comments\"\n",
    "                                   })\n",
    "\n",
    "clean_df.head()\n",
    "\n",
    "#create clean_df with columns of interest instead of dropping\n",
    "clean_df = clean_df[['Video ID','Total Views','Total Likes', 'Total Dislikes','Channel Title','Time Published','Trending Date','Number of Comments']] \n",
    "\n",
    "\n",
    "clean_df"
   ]
  },
  {
   "cell_type": "code",
   "execution_count": 15,
   "metadata": {},
   "outputs": [
    {
     "data": {
      "text/html": [
       "<div>\n",
       "<style scoped>\n",
       "    .dataframe tbody tr th:only-of-type {\n",
       "        vertical-align: middle;\n",
       "    }\n",
       "\n",
       "    .dataframe tbody tr th {\n",
       "        vertical-align: top;\n",
       "    }\n",
       "\n",
       "    .dataframe thead th {\n",
       "        text-align: right;\n",
       "    }\n",
       "</style>\n",
       "<table border=\"1\" class=\"dataframe\">\n",
       "  <thead>\n",
       "    <tr style=\"text-align: right;\">\n",
       "      <th></th>\n",
       "      <th>Video ID</th>\n",
       "      <th>Total Views</th>\n",
       "      <th>Total Likes</th>\n",
       "      <th>Total Dislikes</th>\n",
       "      <th>Channel Title</th>\n",
       "      <th>Time Published</th>\n",
       "      <th>Trending Date</th>\n",
       "      <th>Number of Comments</th>\n",
       "    </tr>\n",
       "  </thead>\n",
       "  <tbody>\n",
       "    <tr>\n",
       "      <td>16559</td>\n",
       "      <td>zzQsGL_F9_c</td>\n",
       "      <td>199041</td>\n",
       "      <td>1415</td>\n",
       "      <td>121</td>\n",
       "      <td>Budweiser</td>\n",
       "      <td>2018-01-30T18:30:04.000Z</td>\n",
       "      <td>18.06.02</td>\n",
       "      <td>62</td>\n",
       "    </tr>\n",
       "    <tr>\n",
       "      <td>144</td>\n",
       "      <td>zy0b9e40tK8</td>\n",
       "      <td>378750</td>\n",
       "      <td>5642</td>\n",
       "      <td>146</td>\n",
       "      <td>Netflix</td>\n",
       "      <td>2017-11-09T09:00:07.000Z</td>\n",
       "      <td>17.14.11</td>\n",
       "      <td>675</td>\n",
       "    </tr>\n",
       "    <tr>\n",
       "      <td>36944</td>\n",
       "      <td>zxwfDlhJIpw</td>\n",
       "      <td>8442986</td>\n",
       "      <td>166520</td>\n",
       "      <td>19462</td>\n",
       "      <td>Kanye West</td>\n",
       "      <td>2018-05-01T15:57:06.000Z</td>\n",
       "      <td>18.25.05</td>\n",
       "      <td>48467</td>\n",
       "    </tr>\n",
       "    <tr>\n",
       "      <td>1183</td>\n",
       "      <td>zxUwbflE1SY</td>\n",
       "      <td>225280</td>\n",
       "      <td>5770</td>\n",
       "      <td>150</td>\n",
       "      <td>Cut</td>\n",
       "      <td>2017-11-13T13:00:10.000Z</td>\n",
       "      <td>17.19.11</td>\n",
       "      <td>1312</td>\n",
       "    </tr>\n",
       "    <tr>\n",
       "      <td>27082</td>\n",
       "      <td>zwEn-ambXLw</td>\n",
       "      <td>190898</td>\n",
       "      <td>6731</td>\n",
       "      <td>113</td>\n",
       "      <td>Shoshana Bean</td>\n",
       "      <td>2018-03-22T08:30:07.000Z</td>\n",
       "      <td>18.31.03</td>\n",
       "      <td>292</td>\n",
       "    </tr>\n",
       "    <tr>\n",
       "      <td>...</td>\n",
       "      <td>...</td>\n",
       "      <td>...</td>\n",
       "      <td>...</td>\n",
       "      <td>...</td>\n",
       "      <td>...</td>\n",
       "      <td>...</td>\n",
       "      <td>...</td>\n",
       "      <td>...</td>\n",
       "    </tr>\n",
       "    <tr>\n",
       "      <td>584</td>\n",
       "      <td>-2RVw2_QyxQ</td>\n",
       "      <td>71089</td>\n",
       "      <td>460</td>\n",
       "      <td>27</td>\n",
       "      <td>Saint Louis Chess Club</td>\n",
       "      <td>2017-11-12T02:39:01.000Z</td>\n",
       "      <td>17.16.11</td>\n",
       "      <td>20</td>\n",
       "    </tr>\n",
       "    <tr>\n",
       "      <td>3237</td>\n",
       "      <td>-1yT-K3c6YI</td>\n",
       "      <td>198315</td>\n",
       "      <td>6950</td>\n",
       "      <td>184</td>\n",
       "      <td>Molly Burke</td>\n",
       "      <td>2017-11-28T18:30:43.000Z</td>\n",
       "      <td>17.30.11</td>\n",
       "      <td>735</td>\n",
       "    </tr>\n",
       "    <tr>\n",
       "      <td>31773</td>\n",
       "      <td>-1Hm41N0dUs</td>\n",
       "      <td>1882352</td>\n",
       "      <td>38165</td>\n",
       "      <td>530</td>\n",
       "      <td>Jimmy Kimmel Live</td>\n",
       "      <td>2018-04-27T07:30:02.000Z</td>\n",
       "      <td>18.30.04</td>\n",
       "      <td>1412</td>\n",
       "    </tr>\n",
       "    <tr>\n",
       "      <td>15457</td>\n",
       "      <td>-0NYY8cqdiQ</td>\n",
       "      <td>563746</td>\n",
       "      <td>4429</td>\n",
       "      <td>54</td>\n",
       "      <td>TheEllenShow</td>\n",
       "      <td>2018-01-29T14:00:39.000Z</td>\n",
       "      <td>18.01.02</td>\n",
       "      <td>94</td>\n",
       "    </tr>\n",
       "    <tr>\n",
       "      <td>40208</td>\n",
       "      <td>-0CMnp02rNY</td>\n",
       "      <td>800359</td>\n",
       "      <td>9773</td>\n",
       "      <td>332</td>\n",
       "      <td>TheEllenShow</td>\n",
       "      <td>2018-06-04T13:00:00.000Z</td>\n",
       "      <td>18.11.06</td>\n",
       "      <td>423</td>\n",
       "    </tr>\n",
       "  </tbody>\n",
       "</table>\n",
       "<p>6351 rows × 8 columns</p>\n",
       "</div>"
      ],
      "text/plain": [
       "          Video ID  Total Views  Total Likes  Total Dislikes  \\\n",
       "16559  zzQsGL_F9_c       199041         1415             121   \n",
       "144    zy0b9e40tK8       378750         5642             146   \n",
       "36944  zxwfDlhJIpw      8442986       166520           19462   \n",
       "1183   zxUwbflE1SY       225280         5770             150   \n",
       "27082  zwEn-ambXLw       190898         6731             113   \n",
       "...            ...          ...          ...             ...   \n",
       "584    -2RVw2_QyxQ        71089          460              27   \n",
       "3237   -1yT-K3c6YI       198315         6950             184   \n",
       "31773  -1Hm41N0dUs      1882352        38165             530   \n",
       "15457  -0NYY8cqdiQ       563746         4429              54   \n",
       "40208  -0CMnp02rNY       800359         9773             332   \n",
       "\n",
       "                Channel Title            Time Published Trending Date  \\\n",
       "16559               Budweiser  2018-01-30T18:30:04.000Z      18.06.02   \n",
       "144                   Netflix  2017-11-09T09:00:07.000Z      17.14.11   \n",
       "36944              Kanye West  2018-05-01T15:57:06.000Z      18.25.05   \n",
       "1183                      Cut  2017-11-13T13:00:10.000Z      17.19.11   \n",
       "27082           Shoshana Bean  2018-03-22T08:30:07.000Z      18.31.03   \n",
       "...                       ...                       ...           ...   \n",
       "584    Saint Louis Chess Club  2017-11-12T02:39:01.000Z      17.16.11   \n",
       "3237              Molly Burke  2017-11-28T18:30:43.000Z      17.30.11   \n",
       "31773       Jimmy Kimmel Live  2018-04-27T07:30:02.000Z      18.30.04   \n",
       "15457            TheEllenShow  2018-01-29T14:00:39.000Z      18.01.02   \n",
       "40208            TheEllenShow  2018-06-04T13:00:00.000Z      18.11.06   \n",
       "\n",
       "       Number of Comments  \n",
       "16559                  62  \n",
       "144                   675  \n",
       "36944               48467  \n",
       "1183                 1312  \n",
       "27082                 292  \n",
       "...                   ...  \n",
       "584                    20  \n",
       "3237                  735  \n",
       "31773                1412  \n",
       "15457                  94  \n",
       "40208                 423  \n",
       "\n",
       "[6351 rows x 8 columns]"
      ]
     },
     "execution_count": 15,
     "metadata": {},
     "output_type": "execute_result"
    }
   ],
   "source": [
    "# modifying clean_df/dropping duplicates\n",
    "\n",
    "clean_df = clean_df.sort_values([\"Video ID\", \"Trending Date\"], ascending=False)\n",
    "clean_df = clean_df.drop_duplicates(\"Video ID\", keep='first')\n",
    "clean_df"
   ]
  },
  {
   "cell_type": "markdown",
   "metadata": {},
   "source": [
    "## Analysis of Relationship and Visualization"
   ]
  },
  {
   "cell_type": "code",
   "execution_count": 16,
   "metadata": {},
   "outputs": [
    {
     "data": {
      "text/html": [
       "<div>\n",
       "<style scoped>\n",
       "    .dataframe tbody tr th:only-of-type {\n",
       "        vertical-align: middle;\n",
       "    }\n",
       "\n",
       "    .dataframe tbody tr th {\n",
       "        vertical-align: top;\n",
       "    }\n",
       "\n",
       "    .dataframe thead th {\n",
       "        text-align: right;\n",
       "    }\n",
       "</style>\n",
       "<table border=\"1\" class=\"dataframe\">\n",
       "  <thead>\n",
       "    <tr style=\"text-align: right;\">\n",
       "      <th></th>\n",
       "      <th>Channel Title</th>\n",
       "      <th>Total Likes</th>\n",
       "    </tr>\n",
       "  </thead>\n",
       "  <tbody>\n",
       "    <tr>\n",
       "      <td>2086</td>\n",
       "      <td>ibighit</td>\n",
       "      <td>21874432</td>\n",
       "    </tr>\n",
       "    <tr>\n",
       "      <td>540</td>\n",
       "      <td>Dude Perfect</td>\n",
       "      <td>6011089</td>\n",
       "    </tr>\n",
       "    <tr>\n",
       "      <td>1051</td>\n",
       "      <td>Logan Paul Vlogs</td>\n",
       "      <td>5602595</td>\n",
       "    </tr>\n",
       "    <tr>\n",
       "      <td>1513</td>\n",
       "      <td>SMTOWN</td>\n",
       "      <td>5489574</td>\n",
       "    </tr>\n",
       "    <tr>\n",
       "      <td>560</td>\n",
       "      <td>Ed Sheeran</td>\n",
       "      <td>4946088</td>\n",
       "    </tr>\n",
       "    <tr>\n",
       "      <td>358</td>\n",
       "      <td>ChildishGambinoVEVO</td>\n",
       "      <td>4934188</td>\n",
       "    </tr>\n",
       "    <tr>\n",
       "      <td>1126</td>\n",
       "      <td>Marvel Entertainment</td>\n",
       "      <td>4776729</td>\n",
       "    </tr>\n",
       "    <tr>\n",
       "      <td>2104</td>\n",
       "      <td>jypentertainment</td>\n",
       "      <td>4446336</td>\n",
       "    </tr>\n",
       "    <tr>\n",
       "      <td>1696</td>\n",
       "      <td>TaylorSwiftVEVO</td>\n",
       "      <td>4074263</td>\n",
       "    </tr>\n",
       "    <tr>\n",
       "      <td>1524</td>\n",
       "      <td>Safiya Nygaard</td>\n",
       "      <td>3248088</td>\n",
       "    </tr>\n",
       "    <tr>\n",
       "      <td>2003</td>\n",
       "      <td>YouTube Spotlight</td>\n",
       "      <td>3169051</td>\n",
       "    </tr>\n",
       "    <tr>\n",
       "      <td>572</td>\n",
       "      <td>EminemVEVO</td>\n",
       "      <td>3163933</td>\n",
       "    </tr>\n",
       "    <tr>\n",
       "      <td>110</td>\n",
       "      <td>ArianaGrandeVevo</td>\n",
       "      <td>2747322</td>\n",
       "    </tr>\n",
       "    <tr>\n",
       "      <td>1745</td>\n",
       "      <td>The Late Late Show with James Corden</td>\n",
       "      <td>2714896</td>\n",
       "    </tr>\n",
       "    <tr>\n",
       "      <td>1019</td>\n",
       "      <td>Lele Pons</td>\n",
       "      <td>2625255</td>\n",
       "    </tr>\n",
       "    <tr>\n",
       "      <td>1569</td>\n",
       "      <td>ShawnMendesVEVO</td>\n",
       "      <td>2584599</td>\n",
       "    </tr>\n",
       "    <tr>\n",
       "      <td>137</td>\n",
       "      <td>BANGTANTV</td>\n",
       "      <td>2482475</td>\n",
       "    </tr>\n",
       "    <tr>\n",
       "      <td>803</td>\n",
       "      <td>IISuperwomanII</td>\n",
       "      <td>2470579</td>\n",
       "    </tr>\n",
       "    <tr>\n",
       "      <td>1062</td>\n",
       "      <td>LuisFonsiVEVO</td>\n",
       "      <td>2376636</td>\n",
       "    </tr>\n",
       "    <tr>\n",
       "      <td>314</td>\n",
       "      <td>CamilaCabelloVEVO</td>\n",
       "      <td>2360486</td>\n",
       "    </tr>\n",
       "  </tbody>\n",
       "</table>\n",
       "</div>"
      ],
      "text/plain": [
       "                             Channel Title  Total Likes\n",
       "2086                               ibighit     21874432\n",
       "540                           Dude Perfect      6011089\n",
       "1051                      Logan Paul Vlogs      5602595\n",
       "1513                                SMTOWN      5489574\n",
       "560                             Ed Sheeran      4946088\n",
       "358                    ChildishGambinoVEVO      4934188\n",
       "1126                  Marvel Entertainment      4776729\n",
       "2104                      jypentertainment      4446336\n",
       "1696                       TaylorSwiftVEVO      4074263\n",
       "1524                        Safiya Nygaard      3248088\n",
       "2003                     YouTube Spotlight      3169051\n",
       "572                             EminemVEVO      3163933\n",
       "110                       ArianaGrandeVevo      2747322\n",
       "1745  The Late Late Show with James Corden      2714896\n",
       "1019                             Lele Pons      2625255\n",
       "1569                       ShawnMendesVEVO      2584599\n",
       "137                              BANGTANTV      2482475\n",
       "803                         IISuperwomanII      2470579\n",
       "1062                         LuisFonsiVEVO      2376636\n",
       "314                      CamilaCabelloVEVO      2360486"
      ]
     },
     "execution_count": 16,
     "metadata": {},
     "output_type": "execute_result"
    }
   ],
   "source": [
    "# pop channeles \n",
    "pop_channel= pd.DataFrame(clean_df.groupby(['Channel Title']).sum()[\"Total Likes\"])\n",
    "\n",
    "pop_channel = pop_channel.reset_index()\n",
    "\n",
    "pop_channel = pop_channel.sort_values(by =[\"Total Likes\"], ascending=False)\n",
    "\n",
    "pop_channel.head(20)"
   ]
  },
  {
   "cell_type": "code",
   "execution_count": 17,
   "metadata": {},
   "outputs": [
    {
     "data": {
      "text/html": [
       "<div>\n",
       "<style scoped>\n",
       "    .dataframe tbody tr th:only-of-type {\n",
       "        vertical-align: middle;\n",
       "    }\n",
       "\n",
       "    .dataframe tbody tr th {\n",
       "        vertical-align: top;\n",
       "    }\n",
       "\n",
       "    .dataframe thead th {\n",
       "        text-align: right;\n",
       "    }\n",
       "</style>\n",
       "<table border=\"1\" class=\"dataframe\">\n",
       "  <thead>\n",
       "    <tr style=\"text-align: right;\">\n",
       "      <th></th>\n",
       "      <th>Channel Title</th>\n",
       "      <th>Total Likes</th>\n",
       "    </tr>\n",
       "  </thead>\n",
       "  <tbody>\n",
       "    <tr>\n",
       "      <td>2086</td>\n",
       "      <td>ibighit</td>\n",
       "      <td>21874432</td>\n",
       "    </tr>\n",
       "    <tr>\n",
       "      <td>540</td>\n",
       "      <td>Dude Perfect</td>\n",
       "      <td>6011089</td>\n",
       "    </tr>\n",
       "    <tr>\n",
       "      <td>1051</td>\n",
       "      <td>Logan Paul Vlogs</td>\n",
       "      <td>5602595</td>\n",
       "    </tr>\n",
       "    <tr>\n",
       "      <td>1513</td>\n",
       "      <td>SMTOWN</td>\n",
       "      <td>5489574</td>\n",
       "    </tr>\n",
       "    <tr>\n",
       "      <td>560</td>\n",
       "      <td>Ed Sheeran</td>\n",
       "      <td>4946088</td>\n",
       "    </tr>\n",
       "    <tr>\n",
       "      <td>358</td>\n",
       "      <td>ChildishGambinoVEVO</td>\n",
       "      <td>4934188</td>\n",
       "    </tr>\n",
       "    <tr>\n",
       "      <td>1126</td>\n",
       "      <td>Marvel Entertainment</td>\n",
       "      <td>4776729</td>\n",
       "    </tr>\n",
       "    <tr>\n",
       "      <td>2104</td>\n",
       "      <td>jypentertainment</td>\n",
       "      <td>4446336</td>\n",
       "    </tr>\n",
       "    <tr>\n",
       "      <td>1696</td>\n",
       "      <td>TaylorSwiftVEVO</td>\n",
       "      <td>4074263</td>\n",
       "    </tr>\n",
       "    <tr>\n",
       "      <td>1524</td>\n",
       "      <td>Safiya Nygaard</td>\n",
       "      <td>3248088</td>\n",
       "    </tr>\n",
       "    <tr>\n",
       "      <td>2003</td>\n",
       "      <td>YouTube Spotlight</td>\n",
       "      <td>3169051</td>\n",
       "    </tr>\n",
       "    <tr>\n",
       "      <td>572</td>\n",
       "      <td>EminemVEVO</td>\n",
       "      <td>3163933</td>\n",
       "    </tr>\n",
       "    <tr>\n",
       "      <td>110</td>\n",
       "      <td>ArianaGrandeVevo</td>\n",
       "      <td>2747322</td>\n",
       "    </tr>\n",
       "    <tr>\n",
       "      <td>1745</td>\n",
       "      <td>The Late Late Show with James Corden</td>\n",
       "      <td>2714896</td>\n",
       "    </tr>\n",
       "    <tr>\n",
       "      <td>1019</td>\n",
       "      <td>Lele Pons</td>\n",
       "      <td>2625255</td>\n",
       "    </tr>\n",
       "  </tbody>\n",
       "</table>\n",
       "</div>"
      ],
      "text/plain": [
       "                             Channel Title  Total Likes\n",
       "2086                               ibighit     21874432\n",
       "540                           Dude Perfect      6011089\n",
       "1051                      Logan Paul Vlogs      5602595\n",
       "1513                                SMTOWN      5489574\n",
       "560                             Ed Sheeran      4946088\n",
       "358                    ChildishGambinoVEVO      4934188\n",
       "1126                  Marvel Entertainment      4776729\n",
       "2104                      jypentertainment      4446336\n",
       "1696                       TaylorSwiftVEVO      4074263\n",
       "1524                        Safiya Nygaard      3248088\n",
       "2003                     YouTube Spotlight      3169051\n",
       "572                             EminemVEVO      3163933\n",
       "110                       ArianaGrandeVevo      2747322\n",
       "1745  The Late Late Show with James Corden      2714896\n",
       "1019                             Lele Pons      2625255"
      ]
     },
     "execution_count": 17,
     "metadata": {},
     "output_type": "execute_result"
    }
   ],
   "source": [
    "#top 15/popular\n",
    "pop_channel = pop_channel.iloc[:15,:]\n",
    "pop_channel"
   ]
  },
  {
   "cell_type": "code",
   "execution_count": 18,
   "metadata": {},
   "outputs": [
    {
     "data": {
      "text/html": [
       "<div>\n",
       "<style scoped>\n",
       "    .dataframe tbody tr th:only-of-type {\n",
       "        vertical-align: middle;\n",
       "    }\n",
       "\n",
       "    .dataframe tbody tr th {\n",
       "        vertical-align: top;\n",
       "    }\n",
       "\n",
       "    .dataframe thead th {\n",
       "        text-align: right;\n",
       "    }\n",
       "</style>\n",
       "<table border=\"1\" class=\"dataframe\">\n",
       "  <thead>\n",
       "    <tr style=\"text-align: right;\">\n",
       "      <th></th>\n",
       "      <th>Channel Title</th>\n",
       "      <th>Total Dislikes</th>\n",
       "    </tr>\n",
       "  </thead>\n",
       "  <tbody>\n",
       "    <tr>\n",
       "      <td>1051</td>\n",
       "      <td>Logan Paul Vlogs</td>\n",
       "      <td>2594411</td>\n",
       "    </tr>\n",
       "    <tr>\n",
       "      <td>2003</td>\n",
       "      <td>YouTube Spotlight</td>\n",
       "      <td>1772032</td>\n",
       "    </tr>\n",
       "    <tr>\n",
       "      <td>2086</td>\n",
       "      <td>ibighit</td>\n",
       "      <td>362746</td>\n",
       "    </tr>\n",
       "    <tr>\n",
       "      <td>358</td>\n",
       "      <td>ChildishGambinoVEVO</td>\n",
       "      <td>335462</td>\n",
       "    </tr>\n",
       "    <tr>\n",
       "      <td>2104</td>\n",
       "      <td>jypentertainment</td>\n",
       "      <td>258775</td>\n",
       "    </tr>\n",
       "    <tr>\n",
       "      <td>307</td>\n",
       "      <td>Call of Duty</td>\n",
       "      <td>238315</td>\n",
       "    </tr>\n",
       "    <tr>\n",
       "      <td>454</td>\n",
       "      <td>Daily Caller</td>\n",
       "      <td>228426</td>\n",
       "    </tr>\n",
       "    <tr>\n",
       "      <td>1696</td>\n",
       "      <td>TaylorSwiftVEVO</td>\n",
       "      <td>226964</td>\n",
       "    </tr>\n",
       "    <tr>\n",
       "      <td>1078</td>\n",
       "      <td>MLG Highlights</td>\n",
       "      <td>181112</td>\n",
       "    </tr>\n",
       "    <tr>\n",
       "      <td>944</td>\n",
       "      <td>KatyPerryVEVO</td>\n",
       "      <td>167712</td>\n",
       "    </tr>\n",
       "    <tr>\n",
       "      <td>1958</td>\n",
       "      <td>Washington Post</td>\n",
       "      <td>159360</td>\n",
       "    </tr>\n",
       "    <tr>\n",
       "      <td>572</td>\n",
       "      <td>EminemVEVO</td>\n",
       "      <td>153365</td>\n",
       "    </tr>\n",
       "    <tr>\n",
       "      <td>301</td>\n",
       "      <td>CNN</td>\n",
       "      <td>152628</td>\n",
       "    </tr>\n",
       "    <tr>\n",
       "      <td>1019</td>\n",
       "      <td>Lele Pons</td>\n",
       "      <td>148302</td>\n",
       "    </tr>\n",
       "    <tr>\n",
       "      <td>540</td>\n",
       "      <td>Dude Perfect</td>\n",
       "      <td>147580</td>\n",
       "    </tr>\n",
       "    <tr>\n",
       "      <td>847</td>\n",
       "      <td>Jake Paul</td>\n",
       "      <td>145469</td>\n",
       "    </tr>\n",
       "    <tr>\n",
       "      <td>1936</td>\n",
       "      <td>Vox</td>\n",
       "      <td>135051</td>\n",
       "    </tr>\n",
       "    <tr>\n",
       "      <td>1608</td>\n",
       "      <td>Sony Pictures Entertainment</td>\n",
       "      <td>133968</td>\n",
       "    </tr>\n",
       "    <tr>\n",
       "      <td>1104</td>\n",
       "      <td>MalumaVEVO</td>\n",
       "      <td>132543</td>\n",
       "    </tr>\n",
       "    <tr>\n",
       "      <td>1955</td>\n",
       "      <td>Warner Bros. Pictures</td>\n",
       "      <td>123060</td>\n",
       "    </tr>\n",
       "  </tbody>\n",
       "</table>\n",
       "</div>"
      ],
      "text/plain": [
       "                    Channel Title  Total Dislikes\n",
       "1051             Logan Paul Vlogs         2594411\n",
       "2003            YouTube Spotlight         1772032\n",
       "2086                      ibighit          362746\n",
       "358           ChildishGambinoVEVO          335462\n",
       "2104             jypentertainment          258775\n",
       "307                  Call of Duty          238315\n",
       "454                  Daily Caller          228426\n",
       "1696              TaylorSwiftVEVO          226964\n",
       "1078               MLG Highlights          181112\n",
       "944                 KatyPerryVEVO          167712\n",
       "1958              Washington Post          159360\n",
       "572                    EminemVEVO          153365\n",
       "301                           CNN          152628\n",
       "1019                    Lele Pons          148302\n",
       "540                  Dude Perfect          147580\n",
       "847                     Jake Paul          145469\n",
       "1936                          Vox          135051\n",
       "1608  Sony Pictures Entertainment          133968\n",
       "1104                   MalumaVEVO          132543\n",
       "1955        Warner Bros. Pictures          123060"
      ]
     },
     "execution_count": 18,
     "metadata": {},
     "output_type": "execute_result"
    }
   ],
   "source": [
    "#top 15/disliked\n",
    "disl_channel= pd.DataFrame(clean_df.groupby(['Channel Title']).sum()[\"Total Dislikes\"])\n",
    "\n",
    "disl_channel = disl_channel.reset_index()\n",
    "\n",
    "disl_channel = disl_channel.sort_values(by =[\"Total Dislikes\"], ascending=False)\n",
    "\n",
    "disl_channel.head(20)"
   ]
  },
  {
   "cell_type": "code",
   "execution_count": 19,
   "metadata": {},
   "outputs": [
    {
     "data": {
      "text/html": [
       "<div>\n",
       "<style scoped>\n",
       "    .dataframe tbody tr th:only-of-type {\n",
       "        vertical-align: middle;\n",
       "    }\n",
       "\n",
       "    .dataframe tbody tr th {\n",
       "        vertical-align: top;\n",
       "    }\n",
       "\n",
       "    .dataframe thead th {\n",
       "        text-align: right;\n",
       "    }\n",
       "</style>\n",
       "<table border=\"1\" class=\"dataframe\">\n",
       "  <thead>\n",
       "    <tr style=\"text-align: right;\">\n",
       "      <th></th>\n",
       "      <th>Channel Title</th>\n",
       "      <th>Total Dislikes</th>\n",
       "    </tr>\n",
       "  </thead>\n",
       "  <tbody>\n",
       "    <tr>\n",
       "      <td>1051</td>\n",
       "      <td>Logan Paul Vlogs</td>\n",
       "      <td>2594411</td>\n",
       "    </tr>\n",
       "    <tr>\n",
       "      <td>2003</td>\n",
       "      <td>YouTube Spotlight</td>\n",
       "      <td>1772032</td>\n",
       "    </tr>\n",
       "    <tr>\n",
       "      <td>2086</td>\n",
       "      <td>ibighit</td>\n",
       "      <td>362746</td>\n",
       "    </tr>\n",
       "    <tr>\n",
       "      <td>358</td>\n",
       "      <td>ChildishGambinoVEVO</td>\n",
       "      <td>335462</td>\n",
       "    </tr>\n",
       "    <tr>\n",
       "      <td>2104</td>\n",
       "      <td>jypentertainment</td>\n",
       "      <td>258775</td>\n",
       "    </tr>\n",
       "    <tr>\n",
       "      <td>307</td>\n",
       "      <td>Call of Duty</td>\n",
       "      <td>238315</td>\n",
       "    </tr>\n",
       "    <tr>\n",
       "      <td>454</td>\n",
       "      <td>Daily Caller</td>\n",
       "      <td>228426</td>\n",
       "    </tr>\n",
       "    <tr>\n",
       "      <td>1696</td>\n",
       "      <td>TaylorSwiftVEVO</td>\n",
       "      <td>226964</td>\n",
       "    </tr>\n",
       "    <tr>\n",
       "      <td>1078</td>\n",
       "      <td>MLG Highlights</td>\n",
       "      <td>181112</td>\n",
       "    </tr>\n",
       "    <tr>\n",
       "      <td>944</td>\n",
       "      <td>KatyPerryVEVO</td>\n",
       "      <td>167712</td>\n",
       "    </tr>\n",
       "    <tr>\n",
       "      <td>1958</td>\n",
       "      <td>Washington Post</td>\n",
       "      <td>159360</td>\n",
       "    </tr>\n",
       "    <tr>\n",
       "      <td>572</td>\n",
       "      <td>EminemVEVO</td>\n",
       "      <td>153365</td>\n",
       "    </tr>\n",
       "    <tr>\n",
       "      <td>301</td>\n",
       "      <td>CNN</td>\n",
       "      <td>152628</td>\n",
       "    </tr>\n",
       "    <tr>\n",
       "      <td>1019</td>\n",
       "      <td>Lele Pons</td>\n",
       "      <td>148302</td>\n",
       "    </tr>\n",
       "    <tr>\n",
       "      <td>540</td>\n",
       "      <td>Dude Perfect</td>\n",
       "      <td>147580</td>\n",
       "    </tr>\n",
       "  </tbody>\n",
       "</table>\n",
       "</div>"
      ],
      "text/plain": [
       "            Channel Title  Total Dislikes\n",
       "1051     Logan Paul Vlogs         2594411\n",
       "2003    YouTube Spotlight         1772032\n",
       "2086              ibighit          362746\n",
       "358   ChildishGambinoVEVO          335462\n",
       "2104     jypentertainment          258775\n",
       "307          Call of Duty          238315\n",
       "454          Daily Caller          228426\n",
       "1696      TaylorSwiftVEVO          226964\n",
       "1078       MLG Highlights          181112\n",
       "944         KatyPerryVEVO          167712\n",
       "1958      Washington Post          159360\n",
       "572            EminemVEVO          153365\n",
       "301                   CNN          152628\n",
       "1019            Lele Pons          148302\n",
       "540          Dude Perfect          147580"
      ]
     },
     "execution_count": 19,
     "metadata": {},
     "output_type": "execute_result"
    }
   ],
   "source": [
    "disl_channel = disl_channel.iloc[:15,:]\n",
    "disl_channel"
   ]
  },
  {
   "cell_type": "code",
   "execution_count": 44,
   "metadata": {},
   "outputs": [
    {
     "data": {
      "image/png": "[encoded data removed]",
      "text/plain": [
       "<Figure size 432x288 with 1 Axes>"
      ]
     },
     "metadata": {
      "needs_background": "light"
     },
     "output_type": "display_data"
    }
   ],
   "source": [
    "#most liked channel\n",
    "ax = sns.barplot(x=\"Channel Title\", y=\"Total Likes\", data=pop_channel,\n",
    "                 palette=(\"Reds_r\"))\n",
    "plt.xticks (rotation=90)\n",
    "plt.savefig(\"output_data/total_likes_vs_pop_channels.png\")\n"
   ]
  },
  {
   "cell_type": "code",
   "execution_count": 45,
   "metadata": {},
   "outputs": [
    {
     "data": {
      "image/png": "[encoded data removed]",
      "text/plain": [
       "<Figure size 432x288 with 1 Axes>"
      ]
     },
     "metadata": {
      "needs_background": "light"
     },
     "output_type": "display_data"
    }
   ],
   "source": [
    "#most disliked channel\n",
    "ax = sns.barplot(x=\"Channel Title\", y=\"Total Dislikes\", data=disl_channel,\n",
    "                 palette=(\"Blues_d\"))\n",
    "plt.xticks (rotation=90)\n",
    "plt.savefig(\"output_data/total_dislikes_vs_pop_channels.png\")"
   ]
  },
  {
   "cell_type": "code",
   "execution_count": 43,
   "metadata": {},
   "outputs": [
    {
     "data": {
      "image/png": "[encoded data removed]",
      "text/plain": [
       "<Figure size 1080x720 with 2 Axes>"
      ]
     },
     "metadata": {
      "needs_background": "light"
     },
     "output_type": "display_data"
    }
   ],
   "source": [
    "#correlation matrix between variables using pandas, matplotlib, seaborn\n",
    "#sns.heatmap(corelation, xticklabels=corelation.columns, yticklabels=corelation.columns, annot=True, annot_kws={'size':10}, linewidth=2, cmap= \"BuPu\") to change to purple\n",
    "corelation = clean_df.corr()\n",
    "\n",
    "fig, ax = plt.subplots(figsize=(15,10))\n",
    "sns.heatmap(corelation, xticklabels=corelation.columns, yticklabels=corelation.columns, annot=True, \n",
    "            annot_kws={'size':10}, linewidth=2)\n",
    "ax.set_ylim([0,4])\n",
    "plt.savefig(\"output_data/heatmap.png\")"
   ]
  },
  {
   "cell_type": "code",
   "execution_count": 23,
   "metadata": {},
   "outputs": [],
   "source": [
    "# #loads directly from the file/ choose to come back and work on it later\n",
    "# light_to_dart = sns.load_dataset(USvideos)\n",
    "# light_to_dark = light_to_dark.pivot(\"Total Likes\", \"Total Views\", \"Time Published\")\n",
    "# ax = sns.heatmap(USvideos)"
   ]
  },
  {
   "cell_type": "code",
   "execution_count": 24,
   "metadata": {},
   "outputs": [
    {
     "data": {
      "text/html": [
       "<div>\n",
       "<style scoped>\n",
       "    .dataframe tbody tr th:only-of-type {\n",
       "        vertical-align: middle;\n",
       "    }\n",
       "\n",
       "    .dataframe tbody tr th {\n",
       "        vertical-align: top;\n",
       "    }\n",
       "\n",
       "    .dataframe thead th {\n",
       "        text-align: right;\n",
       "    }\n",
       "</style>\n",
       "<table border=\"1\" class=\"dataframe\">\n",
       "  <thead>\n",
       "    <tr style=\"text-align: right;\">\n",
       "      <th></th>\n",
       "      <th>Total Views</th>\n",
       "      <th>Total Likes</th>\n",
       "      <th>Total Dislikes</th>\n",
       "    </tr>\n",
       "  </thead>\n",
       "  <tbody>\n",
       "    <tr>\n",
       "      <td>Total Views</td>\n",
       "      <td>1.000000</td>\n",
       "      <td>0.833698</td>\n",
       "      <td>0.469434</td>\n",
       "    </tr>\n",
       "    <tr>\n",
       "      <td>Total Likes</td>\n",
       "      <td>0.833698</td>\n",
       "      <td>1.000000</td>\n",
       "      <td>0.421076</td>\n",
       "    </tr>\n",
       "    <tr>\n",
       "      <td>Total Dislikes</td>\n",
       "      <td>0.469434</td>\n",
       "      <td>0.421076</td>\n",
       "      <td>1.000000</td>\n",
       "    </tr>\n",
       "  </tbody>\n",
       "</table>\n",
       "</div>"
      ],
      "text/plain": [
       "                Total Views  Total Likes  Total Dislikes\n",
       "Total Views        1.000000     0.833698        0.469434\n",
       "Total Likes        0.833698     1.000000        0.421076\n",
       "Total Dislikes     0.469434     0.421076        1.000000"
      ]
     },
     "execution_count": 24,
     "metadata": {},
     "output_type": "execute_result"
    }
   ],
   "source": [
    "#correlation matrix table\n",
    "columns = [\"Total Views\", \"Total Likes\", \"Total Dislikes\"]\n",
    "corr_matrix = clean_df[columns].corr()\n",
    "corr_matrix"
   ]
  },
  {
   "cell_type": "code",
   "execution_count": 25,
   "metadata": {},
   "outputs": [],
   "source": [
    "# circle plot choose to come back and work on it later \n",
    "\n",
    "# sns.set(style=\"white\")\n",
    "# random_state=np.randomState(10)        \n",
    "# # mean=[ , ]\n",
    "# # cov=[(  ,  ), (.   ,  )]\n",
    "# x, y = rs.multivariate_normal(mean, cov, 500).T\n",
    "\n",
    "# x= pd.Series(x,name = \"xx\")\n",
    "# y= pd.Series(y, name = \"oo\")\n",
    "\n",
    "# thisplot =sns.jointplot(x=\"Total Dislikes\", y=\"Total Likes\", kind=\"kde\", size=7, space=0,)"
   ]
  },
  {
   "cell_type": "code",
   "execution_count": 56,
   "metadata": {},
   "outputs": [
    {
     "data": {
      "image/png": "[encoded data removed]",
      "text/plain": [
       "<Figure size 720x720 with 20 Axes>"
      ]
     },
     "metadata": {
      "needs_background": "light"
     },
     "output_type": "display_data"
    }
   ],
   "source": [
    "#relationship between two variables\n",
    "sns.pairplot(clean_df)\n",
    "plt.savefig(\"output_data/two_var_relationship.png\")"
   ]
  },
  {
   "cell_type": "code",
   "execution_count": 57,
   "metadata": {},
   "outputs": [
    {
     "data": {
      "image/png": "[encoded data removed]",
      "text/plain": [
       "<Figure size 462.734x360 with 1 Axes>"
      ]
     },
     "metadata": {
      "needs_background": "light"
     },
     "output_type": "display_data"
    }
   ],
   "source": [
    "#scatterplot views vs likes\n",
    "sns.color_palette(\"Blues\")\n",
    "sns.relplot(x=\"Total Views\", y=\"Total Likes\", hue=\"Total Dislikes\", data=clean_df)\n",
    "plt.savefig(\"output_data/total_views_total_likes_total_disl.png\")"
   ]
  },
  {
   "cell_type": "code",
   "execution_count": 28,
   "metadata": {},
   "outputs": [],
   "source": [
    "# #scatterplot \n",
    "# sns.relplot(x=\"Total Views\", y=\"Total Likes\" ,hue=\"Time Published\", data=clean_df)\n",
    "# sns.set(style=\"darkgrid\")\n",
    "# sns.relplot(x=\"Total Views\", y=\"Total Likes\" ,hue=\"Time Published\",size=\"size\", sizes=(15, 200), data=clean_df)\n"
   ]
  },
  {
   "cell_type": "code",
   "execution_count": 58,
   "metadata": {},
   "outputs": [
    {
     "data": {
      "image/png": "[encoded data removed]",
      "text/plain": [
       "<Figure size 449.484x360 with 1 Axes>"
      ]
     },
     "metadata": {
      "needs_background": "light"
     },
     "output_type": "display_data"
    }
   ],
   "source": [
    "#scatterplot \n",
    "sns.relplot(x=\"Total Views\", y=\"Total Dislikes\" ,hue=\"Total Likes\", data=clean_df)\n",
    "plt.savefig(\"output_data/total_views_disl_total_likes.png\")"
   ]
  },
  {
   "cell_type": "code",
   "execution_count": 59,
   "metadata": {},
   "outputs": [
    {
     "data": {
      "image/png": "[encoded data removed]",
      "text/plain": [
       "<Figure size 505.625x360 with 1 Axes>"
      ]
     },
     "metadata": {
      "needs_background": "light"
     },
     "output_type": "display_data"
    }
   ],
   "source": [
    "# #scatterplot \n",
    "sns.relplot(x=\"Total Views\", y=\"Total Dislikes\" ,hue=\"Number of Comments\", data=clean_df)\n",
    "plt.savefig(\"output_data/total_views_disl_comments.png\")"
   ]
  },
  {
   "cell_type": "code",
   "execution_count": 60,
   "metadata": {},
   "outputs": [
    {
     "data": {
      "image/png": "[encoded data removed]",
      "text/plain": [
       "<Figure size 432x288 with 1 Axes>"
      ]
     },
     "metadata": {
      "needs_background": "light"
     },
     "output_type": "display_data"
    }
   ],
   "source": [
    "#histogram for ranges\n",
    "sns.distplot(clean_df['Total Views'], bins=1)\n",
    "plt.savefig(\"output_data/total_views_distplot.png\")"
   ]
  },
  {
   "cell_type": "code",
   "execution_count": 61,
   "metadata": {},
   "outputs": [
    {
     "data": {
      "image/png": "[encoded data removed]",
      "text/plain": [
       "<Figure size 432x288 with 1 Axes>"
      ]
     },
     "metadata": {
      "needs_background": "light"
     },
     "output_type": "display_data"
    }
   ],
   "source": [
    "#histogram for ranges\n",
    "sns.distplot(clean_df['Total Likes'], bins=1)\n",
    "plt.savefig(\"output_data/total_likes_distplot.png\")"
   ]
  },
  {
   "cell_type": "code",
   "execution_count": 62,
   "metadata": {},
   "outputs": [
    {
     "data": {
      "image/png": "[encoded data removed]",
      "text/plain": [
       "<Figure size 432x288 with 1 Axes>"
      ]
     },
     "metadata": {
      "needs_background": "light"
     },
     "output_type": "display_data"
    }
   ],
   "source": [
    "#histogram for ranges\n",
    "sns.distplot(clean_df['Total Dislikes'], bins=1)\n",
    "plt.savefig(\"output_data/total_disl_distplot.png\")"
   ]
  },
  {
   "cell_type": "code",
   "execution_count": 63,
   "metadata": {},
   "outputs": [
    {
     "data": {
      "image/png": "[encoded data removed]",
      "text/plain": [
       "<Figure size 360x360 with 1 Axes>"
      ]
     },
     "metadata": {
      "needs_background": "light"
     },
     "output_type": "display_data"
    }
   ],
   "source": [
    "sns.catplot(x='Total Likes', kind='box',data= clean_df)\n",
    "plt.savefig(\"output_data/total_likes.png\")"
   ]
  },
  {
   "cell_type": "code",
   "execution_count": 64,
   "metadata": {},
   "outputs": [
    {
     "data": {
      "image/png": "[encoded data removed]",
      "text/plain": [
       "<Figure size 360x360 with 1 Axes>"
      ]
     },
     "metadata": {
      "needs_background": "light"
     },
     "output_type": "display_data"
    }
   ],
   "source": [
    "sns.catplot(x='Total Views', kind='box',data= clean_df)\n",
    "plt.savefig(\"output_data/total_views.png\")"
   ]
  },
  {
   "cell_type": "code",
   "execution_count": 65,
   "metadata": {},
   "outputs": [
    {
     "data": {
      "image/png": "[encoded data removed]",
      "text/plain": [
       "<Figure size 360x360 with 1 Axes>"
      ]
     },
     "metadata": {
      "needs_background": "light"
     },
     "output_type": "display_data"
    }
   ],
   "source": [
    "sns.catplot(x='Total Dislikes', kind='box',data= clean_df)\n",
    "plt.savefig(\"output_data/total_disl.png\")"
   ]
  },
  {
   "cell_type": "code",
   "execution_count": 68,
   "metadata": {},
   "outputs": [
    {
     "data": {
      "image/png": "[encoded data removed]",
      "text/plain": [
       "<Figure size 432x288 with 1 Axes>"
      ]
     },
     "metadata": {
      "needs_background": "light"
     },
     "output_type": "display_data"
    }
   ],
   "source": [
    "# Plot View versus likes            \n",
    "x_values = clean_df[\"Total Views\"]\n",
    "y_values = clean_df['Total Likes']\n",
    "plt.scatter(x_values,y_values)\n",
    "plt.title(\"Total Views vs. Total Likes\")\n",
    "plt.xlabel('Total Veiws')\n",
    "plt.ylabel('Total Likes')\n",
    "plt.savefig(\"output_data/views_vs_likes.png\")\n",
    "plt.show()\n"
   ]
  },
  {
   "cell_type": "code",
   "execution_count": 69,
   "metadata": {},
   "outputs": [],
   "source": [
    "# Create a function to create Linear Regression plots\n",
    "\n",
    "def linearplot(x_values,y_values,y_label, coor):\n",
    "    \n",
    "\n",
    "    print(f\"The r-squared is: {round(st.pearsonr(x_values, y_values)[0],2)}\")\n",
    "    \n",
    "    (slope, intercept, rvalue, pvalue, stderr) = linregress(x_values, y_values)\n",
    "    regress_values = x_values * slope + intercept\n",
    "    line_eq = \"y = \" + str(round(slope,2)) + \"x + \" + str(round(intercept,2))\n",
    "    plt.scatter(x_values,y_values)\n",
    "    plt.plot(x_values,regress_values,\"r-\")\n",
    "    plt.annotate(line_eq,coor,fontsize=15,color=\"red\")\n",
    " \n",
    "    plt.xlabel('Total Views')\n",
    "    plt.ylabel(y_label)"
   ]
  },
  {
   "cell_type": "code",
   "execution_count": 70,
   "metadata": {},
   "outputs": [
    {
     "name": "stdout",
     "output_type": "stream",
     "text": [
      "The r-squared is: 0.83\n"
     ]
    },
    {
     "data": {
      "image/png": "[encoded data removed]",
      "text/plain": [
       "<Figure size 432x288 with 1 Axes>"
      ]
     },
     "metadata": {
      "needs_background": "light"
     },
     "output_type": "display_data"
    }
   ],
   "source": [
    "x_values= clean_df[\"Total Views\"]\n",
    "y_values= clean_df[\"Total Likes\"]\n",
    "linearplot(x_values, y_values, \"Total Likes\", (1.5,4000000))\n",
    "\n",
    "plt.savefig(\"output_data/total_views_vs_ total_likes_regr.png\")\n",
    "plt.show()"
   ]
  },
  {
   "cell_type": "code",
   "execution_count": 71,
   "metadata": {},
   "outputs": [
    {
     "data": {
      "image/png": "[encoded data removed]",
      "text/plain": [
       "<Figure size 432x288 with 1 Axes>"
      ]
     },
     "metadata": {
      "needs_background": "light"
     },
     "output_type": "display_data"
    }
   ],
   "source": [
    "# Plot View versus likes            \n",
    "x_values = clean_df[\"Total Views\"]\n",
    "y_values = clean_df['Total Dislikes']\n",
    "plt.scatter(x_values,y_values)\n",
    "plt.title(\"Total Views vs. Total Disikes\")\n",
    "plt.xlabel('Total Veiws')\n",
    "plt.ylabel('Total Disikes')\n",
    "plt.savefig(\"output_data/total_views_vs_total dislikes.png\")\n",
    "plt.show()"
   ]
  },
  {
   "cell_type": "code",
   "execution_count": 72,
   "metadata": {},
   "outputs": [],
   "source": [
    "# Create a function to create Linear Regression plots\n",
    "\n",
    "def linearplot(x_values,y_values,y_label, coor):\n",
    "    \n",
    "\n",
    "    print(f\"The r-squared is: {round(st.pearsonr(x_values, y_values)[0],2)}\")\n",
    "    \n",
    "    (slope, intercept, rvalue, pvalue, stderr) = linregress(x_values, y_values)\n",
    "    regress_values = x_values * slope + intercept\n",
    "    line_eq = \"y = \" + str(round(slope,2)) + \"x + \" + str(round(intercept,2))\n",
    "    plt.scatter(x_values,y_values)\n",
    "    plt.plot(x_values,regress_values,\"r-\")\n",
    "    plt.annotate(line_eq,coor,fontsize=15,color=\"red\")\n",
    " \n",
    "    plt.xlabel('Total Views')\n",
    "    plt.ylabel(y_label)"
   ]
  },
  {
   "cell_type": "code",
   "execution_count": 73,
   "metadata": {},
   "outputs": [
    {
     "name": "stdout",
     "output_type": "stream",
     "text": [
      "The r-squared is: 0.47\n"
     ]
    },
    {
     "data": {
      "image/png": "[encoded data removed]",
      "text/plain": [
       "<Figure size 432x288 with 1 Axes>"
      ]
     },
     "metadata": {
      "needs_background": "light"
     },
     "output_type": "display_data"
    }
   ],
   "source": [
    "x_values= clean_df[\"Total Views\"]\n",
    "y_values= clean_df[\"Total Dislikes\"]\n",
    "linearplot(x_values, y_values, \"Total Dislikes\", (10,750000))\n",
    "\n",
    "plt.savefig(\"output_data/total_views_vs_total_likes_regr.png\")\n",
    "plt.show()"
   ]
  }
 ],
 "metadata": {
  "kernelspec": {
   "display_name": "Python 3",
   "language": "python",
   "name": "python3"
  },
  "language_info": {
   "codemirror_mode": {
    "name": "ipython",
    "version": 3
   },
   "file_extension": ".py",
   "mimetype": "text/x-python",
   "name": "python",
   "nbconvert_exporter": "python",
   "pygments_lexer": "ipython3",
   "version": "3.7.4"
  }
 },
 "nbformat": 4,
 "nbformat_minor": 2
}
