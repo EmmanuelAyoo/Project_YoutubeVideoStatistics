{
 "cells": [
  {
   "cell_type": "code",
   "execution_count": null,
   "metadata": {},
   "outputs": [],
   "source": [
    "# Generate a summary statistics table of mean, median, variance, standard deviation, and SEM of the tumor volume for each regimen\n",
    "# This method is the most straightforward, creating multiple series and putting them all together at the end.\n",
    "\n",
    "\n",
    "mean_value= merged_data_df.groupby(\"Drug Regimen\")[\"Tumor Volume (mm3)\"].mean()                                 \n",
    "median_value= merged_data_df.groupby(\"Drug Regimen\")[\"Tumor Volume (mm3)\"].median()\n",
    "var_value= merged_data_df.groupby(\"Drug Regimen\")[\"Tumor Volume (mm3)\"].var()\n",
    "std_value= merged_data_df.groupby(\"Drug Regimen\")[\"Tumor Volume (mm3)\"].std()\n",
    "sem_value= merged_data_df.groupby(\"Drug Regimen\")[\"Tumor Volume (mm3)\"].sem()\n",
    "           \n",
    "summary_st =pd.DataFrame({\n",
    "    \n",
    "    \"Mean Tumor Volume\": mean_value,\n",
    "    \"Median Tumor Volume\": median_value,\n",
    "    \"Tumor Volume Variance\": var_value,\n",
    "    \"Tumor Volume Std. Dev.\": std_value,\n",
    "    \"Tumor Volume Std. Err.\" : sem_value\n",
    "})  \n",
    "    \n",
    "    \n",
    "summary_st"
   ]
  },
  {
   "cell_type": "code",
   "execution_count": null,
   "metadata": {},
   "outputs": [],
   "source": [
    "# Generate a line plot of time point versus tumor volume for a mouse treated with Capomulin\n",
    "\n",
    "line_plot_df = merged_data_df.loc[merged_data_df[\"Mouse ID\"]== \"l509\",:]\n",
    "\n",
    "x_axis = line_plot_df[\"Timepoint\"]\n",
    "y_axis = line_plot_df[\"Tumor Volume (mm3)\"]\n",
    "\n",
    "plt.plot(x_axis, y_axis)\n",
    "\n",
    "\n",
    "plt.xlabel(\"Timepoint (days)\")\n",
    "plt.ylabel(\"Tumor Volume (mm3)\")\n",
    "plt.title(\"Capomulin treatment of mouse l509\")\n",
    "plt.savefig(\"lineplot\")\n",
    "plt.show()"
   ]
  },
  {
   "cell_type": "code",
   "execution_count": null,
   "metadata": {},
   "outputs": [],
   "source": [
    "# Generate a bar plot showing the number of mice per time point for each treatment throughout the course of the study using pandas.\n",
    "#using pandas\n",
    "\n",
    "mice_count= merged_data_df[\"Drug Regimen\"].value_counts()\n",
    "\n",
    "mice_count.plot(kind=\"bar\")\n",
    "plt.ylabel(\"Number of Data points\")\n",
    "plt.xlabel(\"Drug Regimen\")\n",
    "\n",
    "plt.show()\n",
    "mice_count"
   ]
  },
  {
   "cell_type": "code",
   "execution_count": null,
   "metadata": {},
   "outputs": [],
   "source": [
    "# Generate a line plot of time point versus tumor volume for a mouse treated with Capomulin\n",
    "\n",
    "line_plot_df = merged_data_df.loc[merged_data_df[\"Mouse ID\"]== \"l509\",:]\n",
    "\n",
    "x_axis = line_plot_df[\"Timepoint\"]\n",
    "y_axis = line_plot_df[\"Tumor Volume (mm3)\"]\n",
    "\n",
    "plt.plot(x_axis, y_axis)\n",
    "\n",
    "\n",
    "plt.xlabel(\"Timepoint (days)\")\n",
    "plt.ylabel(\"Tumor Volume (mm3)\")\n",
    "plt.title(\"Capomulin treatment of mouse l509\")\n",
    "plt.savefig(\"lineplot\")\n",
    "plt.show()"
   ]
  },
  {
   "cell_type": "code",
   "execution_count": null,
   "metadata": {},
   "outputs": [],
   "source": [
    "# Generate a scatter plot of mouse weight versus average tumor volume for the Capomulin regimen\n",
    "\n",
    "c_df = merged_data_df.loc[merged_data_df[\"Drug Regimen\"] == \"Capomulin\"]\n",
    "average_tv_gb = c_df .groupby(c_df [\"Mouse ID\"]).mean()\n",
    "\n",
    "plt.scatter(average_tv_gb[\"Weight (g)\"],average_tv_gb[\"Tumor Volume (mm3)\"])\n",
    "\n",
    "# #merged_data_df[\"colname\"] = pd.to_numeric(colname) to numeric if needed\n",
    "\n",
    "\n",
    "#limits are not set yet properly\n",
    "plt.xlim(14,26)\n",
    "plt.ylim(34,46)\n",
    "\n",
    "plt.xlabel(\"Weight (g)\")\n",
    "plt.ylabel(\"Average Tumor Volume (mm3)\")\n",
    "\n",
    "plt.savefig(\"scatterplot\")\n",
    "plt.show()"
   ]
  },
  {
   "cell_type": "code",
   "execution_count": null,
   "metadata": {},
   "outputs": [],
   "source": [
    "# Calculate the correlation coefficient and linear regression model \n",
    "# for mouse weight and average tumor volume for the Capomulin regimen\n",
    "\n",
    "c_df = merged_data_df.loc[merged_data_df[\"Drug Regimen\"] == \"Capomulin\"]\n",
    "average_tv_gb = c_df.groupby(c_df [\"Mouse ID\"]).mean()\n",
    "\n",
    "x_values = average_tv_gb[\"Weight (g)\"]\n",
    "y_values = average_tv_gb[\"Tumor Volume (mm3)\"]\n",
    "\n",
    "   \n",
    "#linear regression model\n",
    "(slope, intercept, rvalue, pvalue, stdev) = st.linregress(x_values, y_values)\n",
    "\n",
    "#equaton of line to calc predicted rate\n",
    "regress_values = x_values * slope + intercept\n",
    "\n",
    "\n",
    "#plot the linear model on top of scatter plot \n",
    "\n",
    "line_eq = \"y = \" + str(round(slope,2)) + \"x + \" + str(round(intercept,2))\n",
    "\n",
    "plt.scatter(x_values, y_values)\n",
    "\n",
    "plt.plot(x_values,regress_values,\"r-\")\n",
    "\n",
    "\n",
    "#connect the line to the graph\n",
    "plt.annotate(line_eq,(0,50),fontsize=15,color=\"red\")\n",
    "\n",
    "#plt.xticks(average_tv_gb[\"Weight (g)\"])\n",
    "\n",
    "plt.xlabel(\"Weight (g)\")\n",
    "plt.ylabel(\"Average Tumor Volume (mm3)\")\n",
    "\n",
    "\n",
    "plt.show()"
   ]
  },
  {
   "cell_type": "code",
   "execution_count": null,
   "metadata": {},
   "outputs": [],
   "source": [
    "\n",
    "coef_r= round(st.pearsonr(x_values, y_values)[0],2)\n",
    "\n",
    "print(f\"The correlation between mouse weight and the average tumor volume is {coef_r}\")"
   ]
  },
  {
   "cell_type": "code",
   "execution_count": null,
   "metadata": {},
   "outputs": [],
   "source": []
  }
 ],
 "metadata": {
  "kernelspec": {
   "display_name": "Python 3",
   "language": "python",
   "name": "python3"
  },
  "language_info": {
   "codemirror_mode": {
    "name": "ipython",
    "version": 3
   },
   "file_extension": ".py",
   "mimetype": "text/x-python",
   "name": "python",
   "nbconvert_exporter": "python",
   "pygments_lexer": "ipython3",
   "version": "3.7.4"
  }
 },
 "nbformat": 4,
 "nbformat_minor": 2
}
