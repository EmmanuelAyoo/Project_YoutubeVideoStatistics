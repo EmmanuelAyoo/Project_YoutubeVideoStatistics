{
 "cells": [
  {
   "cell_type": "code",
   "execution_count": 1,
   "metadata": {},
   "outputs": [],
   "source": [
    "#import dependencies\n",
    "\n",
    "import pandas as pd\n",
    "from datetime import datetime\n",
    "import matplotlib.pyplot as plt\n",
    "import numpy as np\n",
    "import scipy.stats as st"
   ]
  },
  {
   "cell_type": "code",
   "execution_count": 2,
   "metadata": {},
   "outputs": [
    {
     "data": {
      "text/html": [
       "<div>\n",
       "<style scoped>\n",
       "    .dataframe tbody tr th:only-of-type {\n",
       "        vertical-align: middle;\n",
       "    }\n",
       "\n",
       "    .dataframe tbody tr th {\n",
       "        vertical-align: top;\n",
       "    }\n",
       "\n",
       "    .dataframe thead th {\n",
       "        text-align: right;\n",
       "    }\n",
       "</style>\n",
       "<table border=\"1\" class=\"dataframe\">\n",
       "  <thead>\n",
       "    <tr style=\"text-align: right;\">\n",
       "      <th></th>\n",
       "      <th>Unnamed: 0</th>\n",
       "      <th>Video Title</th>\n",
       "      <th>Video ID</th>\n",
       "      <th>Number of Days Trending</th>\n",
       "      <th>Time Published</th>\n",
       "      <th>Total Views</th>\n",
       "    </tr>\n",
       "  </thead>\n",
       "  <tbody>\n",
       "    <tr>\n",
       "      <th>0</th>\n",
       "      <td>0</td>\n",
       "      <td>Sam Smith - Pray (Official Video) ft. Logic</td>\n",
       "      <td>8h--kFui1JA</td>\n",
       "      <td>29</td>\n",
       "      <td>2018-05-09T17:00:00.000Z</td>\n",
       "      <td>17424422</td>\n",
       "    </tr>\n",
       "    <tr>\n",
       "      <th>1</th>\n",
       "      <td>1</td>\n",
       "      <td>WE MADE OUR MOM CRY...HER DREAM CAME TRUE!</td>\n",
       "      <td>j4KvrAUjn6c</td>\n",
       "      <td>29</td>\n",
       "      <td>2018-05-13T18:03:56.000Z</td>\n",
       "      <td>9081270</td>\n",
       "    </tr>\n",
       "    <tr>\n",
       "      <th>2</th>\n",
       "      <td>2</td>\n",
       "      <td>YoungBoy Never Broke Again Goes Sneaker Shoppi...</td>\n",
       "      <td>t4pRQ0jn23Q</td>\n",
       "      <td>28</td>\n",
       "      <td>2018-05-14T14:00:03.000Z</td>\n",
       "      <td>4406761</td>\n",
       "    </tr>\n",
       "    <tr>\n",
       "      <th>3</th>\n",
       "      <td>3</td>\n",
       "      <td>周杰倫 Jay Chou【不愛我就拉倒 If You Don't Love Me, It's...</td>\n",
       "      <td>MAjY8mCTXWk</td>\n",
       "      <td>28</td>\n",
       "      <td>2018-05-14T15:59:47.000Z</td>\n",
       "      <td>17259071</td>\n",
       "    </tr>\n",
       "    <tr>\n",
       "      <th>4</th>\n",
       "      <td>4</td>\n",
       "      <td>Cobra Kai Season 2</td>\n",
       "      <td>WIV3xNz8NoM</td>\n",
       "      <td>28</td>\n",
       "      <td>2018-05-10T17:02:55.000Z</td>\n",
       "      <td>1011030</td>\n",
       "    </tr>\n",
       "  </tbody>\n",
       "</table>\n",
       "</div>"
      ],
      "text/plain": [
       "   Unnamed: 0                                        Video Title     Video ID  \\\n",
       "0           0        Sam Smith - Pray (Official Video) ft. Logic  8h--kFui1JA   \n",
       "1           1         WE MADE OUR MOM CRY...HER DREAM CAME TRUE!  j4KvrAUjn6c   \n",
       "2           2  YoungBoy Never Broke Again Goes Sneaker Shoppi...  t4pRQ0jn23Q   \n",
       "3           3  周杰倫 Jay Chou【不愛我就拉倒 If You Don't Love Me, It's...  MAjY8mCTXWk   \n",
       "4           4                                 Cobra Kai Season 2  WIV3xNz8NoM   \n",
       "\n",
       "   Number of Days Trending            Time Published  Total Views  \n",
       "0                       29  2018-05-09T17:00:00.000Z     17424422  \n",
       "1                       29  2018-05-13T18:03:56.000Z      9081270  \n",
       "2                       28  2018-05-14T14:00:03.000Z      4406761  \n",
       "3                       28  2018-05-14T15:59:47.000Z     17259071  \n",
       "4                       28  2018-05-10T17:02:55.000Z      1011030  "
      ]
     },
     "execution_count": 2,
     "metadata": {},
     "output_type": "execute_result"
    }
   ],
   "source": [
    "#Store file path in a variable and read in csv\n",
    "\n",
    "file = \"MasterYouTube.csv\"\n",
    "\n",
    "master_df = pd.read_csv(file)\n",
    "\n",
    "#Print head\n",
    "master_df.head()"
   ]
  },
  {
   "cell_type": "code",
   "execution_count": 3,
   "metadata": {},
   "outputs": [
    {
     "data": {
      "text/html": [
       "<div>\n",
       "<style scoped>\n",
       "    .dataframe tbody tr th:only-of-type {\n",
       "        vertical-align: middle;\n",
       "    }\n",
       "\n",
       "    .dataframe tbody tr th {\n",
       "        vertical-align: top;\n",
       "    }\n",
       "\n",
       "    .dataframe thead th {\n",
       "        text-align: right;\n",
       "    }\n",
       "</style>\n",
       "<table border=\"1\" class=\"dataframe\">\n",
       "  <thead>\n",
       "    <tr style=\"text-align: right;\">\n",
       "      <th></th>\n",
       "      <th>Unnamed: 0</th>\n",
       "      <th>Video Title</th>\n",
       "      <th>Video ID</th>\n",
       "      <th>Number of Days Trending</th>\n",
       "      <th>Time Published</th>\n",
       "      <th>Total Views</th>\n",
       "      <th>Date Published</th>\n",
       "      <th>Publish Time</th>\n",
       "    </tr>\n",
       "  </thead>\n",
       "  <tbody>\n",
       "    <tr>\n",
       "      <th>0</th>\n",
       "      <td>0</td>\n",
       "      <td>Sam Smith - Pray (Official Video) ft. Logic</td>\n",
       "      <td>8h--kFui1JA</td>\n",
       "      <td>29</td>\n",
       "      <td>2018-05-09T17:00:00.000Z</td>\n",
       "      <td>17424422</td>\n",
       "      <td>2018-05-09</td>\n",
       "      <td>17:00:00.000Z</td>\n",
       "    </tr>\n",
       "    <tr>\n",
       "      <th>1</th>\n",
       "      <td>1</td>\n",
       "      <td>WE MADE OUR MOM CRY...HER DREAM CAME TRUE!</td>\n",
       "      <td>j4KvrAUjn6c</td>\n",
       "      <td>29</td>\n",
       "      <td>2018-05-13T18:03:56.000Z</td>\n",
       "      <td>9081270</td>\n",
       "      <td>2018-05-13</td>\n",
       "      <td>18:03:56.000Z</td>\n",
       "    </tr>\n",
       "    <tr>\n",
       "      <th>2</th>\n",
       "      <td>2</td>\n",
       "      <td>YoungBoy Never Broke Again Goes Sneaker Shoppi...</td>\n",
       "      <td>t4pRQ0jn23Q</td>\n",
       "      <td>28</td>\n",
       "      <td>2018-05-14T14:00:03.000Z</td>\n",
       "      <td>4406761</td>\n",
       "      <td>2018-05-14</td>\n",
       "      <td>14:00:03.000Z</td>\n",
       "    </tr>\n",
       "    <tr>\n",
       "      <th>3</th>\n",
       "      <td>3</td>\n",
       "      <td>周杰倫 Jay Chou【不愛我就拉倒 If You Don't Love Me, It's...</td>\n",
       "      <td>MAjY8mCTXWk</td>\n",
       "      <td>28</td>\n",
       "      <td>2018-05-14T15:59:47.000Z</td>\n",
       "      <td>17259071</td>\n",
       "      <td>2018-05-14</td>\n",
       "      <td>15:59:47.000Z</td>\n",
       "    </tr>\n",
       "    <tr>\n",
       "      <th>4</th>\n",
       "      <td>4</td>\n",
       "      <td>Cobra Kai Season 2</td>\n",
       "      <td>WIV3xNz8NoM</td>\n",
       "      <td>28</td>\n",
       "      <td>2018-05-10T17:02:55.000Z</td>\n",
       "      <td>1011030</td>\n",
       "      <td>2018-05-10</td>\n",
       "      <td>17:02:55.000Z</td>\n",
       "    </tr>\n",
       "  </tbody>\n",
       "</table>\n",
       "</div>"
      ],
      "text/plain": [
       "   Unnamed: 0                                        Video Title     Video ID  \\\n",
       "0           0        Sam Smith - Pray (Official Video) ft. Logic  8h--kFui1JA   \n",
       "1           1         WE MADE OUR MOM CRY...HER DREAM CAME TRUE!  j4KvrAUjn6c   \n",
       "2           2  YoungBoy Never Broke Again Goes Sneaker Shoppi...  t4pRQ0jn23Q   \n",
       "3           3  周杰倫 Jay Chou【不愛我就拉倒 If You Don't Love Me, It's...  MAjY8mCTXWk   \n",
       "4           4                                 Cobra Kai Season 2  WIV3xNz8NoM   \n",
       "\n",
       "   Number of Days Trending            Time Published  Total Views  \\\n",
       "0                       29  2018-05-09T17:00:00.000Z     17424422   \n",
       "1                       29  2018-05-13T18:03:56.000Z      9081270   \n",
       "2                       28  2018-05-14T14:00:03.000Z      4406761   \n",
       "3                       28  2018-05-14T15:59:47.000Z     17259071   \n",
       "4                       28  2018-05-10T17:02:55.000Z      1011030   \n",
       "\n",
       "  Date Published   Publish Time  \n",
       "0     2018-05-09  17:00:00.000Z  \n",
       "1     2018-05-13  18:03:56.000Z  \n",
       "2     2018-05-14  14:00:03.000Z  \n",
       "3     2018-05-14  15:59:47.000Z  \n",
       "4     2018-05-10  17:02:55.000Z  "
      ]
     },
     "execution_count": 3,
     "metadata": {},
     "output_type": "execute_result"
    }
   ],
   "source": [
    "#Reformat date so I can pull out just the date published and put it in a new column\n",
    "\n",
    "master_df[['Date Published', 'Publish Time']] = master_df[\"Time Published\"].str.split(\"T\",expand=True)\n",
    "\n",
    "master_df.head()\n"
   ]
  },
  {
   "cell_type": "code",
   "execution_count": null,
   "metadata": {},
   "outputs": [],
   "source": []
  },
  {
   "cell_type": "code",
   "execution_count": null,
   "metadata": {},
   "outputs": [],
   "source": []
  },
  {
   "cell_type": "code",
   "execution_count": 4,
   "metadata": {},
   "outputs": [
    {
     "data": {
      "text/html": [
       "<div>\n",
       "<style scoped>\n",
       "    .dataframe tbody tr th:only-of-type {\n",
       "        vertical-align: middle;\n",
       "    }\n",
       "\n",
       "    .dataframe tbody tr th {\n",
       "        vertical-align: top;\n",
       "    }\n",
       "\n",
       "    .dataframe thead th {\n",
       "        text-align: right;\n",
       "    }\n",
       "</style>\n",
       "<table border=\"1\" class=\"dataframe\">\n",
       "  <thead>\n",
       "    <tr style=\"text-align: right;\">\n",
       "      <th></th>\n",
       "      <th>Video Title</th>\n",
       "      <th>Video ID</th>\n",
       "      <th>Date Published</th>\n",
       "      <th>Number of Days Trending</th>\n",
       "      <th>Total Views</th>\n",
       "    </tr>\n",
       "  </thead>\n",
       "  <tbody>\n",
       "    <tr>\n",
       "      <th>0</th>\n",
       "      <td>Sam Smith - Pray (Official Video) ft. Logic</td>\n",
       "      <td>8h--kFui1JA</td>\n",
       "      <td>2018-05-09</td>\n",
       "      <td>29</td>\n",
       "      <td>17424422</td>\n",
       "    </tr>\n",
       "    <tr>\n",
       "      <th>1</th>\n",
       "      <td>WE MADE OUR MOM CRY...HER DREAM CAME TRUE!</td>\n",
       "      <td>j4KvrAUjn6c</td>\n",
       "      <td>2018-05-13</td>\n",
       "      <td>29</td>\n",
       "      <td>9081270</td>\n",
       "    </tr>\n",
       "    <tr>\n",
       "      <th>2</th>\n",
       "      <td>YoungBoy Never Broke Again Goes Sneaker Shoppi...</td>\n",
       "      <td>t4pRQ0jn23Q</td>\n",
       "      <td>2018-05-14</td>\n",
       "      <td>28</td>\n",
       "      <td>4406761</td>\n",
       "    </tr>\n",
       "    <tr>\n",
       "      <th>3</th>\n",
       "      <td>周杰倫 Jay Chou【不愛我就拉倒 If You Don't Love Me, It's...</td>\n",
       "      <td>MAjY8mCTXWk</td>\n",
       "      <td>2018-05-14</td>\n",
       "      <td>28</td>\n",
       "      <td>17259071</td>\n",
       "    </tr>\n",
       "    <tr>\n",
       "      <th>4</th>\n",
       "      <td>Cobra Kai Season 2</td>\n",
       "      <td>WIV3xNz8NoM</td>\n",
       "      <td>2018-05-10</td>\n",
       "      <td>28</td>\n",
       "      <td>1011030</td>\n",
       "    </tr>\n",
       "  </tbody>\n",
       "</table>\n",
       "</div>"
      ],
      "text/plain": [
       "                                         Video Title     Video ID  \\\n",
       "0        Sam Smith - Pray (Official Video) ft. Logic  8h--kFui1JA   \n",
       "1         WE MADE OUR MOM CRY...HER DREAM CAME TRUE!  j4KvrAUjn6c   \n",
       "2  YoungBoy Never Broke Again Goes Sneaker Shoppi...  t4pRQ0jn23Q   \n",
       "3  周杰倫 Jay Chou【不愛我就拉倒 If You Don't Love Me, It's...  MAjY8mCTXWk   \n",
       "4                                 Cobra Kai Season 2  WIV3xNz8NoM   \n",
       "\n",
       "  Date Published  Number of Days Trending  Total Views  \n",
       "0     2018-05-09                       29     17424422  \n",
       "1     2018-05-13                       29      9081270  \n",
       "2     2018-05-14                       28      4406761  \n",
       "3     2018-05-14                       28     17259071  \n",
       "4     2018-05-10                       28      1011030  "
      ]
     },
     "execution_count": 4,
     "metadata": {},
     "output_type": "execute_result"
    }
   ],
   "source": [
    "#Clean it up\n",
    "\n",
    "date_df = master_df[[\"Video Title\", \"Video ID\", \"Date Published\", \"Number of Days Trending\", \"Total Views\"]]\n",
    "\n",
    "date_df.head()"
   ]
  },
  {
   "cell_type": "code",
   "execution_count": null,
   "metadata": {},
   "outputs": [],
   "source": []
  },
  {
   "cell_type": "code",
   "execution_count": 5,
   "metadata": {},
   "outputs": [
    {
     "data": {
      "text/html": [
       "<div>\n",
       "<style scoped>\n",
       "    .dataframe tbody tr th:only-of-type {\n",
       "        vertical-align: middle;\n",
       "    }\n",
       "\n",
       "    .dataframe tbody tr th {\n",
       "        vertical-align: top;\n",
       "    }\n",
       "\n",
       "    .dataframe thead th {\n",
       "        text-align: right;\n",
       "    }\n",
       "</style>\n",
       "<table border=\"1\" class=\"dataframe\">\n",
       "  <thead>\n",
       "    <tr style=\"text-align: right;\">\n",
       "      <th></th>\n",
       "      <th>Video Title</th>\n",
       "      <th>Video ID</th>\n",
       "      <th>Date Published</th>\n",
       "      <th>Number of Days Trending</th>\n",
       "      <th>Total Views</th>\n",
       "    </tr>\n",
       "  </thead>\n",
       "  <tbody>\n",
       "    <tr>\n",
       "      <th>6189</th>\n",
       "      <td>Nintendo @ E3 2018: Day 2</td>\n",
       "      <td>8O-ZUXGcuWU</td>\n",
       "      <td>2018-06-14</td>\n",
       "      <td>1</td>\n",
       "      <td>1549110</td>\n",
       "    </tr>\n",
       "    <tr>\n",
       "      <th>5718</th>\n",
       "      <td>Courtney Hadwin: 13-Year-Old Golden Buzzer Win...</td>\n",
       "      <td>gPHVLxm8U-0</td>\n",
       "      <td>2018-06-13</td>\n",
       "      <td>1</td>\n",
       "      <td>5829270</td>\n",
       "    </tr>\n",
       "    <tr>\n",
       "      <th>6076</th>\n",
       "      <td>Dumbo Official Teaser Trailer</td>\n",
       "      <td>-QPdRfqTnt4</td>\n",
       "      <td>2018-06-13</td>\n",
       "      <td>1</td>\n",
       "      <td>4427381</td>\n",
       "    </tr>\n",
       "    <tr>\n",
       "      <th>5730</th>\n",
       "      <td>Nintendo @ E3 2018: Day 1</td>\n",
       "      <td>FchkqXEg0qs</td>\n",
       "      <td>2018-06-13</td>\n",
       "      <td>1</td>\n",
       "      <td>3238183</td>\n",
       "    </tr>\n",
       "    <tr>\n",
       "      <th>6295</th>\n",
       "      <td>Fortnite Celebrity Pro-Am | #FortniteProAm</td>\n",
       "      <td>qPEIPu0V8GQ</td>\n",
       "      <td>2018-06-13</td>\n",
       "      <td>1</td>\n",
       "      <td>2183462</td>\n",
       "    </tr>\n",
       "  </tbody>\n",
       "</table>\n",
       "</div>"
      ],
      "text/plain": [
       "                                            Video Title     Video ID  \\\n",
       "6189                          Nintendo @ E3 2018: Day 2  8O-ZUXGcuWU   \n",
       "5718  Courtney Hadwin: 13-Year-Old Golden Buzzer Win...  gPHVLxm8U-0   \n",
       "6076                      Dumbo Official Teaser Trailer  -QPdRfqTnt4   \n",
       "5730                          Nintendo @ E3 2018: Day 1  FchkqXEg0qs   \n",
       "6295         Fortnite Celebrity Pro-Am | #FortniteProAm  qPEIPu0V8GQ   \n",
       "\n",
       "     Date Published  Number of Days Trending  Total Views  \n",
       "6189     2018-06-14                        1      1549110  \n",
       "5718     2018-06-13                        1      5829270  \n",
       "6076     2018-06-13                        1      4427381  \n",
       "5730     2018-06-13                        1      3238183  \n",
       "6295     2018-06-13                        1      2183462  "
      ]
     },
     "execution_count": 5,
     "metadata": {},
     "output_type": "execute_result"
    }
   ],
   "source": [
    "#Organize by date published\n",
    "date_df = date_df.sort_values([\"Date Published\", \"Total Views\"], ascending=False)\n",
    "\n",
    "date_df.head()"
   ]
  },
  {
   "cell_type": "code",
   "execution_count": 6,
   "metadata": {},
   "outputs": [
    {
     "data": {
      "image/png": "[encoded data removed]",
      "text/plain": [
       "<Figure size 432x288 with 1 Axes>"
      ]
     },
     "metadata": {
      "needs_background": "light"
     },
     "output_type": "display_data"
    }
   ],
   "source": [
    "#Find average days trending vs. date published and put into a bar graph\n",
    "\n",
    "\n",
    "\n",
    "date_df.groupby('Date Published')['Number of Days Trending'].mean().plot(kind='bar')\n",
    "\n",
    "plt.title(\"Total Average Days Trending by Date Published\")\n",
    "plt.xlabel(\"Date Published\")\n",
    "plt.ylabel(\"Total Average Days Trending\")\n",
    "\n",
    "plt.savefig(\"TotalDaysTrendingMeanperDatePublishedBar\")\n",
    "\n",
    "plt.show()"
   ]
  },
  {
   "cell_type": "code",
   "execution_count": 7,
   "metadata": {
    "scrolled": true
   },
   "outputs": [
    {
     "data": {
      "image/png": "[encoded data removed]",
      "text/plain": [
       "<Figure size 432x288 with 1 Axes>"
      ]
     },
     "metadata": {
      "needs_background": "light"
     },
     "output_type": "display_data"
    }
   ],
   "source": [
    "#That doesn't make a whole lot of sense, so I'm trying a scatterplot next\n",
    "\n",
    "#Scatterplot\n",
    "plt.scatter(date_df[\"Date Published\"], date_df[\"Number of Days Trending\"])\n",
    "plt.title(\"Days Trending by Date Published\")\n",
    "plt.xlabel(\"Date Published\")\n",
    "plt.ylabel(\"Days Trending\")\n",
    "\n",
    "plt.savefig(\"TotalDaysTrendingperDatePublishedScatter\")\n",
    "\n",
    "plt.show()"
   ]
  },
  {
   "cell_type": "code",
   "execution_count": null,
   "metadata": {},
   "outputs": [],
   "source": []
  },
  {
   "cell_type": "code",
   "execution_count": null,
   "metadata": {},
   "outputs": [],
   "source": []
  },
  {
   "cell_type": "code",
   "execution_count": 8,
   "metadata": {},
   "outputs": [
    {
     "data": {
      "text/html": [
       "<div>\n",
       "<style scoped>\n",
       "    .dataframe tbody tr th:only-of-type {\n",
       "        vertical-align: middle;\n",
       "    }\n",
       "\n",
       "    .dataframe tbody tr th {\n",
       "        vertical-align: top;\n",
       "    }\n",
       "\n",
       "    .dataframe thead th {\n",
       "        text-align: right;\n",
       "    }\n",
       "</style>\n",
       "<table border=\"1\" class=\"dataframe\">\n",
       "  <thead>\n",
       "    <tr style=\"text-align: right;\">\n",
       "      <th></th>\n",
       "      <th>Unnamed: 0</th>\n",
       "      <th>Video Title</th>\n",
       "      <th>Video ID</th>\n",
       "      <th>Number of Days Trending</th>\n",
       "      <th>Time Published</th>\n",
       "      <th>Total Views</th>\n",
       "      <th>Date Published</th>\n",
       "      <th>Publish Time</th>\n",
       "      <th>Year Published</th>\n",
       "      <th>Month Published</th>\n",
       "      <th>Day Published</th>\n",
       "    </tr>\n",
       "  </thead>\n",
       "  <tbody>\n",
       "    <tr>\n",
       "      <th>0</th>\n",
       "      <td>0</td>\n",
       "      <td>Sam Smith - Pray (Official Video) ft. Logic</td>\n",
       "      <td>8h--kFui1JA</td>\n",
       "      <td>29</td>\n",
       "      <td>2018-05-09T17:00:00.000Z</td>\n",
       "      <td>17424422</td>\n",
       "      <td>2018-05-09</td>\n",
       "      <td>17:00:00.000Z</td>\n",
       "      <td>2018</td>\n",
       "      <td>05</td>\n",
       "      <td>09T17:00:00.000Z</td>\n",
       "    </tr>\n",
       "    <tr>\n",
       "      <th>1</th>\n",
       "      <td>1</td>\n",
       "      <td>WE MADE OUR MOM CRY...HER DREAM CAME TRUE!</td>\n",
       "      <td>j4KvrAUjn6c</td>\n",
       "      <td>29</td>\n",
       "      <td>2018-05-13T18:03:56.000Z</td>\n",
       "      <td>9081270</td>\n",
       "      <td>2018-05-13</td>\n",
       "      <td>18:03:56.000Z</td>\n",
       "      <td>2018</td>\n",
       "      <td>05</td>\n",
       "      <td>13T18:03:56.000Z</td>\n",
       "    </tr>\n",
       "    <tr>\n",
       "      <th>2</th>\n",
       "      <td>2</td>\n",
       "      <td>YoungBoy Never Broke Again Goes Sneaker Shoppi...</td>\n",
       "      <td>t4pRQ0jn23Q</td>\n",
       "      <td>28</td>\n",
       "      <td>2018-05-14T14:00:03.000Z</td>\n",
       "      <td>4406761</td>\n",
       "      <td>2018-05-14</td>\n",
       "      <td>14:00:03.000Z</td>\n",
       "      <td>2018</td>\n",
       "      <td>05</td>\n",
       "      <td>14T14:00:03.000Z</td>\n",
       "    </tr>\n",
       "    <tr>\n",
       "      <th>3</th>\n",
       "      <td>3</td>\n",
       "      <td>周杰倫 Jay Chou【不愛我就拉倒 If You Don't Love Me, It's...</td>\n",
       "      <td>MAjY8mCTXWk</td>\n",
       "      <td>28</td>\n",
       "      <td>2018-05-14T15:59:47.000Z</td>\n",
       "      <td>17259071</td>\n",
       "      <td>2018-05-14</td>\n",
       "      <td>15:59:47.000Z</td>\n",
       "      <td>2018</td>\n",
       "      <td>05</td>\n",
       "      <td>14T15:59:47.000Z</td>\n",
       "    </tr>\n",
       "    <tr>\n",
       "      <th>4</th>\n",
       "      <td>4</td>\n",
       "      <td>Cobra Kai Season 2</td>\n",
       "      <td>WIV3xNz8NoM</td>\n",
       "      <td>28</td>\n",
       "      <td>2018-05-10T17:02:55.000Z</td>\n",
       "      <td>1011030</td>\n",
       "      <td>2018-05-10</td>\n",
       "      <td>17:02:55.000Z</td>\n",
       "      <td>2018</td>\n",
       "      <td>05</td>\n",
       "      <td>10T17:02:55.000Z</td>\n",
       "    </tr>\n",
       "  </tbody>\n",
       "</table>\n",
       "</div>"
      ],
      "text/plain": [
       "   Unnamed: 0                                        Video Title     Video ID  \\\n",
       "0           0        Sam Smith - Pray (Official Video) ft. Logic  8h--kFui1JA   \n",
       "1           1         WE MADE OUR MOM CRY...HER DREAM CAME TRUE!  j4KvrAUjn6c   \n",
       "2           2  YoungBoy Never Broke Again Goes Sneaker Shoppi...  t4pRQ0jn23Q   \n",
       "3           3  周杰倫 Jay Chou【不愛我就拉倒 If You Don't Love Me, It's...  MAjY8mCTXWk   \n",
       "4           4                                 Cobra Kai Season 2  WIV3xNz8NoM   \n",
       "\n",
       "   Number of Days Trending            Time Published  Total Views  \\\n",
       "0                       29  2018-05-09T17:00:00.000Z     17424422   \n",
       "1                       29  2018-05-13T18:03:56.000Z      9081270   \n",
       "2                       28  2018-05-14T14:00:03.000Z      4406761   \n",
       "3                       28  2018-05-14T15:59:47.000Z     17259071   \n",
       "4                       28  2018-05-10T17:02:55.000Z      1011030   \n",
       "\n",
       "  Date Published   Publish Time Year Published Month Published  \\\n",
       "0     2018-05-09  17:00:00.000Z           2018              05   \n",
       "1     2018-05-13  18:03:56.000Z           2018              05   \n",
       "2     2018-05-14  14:00:03.000Z           2018              05   \n",
       "3     2018-05-14  15:59:47.000Z           2018              05   \n",
       "4     2018-05-10  17:02:55.000Z           2018              05   \n",
       "\n",
       "      Day Published  \n",
       "0  09T17:00:00.000Z  \n",
       "1  13T18:03:56.000Z  \n",
       "2  14T14:00:03.000Z  \n",
       "3  14T15:59:47.000Z  \n",
       "4  10T17:02:55.000Z  "
      ]
     },
     "execution_count": 8,
     "metadata": {},
     "output_type": "execute_result"
    }
   ],
   "source": [
    "#I need to separate them into months to make it look better\n",
    "#Reformat the master_df again to just take out the month\n",
    "\n",
    "master_df[['Year Published', 'Month Published', 'Day Published']] = master_df[\"Time Published\"].str.split(\"-\",expand=True)\n",
    "\n",
    "master_df.head()"
   ]
  },
  {
   "cell_type": "code",
   "execution_count": 9,
   "metadata": {},
   "outputs": [
    {
     "data": {
      "text/html": [
       "<div>\n",
       "<style scoped>\n",
       "    .dataframe tbody tr th:only-of-type {\n",
       "        vertical-align: middle;\n",
       "    }\n",
       "\n",
       "    .dataframe tbody tr th {\n",
       "        vertical-align: top;\n",
       "    }\n",
       "\n",
       "    .dataframe thead th {\n",
       "        text-align: right;\n",
       "    }\n",
       "</style>\n",
       "<table border=\"1\" class=\"dataframe\">\n",
       "  <thead>\n",
       "    <tr style=\"text-align: right;\">\n",
       "      <th></th>\n",
       "      <th>Video Title</th>\n",
       "      <th>Video ID</th>\n",
       "      <th>Month Published</th>\n",
       "      <th>Number of Days Trending</th>\n",
       "      <th>Total Views</th>\n",
       "    </tr>\n",
       "  </thead>\n",
       "  <tbody>\n",
       "    <tr>\n",
       "      <th>0</th>\n",
       "      <td>Sam Smith - Pray (Official Video) ft. Logic</td>\n",
       "      <td>8h--kFui1JA</td>\n",
       "      <td>05</td>\n",
       "      <td>29</td>\n",
       "      <td>17424422</td>\n",
       "    </tr>\n",
       "    <tr>\n",
       "      <th>1</th>\n",
       "      <td>WE MADE OUR MOM CRY...HER DREAM CAME TRUE!</td>\n",
       "      <td>j4KvrAUjn6c</td>\n",
       "      <td>05</td>\n",
       "      <td>29</td>\n",
       "      <td>9081270</td>\n",
       "    </tr>\n",
       "    <tr>\n",
       "      <th>2</th>\n",
       "      <td>YoungBoy Never Broke Again Goes Sneaker Shoppi...</td>\n",
       "      <td>t4pRQ0jn23Q</td>\n",
       "      <td>05</td>\n",
       "      <td>28</td>\n",
       "      <td>4406761</td>\n",
       "    </tr>\n",
       "    <tr>\n",
       "      <th>3</th>\n",
       "      <td>周杰倫 Jay Chou【不愛我就拉倒 If You Don't Love Me, It's...</td>\n",
       "      <td>MAjY8mCTXWk</td>\n",
       "      <td>05</td>\n",
       "      <td>28</td>\n",
       "      <td>17259071</td>\n",
       "    </tr>\n",
       "    <tr>\n",
       "      <th>4</th>\n",
       "      <td>Cobra Kai Season 2</td>\n",
       "      <td>WIV3xNz8NoM</td>\n",
       "      <td>05</td>\n",
       "      <td>28</td>\n",
       "      <td>1011030</td>\n",
       "    </tr>\n",
       "  </tbody>\n",
       "</table>\n",
       "</div>"
      ],
      "text/plain": [
       "                                         Video Title     Video ID  \\\n",
       "0        Sam Smith - Pray (Official Video) ft. Logic  8h--kFui1JA   \n",
       "1         WE MADE OUR MOM CRY...HER DREAM CAME TRUE!  j4KvrAUjn6c   \n",
       "2  YoungBoy Never Broke Again Goes Sneaker Shoppi...  t4pRQ0jn23Q   \n",
       "3  周杰倫 Jay Chou【不愛我就拉倒 If You Don't Love Me, It's...  MAjY8mCTXWk   \n",
       "4                                 Cobra Kai Season 2  WIV3xNz8NoM   \n",
       "\n",
       "  Month Published  Number of Days Trending  Total Views  \n",
       "0              05                       29     17424422  \n",
       "1              05                       29      9081270  \n",
       "2              05                       28      4406761  \n",
       "3              05                       28     17259071  \n",
       "4              05                       28      1011030  "
      ]
     },
     "execution_count": 9,
     "metadata": {},
     "output_type": "execute_result"
    }
   ],
   "source": [
    "#Clean it up\n",
    "better_df = master_df[[\"Video Title\", \"Video ID\", \"Month Published\", \"Number of Days Trending\", \"Total Views\"]]\n",
    "\n",
    "better_df.head()"
   ]
  },
  {
   "cell_type": "code",
   "execution_count": 10,
   "metadata": {},
   "outputs": [
    {
     "data": {
      "image/png": "[encoded data removed]",
      "text/plain": [
       "<Figure size 432x288 with 1 Axes>"
      ]
     },
     "metadata": {
      "needs_background": "light"
     },
     "output_type": "display_data"
    }
   ],
   "source": [
    "#Let's Try again with month vs. days trending\n",
    "#Find average days trending vs. date published and put into a bar graph\n",
    "\n",
    "\n",
    "\n",
    "better_df.groupby('Month Published')['Number of Days Trending'].mean().plot(kind='bar')\n",
    "\n",
    "plt.title(\"Total Average Days Trending by Month Published\")\n",
    "plt.xlabel(\"Month Published\")\n",
    "plt.ylabel(\"Total Average Days Trending\")\n",
    "\n",
    "plt.savefig(\"TotalDaysTrendingMeanperMonthPublishedBar\")\n",
    "\n",
    "plt.show()"
   ]
  },
  {
   "cell_type": "code",
   "execution_count": 11,
   "metadata": {},
   "outputs": [
    {
     "data": {
      "image/png": "[encoded data removed]",
      "text/plain": [
       "<Figure size 432x288 with 1 Axes>"
      ]
     },
     "metadata": {
      "needs_background": "light"
     },
     "output_type": "display_data"
    }
   ],
   "source": [
    "#Do the same with Sum\n",
    "\n",
    "\n",
    "better_df.groupby('Month Published')['Number of Days Trending'].sum().plot(kind='bar')\n",
    "\n",
    "plt.title(\"Total Sum Days Trending by Month Published\")\n",
    "plt.xlabel(\"Month Published\")\n",
    "plt.ylabel(\"Total Average Days Trending\")\n",
    "\n",
    "plt.savefig(\"TotalDaysTrendingSumperMonthPublishedBar\")\n",
    "\n",
    "plt.show()"
   ]
  },
  {
   "cell_type": "code",
   "execution_count": 12,
   "metadata": {},
   "outputs": [
    {
     "name": "stderr",
     "output_type": "stream",
     "text": [
      "C:\\Users\\mjbgo\\anaconda3\\lib\\site-packages\\ipykernel_launcher.py:5: SettingWithCopyWarning: \n",
      "A value is trying to be set on a copy of a slice from a DataFrame.\n",
      "Try using .loc[row_indexer,col_indexer] = value instead\n",
      "\n",
      "See the caveats in the documentation: https://pandas.pydata.org/pandas-docs/stable/user_guide/indexing.html#returning-a-view-versus-a-copy\n",
      "  \"\"\"\n"
     ]
    }
   ],
   "source": [
    "#Scatterplot of Days trending/month\n",
    "\n",
    "#First turn month into a number from a string\n",
    "\n",
    "better_df['Month Published'] = pd.to_numeric(better_df['Month Published'])"
   ]
  },
  {
   "cell_type": "code",
   "execution_count": 13,
   "metadata": {},
   "outputs": [
    {
     "data": {
      "image/png": "[encoded data removed]",
      "text/plain": [
       "<Figure size 432x288 with 1 Axes>"
      ]
     },
     "metadata": {
      "needs_background": "light"
     },
     "output_type": "display_data"
    }
   ],
   "source": [
    "\n",
    "\n",
    "\n",
    "#Scatterplot\n",
    "plt.scatter(better_df[\"Month Published\"], better_df[\"Number of Days Trending\"])\n",
    "plt.title(\"Days Trending by Month Published\")\n",
    "plt.xlabel(\"Month Published\")\n",
    "plt.ylabel(\"Days Trending\")\n",
    "\n",
    "plt.savefig(\"TotalDaysTrendingperMonthPublishedScatter\")\n",
    "\n",
    "plt.show()"
   ]
  },
  {
   "cell_type": "code",
   "execution_count": 14,
   "metadata": {},
   "outputs": [
    {
     "name": "stdout",
     "output_type": "stream",
     "text": [
      "The correlation between the two factors is -0.12\n"
     ]
    }
   ],
   "source": [
    "#Correlation\n",
    "month = better_df[\"Month Published\"]\n",
    "days = better_df[\"Number of Days Trending\"]\n",
    "\n",
    "correlation = st.pearsonr(month, days)\n",
    "\n",
    "print(f\"The correlation between the two factors is {round(correlation[0],2)}\")"
   ]
  },
  {
   "cell_type": "code",
   "execution_count": null,
   "metadata": {},
   "outputs": [],
   "source": []
  },
  {
   "cell_type": "code",
   "execution_count": 15,
   "metadata": {},
   "outputs": [
    {
     "data": {
      "image/png": "[encoded data removed]",
      "text/plain": [
       "<Figure size 432x288 with 1 Axes>"
      ]
     },
     "metadata": {
      "needs_background": "light"
     },
     "output_type": "display_data"
    }
   ],
   "source": [
    "#Do the same for Month published verses views\n",
    "#Average\n",
    "\n",
    "better_df.groupby('Month Published')['Total Views'].mean().plot(kind='bar')\n",
    "\n",
    "plt.title(\"Total Average Views by Month Published\")\n",
    "plt.xlabel(\"Month Published\")\n",
    "plt.ylabel(\"Total Views (In Billions)\")\n",
    "\n",
    "plt.savefig(\"TotalViewsMeanperMonthPublishedBar\")\n",
    "\n",
    "plt.show()"
   ]
  },
  {
   "cell_type": "code",
   "execution_count": 16,
   "metadata": {},
   "outputs": [
    {
     "data": {
      "image/png": "[encoded data removed]",
      "text/plain": [
       "<Figure size 432x288 with 1 Axes>"
      ]
     },
     "metadata": {
      "needs_background": "light"
     },
     "output_type": "display_data"
    }
   ],
   "source": [
    "#Find total average views of all videos by date\n",
    "\n",
    "better_df.groupby('Month Published')['Total Views'].sum().plot(kind='bar')\n",
    "\n",
    "plt.title(\"Total Sum Views by Month Published\")\n",
    "plt.xlabel(\"Month Published\")\n",
    "plt.ylabel(\"Total Views (In Billions)\")\n",
    "\n",
    "plt.savefig(\"TotalViewsSumperMonthPublishedBar\")\n",
    "\n",
    "plt.show()"
   ]
  },
  {
   "cell_type": "code",
   "execution_count": null,
   "metadata": {},
   "outputs": [],
   "source": []
  },
  {
   "cell_type": "code",
   "execution_count": 17,
   "metadata": {},
   "outputs": [
    {
     "data": {
      "image/png": "[encoded data removed]",
      "text/plain": [
       "<Figure size 432x288 with 1 Axes>"
      ]
     },
     "metadata": {
      "needs_background": "light"
     },
     "output_type": "display_data"
    }
   ],
   "source": [
    "#Scatterplot\n",
    "plt.scatter(better_df[\"Month Published\"], better_df[\"Total Views\"])\n",
    "plt.title(\"Total Views by Month Published\")\n",
    "plt.xlabel(\"Month Published\")\n",
    "plt.ylabel(\"Total Views\")\n",
    "\n",
    "plt.savefig(\"TotalViewsperMonthPublishedScatter\")\n",
    "\n",
    "plt.show()"
   ]
  },
  {
   "cell_type": "code",
   "execution_count": 18,
   "metadata": {},
   "outputs": [
    {
     "name": "stdout",
     "output_type": "stream",
     "text": [
      "The correlation between the two factors is -0.02\n"
     ]
    }
   ],
   "source": [
    "#Correlation\n",
    "month = better_df[\"Month Published\"]\n",
    "views = better_df[\"Total Views\"]\n",
    "\n",
    "correlation = st.pearsonr(month, views)\n",
    "\n",
    "print(f\"The correlation between the two factors is {round(correlation[0],2)}\")"
   ]
  },
  {
   "cell_type": "code",
   "execution_count": null,
   "metadata": {},
   "outputs": [],
   "source": []
  },
  {
   "cell_type": "code",
   "execution_count": 19,
   "metadata": {},
   "outputs": [
    {
     "data": {
      "text/html": [
       "<div>\n",
       "<style scoped>\n",
       "    .dataframe tbody tr th:only-of-type {\n",
       "        vertical-align: middle;\n",
       "    }\n",
       "\n",
       "    .dataframe tbody tr th {\n",
       "        vertical-align: top;\n",
       "    }\n",
       "\n",
       "    .dataframe thead th {\n",
       "        text-align: right;\n",
       "    }\n",
       "</style>\n",
       "<table border=\"1\" class=\"dataframe\">\n",
       "  <thead>\n",
       "    <tr style=\"text-align: right;\">\n",
       "      <th></th>\n",
       "      <th>Unnamed: 0</th>\n",
       "      <th>Video Title</th>\n",
       "      <th>Video ID</th>\n",
       "      <th>Number of Days Trending</th>\n",
       "      <th>Time Published</th>\n",
       "      <th>Total Views</th>\n",
       "      <th>Date Published</th>\n",
       "      <th>Publish Time</th>\n",
       "      <th>Year Published</th>\n",
       "      <th>Month Published</th>\n",
       "      <th>Day Published</th>\n",
       "      <th>Day</th>\n",
       "      <th>Time</th>\n",
       "    </tr>\n",
       "  </thead>\n",
       "  <tbody>\n",
       "    <tr>\n",
       "      <th>0</th>\n",
       "      <td>0</td>\n",
       "      <td>Sam Smith - Pray (Official Video) ft. Logic</td>\n",
       "      <td>8h--kFui1JA</td>\n",
       "      <td>29</td>\n",
       "      <td>2018-05-09T17:00:00.000Z</td>\n",
       "      <td>17424422</td>\n",
       "      <td>2018-05-09</td>\n",
       "      <td>17:00:00.000Z</td>\n",
       "      <td>2018</td>\n",
       "      <td>05</td>\n",
       "      <td>09T17:00:00.000Z</td>\n",
       "      <td>09</td>\n",
       "      <td>17:00:00.000Z</td>\n",
       "    </tr>\n",
       "    <tr>\n",
       "      <th>1</th>\n",
       "      <td>1</td>\n",
       "      <td>WE MADE OUR MOM CRY...HER DREAM CAME TRUE!</td>\n",
       "      <td>j4KvrAUjn6c</td>\n",
       "      <td>29</td>\n",
       "      <td>2018-05-13T18:03:56.000Z</td>\n",
       "      <td>9081270</td>\n",
       "      <td>2018-05-13</td>\n",
       "      <td>18:03:56.000Z</td>\n",
       "      <td>2018</td>\n",
       "      <td>05</td>\n",
       "      <td>13T18:03:56.000Z</td>\n",
       "      <td>13</td>\n",
       "      <td>18:03:56.000Z</td>\n",
       "    </tr>\n",
       "    <tr>\n",
       "      <th>2</th>\n",
       "      <td>2</td>\n",
       "      <td>YoungBoy Never Broke Again Goes Sneaker Shoppi...</td>\n",
       "      <td>t4pRQ0jn23Q</td>\n",
       "      <td>28</td>\n",
       "      <td>2018-05-14T14:00:03.000Z</td>\n",
       "      <td>4406761</td>\n",
       "      <td>2018-05-14</td>\n",
       "      <td>14:00:03.000Z</td>\n",
       "      <td>2018</td>\n",
       "      <td>05</td>\n",
       "      <td>14T14:00:03.000Z</td>\n",
       "      <td>14</td>\n",
       "      <td>14:00:03.000Z</td>\n",
       "    </tr>\n",
       "    <tr>\n",
       "      <th>3</th>\n",
       "      <td>3</td>\n",
       "      <td>周杰倫 Jay Chou【不愛我就拉倒 If You Don't Love Me, It's...</td>\n",
       "      <td>MAjY8mCTXWk</td>\n",
       "      <td>28</td>\n",
       "      <td>2018-05-14T15:59:47.000Z</td>\n",
       "      <td>17259071</td>\n",
       "      <td>2018-05-14</td>\n",
       "      <td>15:59:47.000Z</td>\n",
       "      <td>2018</td>\n",
       "      <td>05</td>\n",
       "      <td>14T15:59:47.000Z</td>\n",
       "      <td>14</td>\n",
       "      <td>15:59:47.000Z</td>\n",
       "    </tr>\n",
       "    <tr>\n",
       "      <th>4</th>\n",
       "      <td>4</td>\n",
       "      <td>Cobra Kai Season 2</td>\n",
       "      <td>WIV3xNz8NoM</td>\n",
       "      <td>28</td>\n",
       "      <td>2018-05-10T17:02:55.000Z</td>\n",
       "      <td>1011030</td>\n",
       "      <td>2018-05-10</td>\n",
       "      <td>17:02:55.000Z</td>\n",
       "      <td>2018</td>\n",
       "      <td>05</td>\n",
       "      <td>10T17:02:55.000Z</td>\n",
       "      <td>10</td>\n",
       "      <td>17:02:55.000Z</td>\n",
       "    </tr>\n",
       "  </tbody>\n",
       "</table>\n",
       "</div>"
      ],
      "text/plain": [
       "   Unnamed: 0                                        Video Title     Video ID  \\\n",
       "0           0        Sam Smith - Pray (Official Video) ft. Logic  8h--kFui1JA   \n",
       "1           1         WE MADE OUR MOM CRY...HER DREAM CAME TRUE!  j4KvrAUjn6c   \n",
       "2           2  YoungBoy Never Broke Again Goes Sneaker Shoppi...  t4pRQ0jn23Q   \n",
       "3           3  周杰倫 Jay Chou【不愛我就拉倒 If You Don't Love Me, It's...  MAjY8mCTXWk   \n",
       "4           4                                 Cobra Kai Season 2  WIV3xNz8NoM   \n",
       "\n",
       "   Number of Days Trending            Time Published  Total Views  \\\n",
       "0                       29  2018-05-09T17:00:00.000Z     17424422   \n",
       "1                       29  2018-05-13T18:03:56.000Z      9081270   \n",
       "2                       28  2018-05-14T14:00:03.000Z      4406761   \n",
       "3                       28  2018-05-14T15:59:47.000Z     17259071   \n",
       "4                       28  2018-05-10T17:02:55.000Z      1011030   \n",
       "\n",
       "  Date Published   Publish Time Year Published Month Published  \\\n",
       "0     2018-05-09  17:00:00.000Z           2018              05   \n",
       "1     2018-05-13  18:03:56.000Z           2018              05   \n",
       "2     2018-05-14  14:00:03.000Z           2018              05   \n",
       "3     2018-05-14  15:59:47.000Z           2018              05   \n",
       "4     2018-05-10  17:02:55.000Z           2018              05   \n",
       "\n",
       "      Day Published Day           Time  \n",
       "0  09T17:00:00.000Z  09  17:00:00.000Z  \n",
       "1  13T18:03:56.000Z  13  18:03:56.000Z  \n",
       "2  14T14:00:03.000Z  14  14:00:03.000Z  \n",
       "3  14T15:59:47.000Z  14  15:59:47.000Z  \n",
       "4  10T17:02:55.000Z  10  17:02:55.000Z  "
      ]
     },
     "execution_count": 19,
     "metadata": {},
     "output_type": "execute_result"
    }
   ],
   "source": [
    "#Separate out the day of the year\n",
    "master_df[['Day', 'Time']] = master_df[\"Day Published\"].str.split(\"T\",expand=True)\n",
    "\n",
    "master_df.head()"
   ]
  },
  {
   "cell_type": "code",
   "execution_count": 32,
   "metadata": {},
   "outputs": [
    {
     "data": {
      "text/html": [
       "<div>\n",
       "<style scoped>\n",
       "    .dataframe tbody tr th:only-of-type {\n",
       "        vertical-align: middle;\n",
       "    }\n",
       "\n",
       "    .dataframe tbody tr th {\n",
       "        vertical-align: top;\n",
       "    }\n",
       "\n",
       "    .dataframe thead th {\n",
       "        text-align: right;\n",
       "    }\n",
       "</style>\n",
       "<table border=\"1\" class=\"dataframe\">\n",
       "  <thead>\n",
       "    <tr style=\"text-align: right;\">\n",
       "      <th></th>\n",
       "      <th>Video Title</th>\n",
       "      <th>Video ID</th>\n",
       "      <th>Number of Days Trending</th>\n",
       "      <th>Day</th>\n",
       "      <th>Total Views</th>\n",
       "    </tr>\n",
       "  </thead>\n",
       "  <tbody>\n",
       "    <tr>\n",
       "      <th>0</th>\n",
       "      <td>Sam Smith - Pray (Official Video) ft. Logic</td>\n",
       "      <td>8h--kFui1JA</td>\n",
       "      <td>29</td>\n",
       "      <td>09</td>\n",
       "      <td>17424422</td>\n",
       "    </tr>\n",
       "    <tr>\n",
       "      <th>1</th>\n",
       "      <td>WE MADE OUR MOM CRY...HER DREAM CAME TRUE!</td>\n",
       "      <td>j4KvrAUjn6c</td>\n",
       "      <td>29</td>\n",
       "      <td>13</td>\n",
       "      <td>9081270</td>\n",
       "    </tr>\n",
       "    <tr>\n",
       "      <th>2</th>\n",
       "      <td>YoungBoy Never Broke Again Goes Sneaker Shoppi...</td>\n",
       "      <td>t4pRQ0jn23Q</td>\n",
       "      <td>28</td>\n",
       "      <td>14</td>\n",
       "      <td>4406761</td>\n",
       "    </tr>\n",
       "    <tr>\n",
       "      <th>3</th>\n",
       "      <td>周杰倫 Jay Chou【不愛我就拉倒 If You Don't Love Me, It's...</td>\n",
       "      <td>MAjY8mCTXWk</td>\n",
       "      <td>28</td>\n",
       "      <td>14</td>\n",
       "      <td>17259071</td>\n",
       "    </tr>\n",
       "    <tr>\n",
       "      <th>4</th>\n",
       "      <td>Cobra Kai Season 2</td>\n",
       "      <td>WIV3xNz8NoM</td>\n",
       "      <td>28</td>\n",
       "      <td>10</td>\n",
       "      <td>1011030</td>\n",
       "    </tr>\n",
       "  </tbody>\n",
       "</table>\n",
       "</div>"
      ],
      "text/plain": [
       "                                         Video Title     Video ID  \\\n",
       "0        Sam Smith - Pray (Official Video) ft. Logic  8h--kFui1JA   \n",
       "1         WE MADE OUR MOM CRY...HER DREAM CAME TRUE!  j4KvrAUjn6c   \n",
       "2  YoungBoy Never Broke Again Goes Sneaker Shoppi...  t4pRQ0jn23Q   \n",
       "3  周杰倫 Jay Chou【不愛我就拉倒 If You Don't Love Me, It's...  MAjY8mCTXWk   \n",
       "4                                 Cobra Kai Season 2  WIV3xNz8NoM   \n",
       "\n",
       "   Number of Days Trending Day  Total Views  \n",
       "0                       29  09     17424422  \n",
       "1                       29  13      9081270  \n",
       "2                       28  14      4406761  \n",
       "3                       28  14     17259071  \n",
       "4                       28  10      1011030  "
      ]
     },
     "execution_count": 32,
     "metadata": {},
     "output_type": "execute_result"
    }
   ],
   "source": [
    "#Only keep what I need\n",
    "best_df = master_df[[\"Video Title\", \"Video ID\", \"Number of Days Trending\", \"Day\", \"Total Views\"]]\n",
    "\n",
    "best_df.head()"
   ]
  },
  {
   "cell_type": "code",
   "execution_count": 33,
   "metadata": {},
   "outputs": [
    {
     "name": "stderr",
     "output_type": "stream",
     "text": [
      "C:\\Users\\mjbgo\\anaconda3\\lib\\site-packages\\ipykernel_launcher.py:2: SettingWithCopyWarning: \n",
      "A value is trying to be set on a copy of a slice from a DataFrame.\n",
      "Try using .loc[row_indexer,col_indexer] = value instead\n",
      "\n",
      "See the caveats in the documentation: https://pandas.pydata.org/pandas-docs/stable/user_guide/indexing.html#returning-a-view-versus-a-copy\n",
      "  \n"
     ]
    }
   ],
   "source": [
    "#Convert the day to an int\n",
    "best_df['Day'] = pd.to_numeric(best_df['Day'])"
   ]
  },
  {
   "cell_type": "code",
   "execution_count": 34,
   "metadata": {},
   "outputs": [
    {
     "data": {
      "text/html": [
       "<div>\n",
       "<style scoped>\n",
       "    .dataframe tbody tr th:only-of-type {\n",
       "        vertical-align: middle;\n",
       "    }\n",
       "\n",
       "    .dataframe tbody tr th {\n",
       "        vertical-align: top;\n",
       "    }\n",
       "\n",
       "    .dataframe thead th {\n",
       "        text-align: right;\n",
       "    }\n",
       "</style>\n",
       "<table border=\"1\" class=\"dataframe\">\n",
       "  <thead>\n",
       "    <tr style=\"text-align: right;\">\n",
       "      <th></th>\n",
       "      <th>Video Title</th>\n",
       "      <th>Video ID</th>\n",
       "      <th>Number of Days Trending</th>\n",
       "      <th>Day</th>\n",
       "      <th>Total Views</th>\n",
       "    </tr>\n",
       "  </thead>\n",
       "  <tbody>\n",
       "    <tr>\n",
       "      <th>423</th>\n",
       "      <td>Gorillaz - Humility (Official Video)</td>\n",
       "      <td>E5yFcdPAGv0</td>\n",
       "      <td>14</td>\n",
       "      <td>31</td>\n",
       "      <td>25016614</td>\n",
       "    </tr>\n",
       "    <tr>\n",
       "      <th>395</th>\n",
       "      <td>Clean Bandit - Solo feat. Demi Lovato [Officia...</td>\n",
       "      <td>8JnfIa84TnU</td>\n",
       "      <td>14</td>\n",
       "      <td>31</td>\n",
       "      <td>21250349</td>\n",
       "    </tr>\n",
       "    <tr>\n",
       "      <th>589</th>\n",
       "      <td>THE BICYCLE OF SPRINGS</td>\n",
       "      <td>N39uwTykTQk</td>\n",
       "      <td>13</td>\n",
       "      <td>31</td>\n",
       "      <td>6169981</td>\n",
       "    </tr>\n",
       "    <tr>\n",
       "      <th>3173</th>\n",
       "      <td>WATCH: The super blue blood moon makes first a...</td>\n",
       "      <td>kUZlz6VbMCg</td>\n",
       "      <td>6</td>\n",
       "      <td>31</td>\n",
       "      <td>5625319</td>\n",
       "    </tr>\n",
       "    <tr>\n",
       "      <th>691</th>\n",
       "      <td>Trying $1 Makeup From Wish</td>\n",
       "      <td>LfeEu4_vtfQ</td>\n",
       "      <td>13</td>\n",
       "      <td>31</td>\n",
       "      <td>5558317</td>\n",
       "    </tr>\n",
       "  </tbody>\n",
       "</table>\n",
       "</div>"
      ],
      "text/plain": [
       "                                            Video Title     Video ID  \\\n",
       "423                Gorillaz - Humility (Official Video)  E5yFcdPAGv0   \n",
       "395   Clean Bandit - Solo feat. Demi Lovato [Officia...  8JnfIa84TnU   \n",
       "589                              THE BICYCLE OF SPRINGS  N39uwTykTQk   \n",
       "3173  WATCH: The super blue blood moon makes first a...  kUZlz6VbMCg   \n",
       "691                          Trying $1 Makeup From Wish  LfeEu4_vtfQ   \n",
       "\n",
       "      Number of Days Trending  Day  Total Views  \n",
       "423                        14   31     25016614  \n",
       "395                        14   31     21250349  \n",
       "589                        13   31      6169981  \n",
       "3173                        6   31      5625319  \n",
       "691                        13   31      5558317  "
      ]
     },
     "execution_count": 34,
     "metadata": {},
     "output_type": "execute_result"
    }
   ],
   "source": [
    "#Organize by day\n",
    "best_df = best_df.sort_values([\"Day\", \"Total Views\"], ascending=False)\n",
    "\n",
    "best_df.head()"
   ]
  },
  {
   "cell_type": "code",
   "execution_count": null,
   "metadata": {},
   "outputs": [],
   "source": []
  },
  {
   "cell_type": "code",
   "execution_count": 47,
   "metadata": {},
   "outputs": [
    {
     "data": {
      "image/png": "[encoded data removed]",
      "text/plain": [
       "<Figure size 432x288 with 1 Axes>"
      ]
     },
     "metadata": {
      "needs_background": "light"
     },
     "output_type": "display_data"
    }
   ],
   "source": [
    "#Create a bar graph that shows day by number of AVERAGE days trending \n",
    "best_df.groupby('Day')['Number of Days Trending'].mean().plot(kind='bar', color=\"green\")\n",
    "\n",
    "plt.title(\"Total Average Days Trending by Day of the Month Published\")\n",
    "plt.xlabel(\"Day of the Month Published\")\n",
    "plt.ylabel(\"Total Days Trending\")\n",
    "\n",
    "plt.savefig(\"TotalDaysTrendingMeanperDayofMonthPublishedBar\")\n",
    "\n",
    "plt.show()\n"
   ]
  },
  {
   "cell_type": "code",
   "execution_count": 37,
   "metadata": {},
   "outputs": [
    {
     "data": {
      "image/png": "[encoded data removed]",
      "text/plain": [
       "<Figure size 432x288 with 1 Axes>"
      ]
     },
     "metadata": {
      "needs_background": "light"
     },
     "output_type": "display_data"
    }
   ],
   "source": [
    "#Create a bar graph that shows day by number of SUM days trending\n",
    "best_df.groupby('Day')['Number of Days Trending'].sum().plot(kind='bar')\n",
    "\n",
    "plt.title(\"Total Sum Days Trending by Day of the Month Published\")\n",
    "plt.xlabel(\"Day of the Month Published\")\n",
    "plt.ylabel(\"Total Days Trending\")\n",
    "\n",
    "plt.savefig(\"TotalDaysTrendingSumperDayofMonthPublishedBar\")\n",
    "\n",
    "plt.show()\n"
   ]
  },
  {
   "cell_type": "code",
   "execution_count": 39,
   "metadata": {},
   "outputs": [
    {
     "data": {
      "image/png": "[encoded data removed]",
      "text/plain": [
       "<Figure size 432x288 with 1 Axes>"
      ]
     },
     "metadata": {
      "needs_background": "light"
     },
     "output_type": "display_data"
    }
   ],
   "source": [
    "#Scatterplot\n",
    "plt.scatter(best_df[\"Day\"], best_df[\"Number of Days Trending\"])\n",
    "plt.title(\"Total Days Trending by Day of the Month Published\")\n",
    "plt.xlabel(\"Day of the Month Published\")\n",
    "plt.ylabel(\"Total Days Trending\")\n",
    "\n",
    "plt.savefig(\"TotalDaysTredningperDayofMonthPublishedScatter\")\n",
    "\n",
    "plt.show()"
   ]
  },
  {
   "cell_type": "code",
   "execution_count": 40,
   "metadata": {},
   "outputs": [
    {
     "name": "stdout",
     "output_type": "stream",
     "text": [
      "The correlation between the two factors is 0.07\n"
     ]
    }
   ],
   "source": [
    "#Correlation\n",
    "month = best_df[\"Day\"]\n",
    "views = best_df[\"Number of Days Trending\"]\n",
    "\n",
    "correlation = st.pearsonr(month, views)\n",
    "\n",
    "print(f\"The correlation between the two factors is {round(correlation[0],2)}\")"
   ]
  },
  {
   "cell_type": "code",
   "execution_count": null,
   "metadata": {},
   "outputs": [],
   "source": []
  },
  {
   "cell_type": "code",
   "execution_count": 48,
   "metadata": {},
   "outputs": [
    {
     "data": {
      "image/png": "[encoded data removed]",
      "text/plain": [
       "<Figure size 432x288 with 1 Axes>"
      ]
     },
     "metadata": {
      "needs_background": "light"
     },
     "output_type": "display_data"
    }
   ],
   "source": [
    "#Create a bar graph that shows day by number of AVERAGE views\n",
    "best_df.groupby('Day')['Total Views'].mean().plot(kind='bar')\n",
    "\n",
    "plt.title(\"Total Average Views by Day of the Month Published\")\n",
    "plt.xlabel(\"Day of the Month Published\")\n",
    "plt.ylabel(\"Total Views (In Billions)\")\n",
    "\n",
    "plt.savefig(\"TotalViewsMeanperDayofMonthPublishedBar\")\n",
    "\n",
    "plt.show()"
   ]
  },
  {
   "cell_type": "code",
   "execution_count": 42,
   "metadata": {},
   "outputs": [
    {
     "data": {
      "image/png": "[encoded data removed]",
      "text/plain": [
       "<Figure size 432x288 with 1 Axes>"
      ]
     },
     "metadata": {
      "needs_background": "light"
     },
     "output_type": "display_data"
    }
   ],
   "source": [
    "#Create a bar graph that shows day by number of SUM views\n",
    "best_df.groupby('Day')['Total Views'].sum().plot(kind='bar')\n",
    "\n",
    "plt.title(\"Total Sum Views by Day of the Month Published\")\n",
    "plt.xlabel(\"Day of the Month Published\")\n",
    "plt.ylabel(\"Total Views (In Billions)\")\n",
    "\n",
    "plt.savefig(\"TotalViewsSumperDayofMonthPublishedBar\")\n",
    "\n",
    "plt.show()"
   ]
  },
  {
   "cell_type": "code",
   "execution_count": 43,
   "metadata": {},
   "outputs": [
    {
     "data": {
      "image/png": "[encoded data removed]",
      "text/plain": [
       "<Figure size 432x288 with 1 Axes>"
      ]
     },
     "metadata": {
      "needs_background": "light"
     },
     "output_type": "display_data"
    }
   ],
   "source": [
    "#Scatterplot\n",
    "plt.scatter(best_df[\"Day\"], best_df[\"Total Views\"])\n",
    "plt.title(\"Total Views by Day of the Month Published\")\n",
    "plt.xlabel(\"Day of the Month Published\")\n",
    "plt.ylabel(\"Total Views (In Billions)\")\n",
    "\n",
    "plt.savefig(\"TotalViewsperDayofMonthPublishedScatter\")\n",
    "\n",
    "plt.show()"
   ]
  },
  {
   "cell_type": "code",
   "execution_count": 44,
   "metadata": {},
   "outputs": [
    {
     "name": "stdout",
     "output_type": "stream",
     "text": [
      "The correlation between the two factors is -0.06\n"
     ]
    }
   ],
   "source": [
    "#Correlation\n",
    "month = best_df[\"Day\"]\n",
    "views = best_df[\"Total Views\"]\n",
    "\n",
    "correlation = st.pearsonr(month, views)\n",
    "\n",
    "print(f\"The correlation between the two factors is {round(correlation[0],2)}\")"
   ]
  },
  {
   "cell_type": "code",
   "execution_count": null,
   "metadata": {},
   "outputs": [],
   "source": []
  },
  {
   "cell_type": "code",
   "execution_count": 45,
   "metadata": {},
   "outputs": [
    {
     "data": {
      "image/png": "[encoded data removed]",
      "text/plain": [
       "<Figure size 432x288 with 1 Axes>"
      ]
     },
     "metadata": {
      "needs_background": "light"
     },
     "output_type": "display_data"
    }
   ],
   "source": [
    "#Create line graph that shows date (x) by views(y) \n",
    "\n",
    "master_df.groupby('Date Published')['Total Views'].sum().plot(kind='line')\n",
    "\n",
    "plt.title(\"Total Sum Views by Date Published\")\n",
    "plt.xlabel(\"Date Published\")\n",
    "plt.ylabel(\"Total Views\")\n",
    "\n",
    "plt.savefig(\"TotalViewsSumperDatePublishedLine\")\n",
    "\n",
    "plt.show()"
   ]
  },
  {
   "cell_type": "code",
   "execution_count": null,
   "metadata": {},
   "outputs": [],
   "source": []
  },
  {
   "cell_type": "code",
   "execution_count": null,
   "metadata": {},
   "outputs": [],
   "source": []
  },
  {
   "cell_type": "code",
   "execution_count": null,
   "metadata": {},
   "outputs": [],
   "source": []
  },
  {
   "cell_type": "code",
   "execution_count": null,
   "metadata": {},
   "outputs": [],
   "source": []
  }
 ],
 "metadata": {
  "kernelspec": {
   "display_name": "Python 3",
   "language": "python",
   "name": "python3"
  },
  "language_info": {
   "codemirror_mode": {
    "name": "ipython",
    "version": 3
   },
   "file_extension": ".py",
   "mimetype": "text/x-python",
   "name": "python",
   "nbconvert_exporter": "python",
   "pygments_lexer": "ipython3",
   "version": "3.7.6"
  }
 },
 "nbformat": 4,
 "nbformat_minor": 4
}
