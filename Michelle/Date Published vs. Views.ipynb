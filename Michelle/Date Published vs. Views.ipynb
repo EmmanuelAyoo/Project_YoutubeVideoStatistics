{
 "cells": [
  {
   "cell_type": "code",
   "execution_count": 1,
   "metadata": {},
   "outputs": [],
   "source": [
    "#import dependencies\n",
    "\n",
    "import pandas as pd\n",
    "from datetime import datetime"
   ]
  },
  {
   "cell_type": "code",
   "execution_count": 2,
   "metadata": {},
   "outputs": [
    {
     "data": {
      "text/html": [
       "<div>\n",
       "<style scoped>\n",
       "    .dataframe tbody tr th:only-of-type {\n",
       "        vertical-align: middle;\n",
       "    }\n",
       "\n",
       "    .dataframe tbody tr th {\n",
       "        vertical-align: top;\n",
       "    }\n",
       "\n",
       "    .dataframe thead th {\n",
       "        text-align: right;\n",
       "    }\n",
       "</style>\n",
       "<table border=\"1\" class=\"dataframe\">\n",
       "  <thead>\n",
       "    <tr style=\"text-align: right;\">\n",
       "      <th></th>\n",
       "      <th>Unnamed: 0</th>\n",
       "      <th>Video Title</th>\n",
       "      <th>Video ID</th>\n",
       "      <th>Number of Days Trending</th>\n",
       "      <th>Time Published</th>\n",
       "      <th>Total Views</th>\n",
       "    </tr>\n",
       "  </thead>\n",
       "  <tbody>\n",
       "    <tr>\n",
       "      <th>0</th>\n",
       "      <td>0</td>\n",
       "      <td>Sam Smith - Pray (Official Video) ft. Logic</td>\n",
       "      <td>8h--kFui1JA</td>\n",
       "      <td>29</td>\n",
       "      <td>2018-05-09T17:00:00.000Z</td>\n",
       "      <td>17424422</td>\n",
       "    </tr>\n",
       "    <tr>\n",
       "      <th>1</th>\n",
       "      <td>1</td>\n",
       "      <td>WE MADE OUR MOM CRY...HER DREAM CAME TRUE!</td>\n",
       "      <td>j4KvrAUjn6c</td>\n",
       "      <td>29</td>\n",
       "      <td>2018-05-13T18:03:56.000Z</td>\n",
       "      <td>9081270</td>\n",
       "    </tr>\n",
       "    <tr>\n",
       "      <th>2</th>\n",
       "      <td>2</td>\n",
       "      <td>YoungBoy Never Broke Again Goes Sneaker Shoppi...</td>\n",
       "      <td>t4pRQ0jn23Q</td>\n",
       "      <td>28</td>\n",
       "      <td>2018-05-14T14:00:03.000Z</td>\n",
       "      <td>4406761</td>\n",
       "    </tr>\n",
       "    <tr>\n",
       "      <th>3</th>\n",
       "      <td>3</td>\n",
       "      <td>The ULTIMATE $30,000 Gaming PC Setup</td>\n",
       "      <td>r-3iathMo7o</td>\n",
       "      <td>28</td>\n",
       "      <td>2018-05-13T19:00:25.000Z</td>\n",
       "      <td>6541522</td>\n",
       "    </tr>\n",
       "    <tr>\n",
       "      <th>4</th>\n",
       "      <td>4</td>\n",
       "      <td>Why I'm So Scared (being myself and crying too...</td>\n",
       "      <td>QBL8IRJ5yHU</td>\n",
       "      <td>28</td>\n",
       "      <td>2018-05-14T19:00:01.000Z</td>\n",
       "      <td>3732851</td>\n",
       "    </tr>\n",
       "  </tbody>\n",
       "</table>\n",
       "</div>"
      ],
      "text/plain": [
       "   Unnamed: 0                                        Video Title     Video ID  \\\n",
       "0           0        Sam Smith - Pray (Official Video) ft. Logic  8h--kFui1JA   \n",
       "1           1         WE MADE OUR MOM CRY...HER DREAM CAME TRUE!  j4KvrAUjn6c   \n",
       "2           2  YoungBoy Never Broke Again Goes Sneaker Shoppi...  t4pRQ0jn23Q   \n",
       "3           3               The ULTIMATE $30,000 Gaming PC Setup  r-3iathMo7o   \n",
       "4           4  Why I'm So Scared (being myself and crying too...  QBL8IRJ5yHU   \n",
       "\n",
       "   Number of Days Trending            Time Published  Total Views  \n",
       "0                       29  2018-05-09T17:00:00.000Z     17424422  \n",
       "1                       29  2018-05-13T18:03:56.000Z      9081270  \n",
       "2                       28  2018-05-14T14:00:03.000Z      4406761  \n",
       "3                       28  2018-05-13T19:00:25.000Z      6541522  \n",
       "4                       28  2018-05-14T19:00:01.000Z      3732851  "
      ]
     },
     "execution_count": 2,
     "metadata": {},
     "output_type": "execute_result"
    }
   ],
   "source": [
    "#Store file path in a variable and read in csv\n",
    "\n",
    "file = \"MasterYouTube.csv\"\n",
    "\n",
    "master_df = pd.read_csv(file)\n",
    "\n",
    "#Print head\n",
    "master_df.head()"
   ]
  },
  {
   "cell_type": "code",
   "execution_count": null,
   "metadata": {},
   "outputs": [],
   "source": [
    "#Reformat date so I can pull out just the date published and put it in a new column"
   ]
  },
  {
   "cell_type": "code",
   "execution_count": null,
   "metadata": {},
   "outputs": [],
   "source": []
  },
  {
   "cell_type": "code",
   "execution_count": null,
   "metadata": {},
   "outputs": [],
   "source": [
    "#Organize by date published"
   ]
  },
  {
   "cell_type": "code",
   "execution_count": null,
   "metadata": {},
   "outputs": [],
   "source": [
    "#Find average days trending vs. date published"
   ]
  },
  {
   "cell_type": "code",
   "execution_count": null,
   "metadata": {},
   "outputs": [],
   "source": [
    "#Make a graphe to show this relationship"
   ]
  },
  {
   "cell_type": "code",
   "execution_count": null,
   "metadata": {},
   "outputs": [],
   "source": []
  },
  {
   "cell_type": "code",
   "execution_count": null,
   "metadata": {},
   "outputs": [],
   "source": [
    "#reformat so i delete all but the last day trending so it only has the total views and not the days leading up to total \n",
    "#views"
   ]
  },
  {
   "cell_type": "code",
   "execution_count": null,
   "metadata": {},
   "outputs": [],
   "source": []
  },
  {
   "cell_type": "code",
   "execution_count": null,
   "metadata": {},
   "outputs": [],
   "source": [
    "#Find total views of all videos by date"
   ]
  },
  {
   "cell_type": "code",
   "execution_count": null,
   "metadata": {},
   "outputs": [],
   "source": [
    "#Find total average views of all videos by date"
   ]
  },
  {
   "cell_type": "code",
   "execution_count": null,
   "metadata": {},
   "outputs": [],
   "source": []
  },
  {
   "cell_type": "code",
   "execution_count": null,
   "metadata": {},
   "outputs": [],
   "source": [
    "#Create line graph that shows date (x) by views(y) "
   ]
  },
  {
   "cell_type": "code",
   "execution_count": null,
   "metadata": {},
   "outputs": [],
   "source": []
  },
  {
   "cell_type": "code",
   "execution_count": null,
   "metadata": {},
   "outputs": [],
   "source": []
  },
  {
   "cell_type": "code",
   "execution_count": null,
   "metadata": {},
   "outputs": [],
   "source": []
  },
  {
   "cell_type": "code",
   "execution_count": null,
   "metadata": {},
   "outputs": [],
   "source": []
  }
 ],
 "metadata": {
  "kernelspec": {
   "display_name": "Python 3",
   "language": "python",
   "name": "python3"
  },
  "language_info": {
   "codemirror_mode": {
    "name": "ipython",
    "version": 3
   },
   "file_extension": ".py",
   "mimetype": "text/x-python",
   "name": "python",
   "nbconvert_exporter": "python",
   "pygments_lexer": "ipython3",
   "version": "3.7.6"
  }
 },
 "nbformat": 4,
 "nbformat_minor": 4
}
