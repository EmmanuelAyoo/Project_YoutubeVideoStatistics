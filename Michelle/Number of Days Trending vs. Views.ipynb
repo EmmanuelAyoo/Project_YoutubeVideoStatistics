{
 "cells": [
  {
   "cell_type": "code",
   "execution_count": null,
   "metadata": {},
   "outputs": [],
   "source": []
  },
  {
   "cell_type": "code",
   "execution_count": 1,
   "metadata": {},
   "outputs": [],
   "source": [
    "#import dependencies\n",
    "\n",
    "import pandas as pd\n",
    "from datetime import datetime\n",
    "import matplotlib.pyplot as plt\n",
    "import numpy as np\n",
    "import scipy.stats as sts\n"
   ]
  },
  {
   "cell_type": "code",
   "execution_count": 2,
   "metadata": {},
   "outputs": [
    {
     "data": {
      "text/html": [
       "<div>\n",
       "<style scoped>\n",
       "    .dataframe tbody tr th:only-of-type {\n",
       "        vertical-align: middle;\n",
       "    }\n",
       "\n",
       "    .dataframe tbody tr th {\n",
       "        vertical-align: top;\n",
       "    }\n",
       "\n",
       "    .dataframe thead th {\n",
       "        text-align: right;\n",
       "    }\n",
       "</style>\n",
       "<table border=\"1\" class=\"dataframe\">\n",
       "  <thead>\n",
       "    <tr style=\"text-align: right;\">\n",
       "      <th></th>\n",
       "      <th>Unnamed: 0</th>\n",
       "      <th>Video Title</th>\n",
       "      <th>Video ID</th>\n",
       "      <th>Trending Date</th>\n",
       "      <th>Time Published</th>\n",
       "      <th>Total Views</th>\n",
       "    </tr>\n",
       "  </thead>\n",
       "  <tbody>\n",
       "    <tr>\n",
       "      <th>0</th>\n",
       "      <td>0</td>\n",
       "      <td>WE WANT TO TALK ABOUT OUR MARRIAGE</td>\n",
       "      <td>2kyS6SvSYSE</td>\n",
       "      <td>17.14.11</td>\n",
       "      <td>2017-11-13T17:13:01.000Z</td>\n",
       "      <td>748374</td>\n",
       "    </tr>\n",
       "    <tr>\n",
       "      <th>1</th>\n",
       "      <td>1</td>\n",
       "      <td>The Trump Presidency: Last Week Tonight with J...</td>\n",
       "      <td>1ZAPwfrtAFY</td>\n",
       "      <td>17.14.11</td>\n",
       "      <td>2017-11-13T07:30:00.000Z</td>\n",
       "      <td>2418783</td>\n",
       "    </tr>\n",
       "    <tr>\n",
       "      <th>2</th>\n",
       "      <td>2</td>\n",
       "      <td>Racist Superman | Rudy Mancuso, King Bach &amp; Le...</td>\n",
       "      <td>5qpjK5DgCt4</td>\n",
       "      <td>17.14.11</td>\n",
       "      <td>2017-11-12T19:05:24.000Z</td>\n",
       "      <td>3191434</td>\n",
       "    </tr>\n",
       "    <tr>\n",
       "      <th>3</th>\n",
       "      <td>3</td>\n",
       "      <td>Nickelback Lyrics: Real or Fake?</td>\n",
       "      <td>puqaWrEC7tY</td>\n",
       "      <td>17.14.11</td>\n",
       "      <td>2017-11-13T11:00:04.000Z</td>\n",
       "      <td>343168</td>\n",
       "    </tr>\n",
       "    <tr>\n",
       "      <th>4</th>\n",
       "      <td>4</td>\n",
       "      <td>I Dare You: GOING BALD!?</td>\n",
       "      <td>d380meD0W0M</td>\n",
       "      <td>17.14.11</td>\n",
       "      <td>2017-11-12T18:01:41.000Z</td>\n",
       "      <td>2095731</td>\n",
       "    </tr>\n",
       "  </tbody>\n",
       "</table>\n",
       "</div>"
      ],
      "text/plain": [
       "   Unnamed: 0                                        Video Title     Video ID  \\\n",
       "0           0                 WE WANT TO TALK ABOUT OUR MARRIAGE  2kyS6SvSYSE   \n",
       "1           1  The Trump Presidency: Last Week Tonight with J...  1ZAPwfrtAFY   \n",
       "2           2  Racist Superman | Rudy Mancuso, King Bach & Le...  5qpjK5DgCt4   \n",
       "3           3                   Nickelback Lyrics: Real or Fake?  puqaWrEC7tY   \n",
       "4           4                           I Dare You: GOING BALD!?  d380meD0W0M   \n",
       "\n",
       "  Trending Date            Time Published  Total Views  \n",
       "0      17.14.11  2017-11-13T17:13:01.000Z       748374  \n",
       "1      17.14.11  2017-11-13T07:30:00.000Z      2418783  \n",
       "2      17.14.11  2017-11-12T19:05:24.000Z      3191434  \n",
       "3      17.14.11  2017-11-13T11:00:04.000Z       343168  \n",
       "4      17.14.11  2017-11-12T18:01:41.000Z      2095731  "
      ]
     },
     "execution_count": 2,
     "metadata": {},
     "output_type": "execute_result"
    }
   ],
   "source": [
    "#Store file path in a variable and read in csv\n",
    "\n",
    "file = \"CleanedYouTube.csv\"\n",
    "\n",
    "yt_df = pd.read_csv(file)\n",
    "\n",
    "#Print head\n",
    "\n",
    "yt_df.head()"
   ]
  },
  {
   "cell_type": "code",
   "execution_count": 3,
   "metadata": {},
   "outputs": [
    {
     "data": {
      "text/html": [
       "<div>\n",
       "<style scoped>\n",
       "    .dataframe tbody tr th:only-of-type {\n",
       "        vertical-align: middle;\n",
       "    }\n",
       "\n",
       "    .dataframe tbody tr th {\n",
       "        vertical-align: top;\n",
       "    }\n",
       "\n",
       "    .dataframe thead th {\n",
       "        text-align: right;\n",
       "    }\n",
       "</style>\n",
       "<table border=\"1\" class=\"dataframe\">\n",
       "  <thead>\n",
       "    <tr style=\"text-align: right;\">\n",
       "      <th></th>\n",
       "      <th>Video Title</th>\n",
       "      <th>Video ID</th>\n",
       "      <th>Trending Date</th>\n",
       "      <th>Total Views</th>\n",
       "    </tr>\n",
       "  </thead>\n",
       "  <tbody>\n",
       "    <tr>\n",
       "      <th>0</th>\n",
       "      <td>WE WANT TO TALK ABOUT OUR MARRIAGE</td>\n",
       "      <td>2kyS6SvSYSE</td>\n",
       "      <td>17.14.11</td>\n",
       "      <td>748374</td>\n",
       "    </tr>\n",
       "    <tr>\n",
       "      <th>1</th>\n",
       "      <td>The Trump Presidency: Last Week Tonight with J...</td>\n",
       "      <td>1ZAPwfrtAFY</td>\n",
       "      <td>17.14.11</td>\n",
       "      <td>2418783</td>\n",
       "    </tr>\n",
       "    <tr>\n",
       "      <th>2</th>\n",
       "      <td>Racist Superman | Rudy Mancuso, King Bach &amp; Le...</td>\n",
       "      <td>5qpjK5DgCt4</td>\n",
       "      <td>17.14.11</td>\n",
       "      <td>3191434</td>\n",
       "    </tr>\n",
       "    <tr>\n",
       "      <th>3</th>\n",
       "      <td>Nickelback Lyrics: Real or Fake?</td>\n",
       "      <td>puqaWrEC7tY</td>\n",
       "      <td>17.14.11</td>\n",
       "      <td>343168</td>\n",
       "    </tr>\n",
       "    <tr>\n",
       "      <th>4</th>\n",
       "      <td>I Dare You: GOING BALD!?</td>\n",
       "      <td>d380meD0W0M</td>\n",
       "      <td>17.14.11</td>\n",
       "      <td>2095731</td>\n",
       "    </tr>\n",
       "  </tbody>\n",
       "</table>\n",
       "</div>"
      ],
      "text/plain": [
       "                                         Video Title     Video ID  \\\n",
       "0                 WE WANT TO TALK ABOUT OUR MARRIAGE  2kyS6SvSYSE   \n",
       "1  The Trump Presidency: Last Week Tonight with J...  1ZAPwfrtAFY   \n",
       "2  Racist Superman | Rudy Mancuso, King Bach & Le...  5qpjK5DgCt4   \n",
       "3                   Nickelback Lyrics: Real or Fake?  puqaWrEC7tY   \n",
       "4                           I Dare You: GOING BALD!?  d380meD0W0M   \n",
       "\n",
       "  Trending Date  Total Views  \n",
       "0      17.14.11       748374  \n",
       "1      17.14.11      2418783  \n",
       "2      17.14.11      3191434  \n",
       "3      17.14.11       343168  \n",
       "4      17.14.11      2095731  "
      ]
     },
     "execution_count": 3,
     "metadata": {},
     "output_type": "execute_result"
    }
   ],
   "source": [
    "#trending date vs. views\n",
    "\n",
    "trending_df = yt_df[[\"Video Title\", \"Video ID\", \"Trending Date\", \"Total Views\"]]\n",
    "\n",
    "trending_df.head()"
   ]
  },
  {
   "cell_type": "code",
   "execution_count": 4,
   "metadata": {},
   "outputs": [
    {
     "data": {
      "text/html": [
       "<div>\n",
       "<style scoped>\n",
       "    .dataframe tbody tr th:only-of-type {\n",
       "        vertical-align: middle;\n",
       "    }\n",
       "\n",
       "    .dataframe tbody tr th {\n",
       "        vertical-align: top;\n",
       "    }\n",
       "\n",
       "    .dataframe thead th {\n",
       "        text-align: right;\n",
       "    }\n",
       "</style>\n",
       "<table border=\"1\" class=\"dataframe\">\n",
       "  <thead>\n",
       "    <tr style=\"text-align: right;\">\n",
       "      <th></th>\n",
       "      <th>Video Title</th>\n",
       "      <th>Video ID</th>\n",
       "      <th>Trending Date</th>\n",
       "      <th>Total Views</th>\n",
       "    </tr>\n",
       "  </thead>\n",
       "  <tbody>\n",
       "    <tr>\n",
       "      <th>40159</th>\n",
       "      <td>Mindy Kaling's Daughter Had the Perfect Reacti...</td>\n",
       "      <td>-0CMnp02rNY</td>\n",
       "      <td>18.11.06</td>\n",
       "      <td>800359</td>\n",
       "    </tr>\n",
       "    <tr>\n",
       "      <th>39958</th>\n",
       "      <td>Mindy Kaling's Daughter Had the Perfect Reacti...</td>\n",
       "      <td>-0CMnp02rNY</td>\n",
       "      <td>18.10.06</td>\n",
       "      <td>792613</td>\n",
       "    </tr>\n",
       "    <tr>\n",
       "      <th>39746</th>\n",
       "      <td>Mindy Kaling's Daughter Had the Perfect Reacti...</td>\n",
       "      <td>-0CMnp02rNY</td>\n",
       "      <td>18.09.06</td>\n",
       "      <td>754273</td>\n",
       "    </tr>\n",
       "    <tr>\n",
       "      <th>39535</th>\n",
       "      <td>Mindy Kaling's Daughter Had the Perfect Reacti...</td>\n",
       "      <td>-0CMnp02rNY</td>\n",
       "      <td>18.08.06</td>\n",
       "      <td>705986</td>\n",
       "    </tr>\n",
       "    <tr>\n",
       "      <th>39326</th>\n",
       "      <td>Mindy Kaling's Daughter Had the Perfect Reacti...</td>\n",
       "      <td>-0CMnp02rNY</td>\n",
       "      <td>18.07.06</td>\n",
       "      <td>605506</td>\n",
       "    </tr>\n",
       "  </tbody>\n",
       "</table>\n",
       "</div>"
      ],
      "text/plain": [
       "                                             Video Title     Video ID  \\\n",
       "40159  Mindy Kaling's Daughter Had the Perfect Reacti...  -0CMnp02rNY   \n",
       "39958  Mindy Kaling's Daughter Had the Perfect Reacti...  -0CMnp02rNY   \n",
       "39746  Mindy Kaling's Daughter Had the Perfect Reacti...  -0CMnp02rNY   \n",
       "39535  Mindy Kaling's Daughter Had the Perfect Reacti...  -0CMnp02rNY   \n",
       "39326  Mindy Kaling's Daughter Had the Perfect Reacti...  -0CMnp02rNY   \n",
       "\n",
       "      Trending Date  Total Views  \n",
       "40159      18.11.06       800359  \n",
       "39958      18.10.06       792613  \n",
       "39746      18.09.06       754273  \n",
       "39535      18.08.06       705986  \n",
       "39326      18.07.06       605506  "
      ]
     },
     "execution_count": 4,
     "metadata": {},
     "output_type": "execute_result"
    }
   ],
   "source": [
    "#Organize by Video Title using Video ID\n",
    "videotitle_df = trending_df.sort_values([\"Video ID\", \"Trending Date\", \"Total Views\"], ascending = (True, False, True))\n",
    "\n",
    "videotitle_df.head()"
   ]
  },
  {
   "cell_type": "code",
   "execution_count": 5,
   "metadata": {},
   "outputs": [
    {
     "data": {
      "text/plain": [
       "j4KvrAUjn6c    29\n",
       "8h--kFui1JA    29\n",
       "ulNswX3If6U    28\n",
       "6S9c5nnDd_s    28\n",
       "iILJvqrAQ_w    28\n",
       "               ..\n",
       "goP4Z5wyOlM     1\n",
       "IXJhN4cOVM0     1\n",
       "WArjc_PF2b4     1\n",
       "UrSxvUc5R6Q     1\n",
       "rovAxg5A48Q     1\n",
       "Name: Video ID, Length: 6351, dtype: int64"
      ]
     },
     "execution_count": 5,
     "metadata": {},
     "output_type": "execute_result"
    }
   ],
   "source": [
    "#Find out how many days each video was trending\n",
    "\n",
    "trending_days = videotitle_df[\"Video ID\"].value_counts()\n",
    "\n",
    "trending_days"
   ]
  },
  {
   "cell_type": "code",
   "execution_count": null,
   "metadata": {},
   "outputs": [],
   "source": []
  },
  {
   "cell_type": "code",
   "execution_count": 6,
   "metadata": {},
   "outputs": [
    {
     "data": {
      "text/html": [
       "<div>\n",
       "<style scoped>\n",
       "    .dataframe tbody tr th:only-of-type {\n",
       "        vertical-align: middle;\n",
       "    }\n",
       "\n",
       "    .dataframe tbody tr th {\n",
       "        vertical-align: top;\n",
       "    }\n",
       "\n",
       "    .dataframe thead th {\n",
       "        text-align: right;\n",
       "    }\n",
       "</style>\n",
       "<table border=\"1\" class=\"dataframe\">\n",
       "  <thead>\n",
       "    <tr style=\"text-align: right;\">\n",
       "      <th></th>\n",
       "      <th>Video ID</th>\n",
       "      <th>Number of Days Trending</th>\n",
       "    </tr>\n",
       "  </thead>\n",
       "  <tbody>\n",
       "    <tr>\n",
       "      <th>0</th>\n",
       "      <td>j4KvrAUjn6c</td>\n",
       "      <td>29</td>\n",
       "    </tr>\n",
       "    <tr>\n",
       "      <th>1</th>\n",
       "      <td>8h--kFui1JA</td>\n",
       "      <td>29</td>\n",
       "    </tr>\n",
       "    <tr>\n",
       "      <th>2</th>\n",
       "      <td>ulNswX3If6U</td>\n",
       "      <td>28</td>\n",
       "    </tr>\n",
       "    <tr>\n",
       "      <th>3</th>\n",
       "      <td>6S9c5nnDd_s</td>\n",
       "      <td>28</td>\n",
       "    </tr>\n",
       "    <tr>\n",
       "      <th>4</th>\n",
       "      <td>iILJvqrAQ_w</td>\n",
       "      <td>28</td>\n",
       "    </tr>\n",
       "  </tbody>\n",
       "</table>\n",
       "</div>"
      ],
      "text/plain": [
       "      Video ID  Number of Days Trending\n",
       "0  j4KvrAUjn6c                       29\n",
       "1  8h--kFui1JA                       29\n",
       "2  ulNswX3If6U                       28\n",
       "3  6S9c5nnDd_s                       28\n",
       "4  iILJvqrAQ_w                       28"
      ]
     },
     "execution_count": 6,
     "metadata": {},
     "output_type": "execute_result"
    }
   ],
   "source": [
    "trendingSummary_df = pd.DataFrame(trending_days)\n",
    "\n",
    "#Make the index a column\n",
    "trendingSummary_df = trendingSummary_df.reset_index()\n",
    "\n",
    "#Change column names\n",
    "trendingSummary_df = trendingSummary_df.rename(columns={\"Video ID\": \"Number of Days Trending\",\n",
    "                                                       \"index\":\"Video ID\"})\n",
    "\n",
    "\n",
    "\n",
    "trendingSummary_df.head()"
   ]
  },
  {
   "cell_type": "code",
   "execution_count": 7,
   "metadata": {},
   "outputs": [
    {
     "data": {
      "text/plain": [
       "6351"
      ]
     },
     "execution_count": 7,
     "metadata": {},
     "output_type": "execute_result"
    }
   ],
   "source": [
    "len(trendingSummary_df)"
   ]
  },
  {
   "cell_type": "code",
   "execution_count": null,
   "metadata": {},
   "outputs": [],
   "source": []
  },
  {
   "cell_type": "code",
   "execution_count": 8,
   "metadata": {},
   "outputs": [
    {
     "data": {
      "text/html": [
       "<div>\n",
       "<style scoped>\n",
       "    .dataframe tbody tr th:only-of-type {\n",
       "        vertical-align: middle;\n",
       "    }\n",
       "\n",
       "    .dataframe tbody tr th {\n",
       "        vertical-align: top;\n",
       "    }\n",
       "\n",
       "    .dataframe thead th {\n",
       "        text-align: right;\n",
       "    }\n",
       "</style>\n",
       "<table border=\"1\" class=\"dataframe\">\n",
       "  <thead>\n",
       "    <tr style=\"text-align: right;\">\n",
       "      <th></th>\n",
       "      <th>Unnamed: 0</th>\n",
       "      <th>Video Title</th>\n",
       "      <th>Video ID</th>\n",
       "      <th>Trending Date</th>\n",
       "      <th>Time Published</th>\n",
       "      <th>Total Views</th>\n",
       "    </tr>\n",
       "  </thead>\n",
       "  <tbody>\n",
       "    <tr>\n",
       "      <th>16559</th>\n",
       "      <td>16559</td>\n",
       "      <td>Budweiser | Beer Country | :60</td>\n",
       "      <td>zzQsGL_F9_c</td>\n",
       "      <td>18.06.02</td>\n",
       "      <td>2018-01-30T18:30:04.000Z</td>\n",
       "      <td>199041</td>\n",
       "    </tr>\n",
       "    <tr>\n",
       "      <th>16360</th>\n",
       "      <td>16360</td>\n",
       "      <td>Budweiser | Beer Country | :60</td>\n",
       "      <td>zzQsGL_F9_c</td>\n",
       "      <td>18.05.02</td>\n",
       "      <td>2018-01-30T18:30:04.000Z</td>\n",
       "      <td>154206</td>\n",
       "    </tr>\n",
       "    <tr>\n",
       "      <th>144</th>\n",
       "      <td>144</td>\n",
       "      <td>Dark | Official Trailer [HD] | Netflix</td>\n",
       "      <td>zy0b9e40tK8</td>\n",
       "      <td>17.14.11</td>\n",
       "      <td>2017-11-09T09:00:07.000Z</td>\n",
       "      <td>378750</td>\n",
       "    </tr>\n",
       "    <tr>\n",
       "      <th>36895</th>\n",
       "      <td>36944</td>\n",
       "      <td>kanye west / charlamagne interview</td>\n",
       "      <td>zxwfDlhJIpw</td>\n",
       "      <td>18.25.05</td>\n",
       "      <td>2018-05-01T15:57:06.000Z</td>\n",
       "      <td>8442986</td>\n",
       "    </tr>\n",
       "    <tr>\n",
       "      <th>36693</th>\n",
       "      <td>36742</td>\n",
       "      <td>kanye west / charlamagne interview</td>\n",
       "      <td>zxwfDlhJIpw</td>\n",
       "      <td>18.24.05</td>\n",
       "      <td>2018-05-01T15:57:06.000Z</td>\n",
       "      <td>8431178</td>\n",
       "    </tr>\n",
       "  </tbody>\n",
       "</table>\n",
       "</div>"
      ],
      "text/plain": [
       "       Unnamed: 0                             Video Title     Video ID  \\\n",
       "16559       16559          Budweiser | Beer Country | :60  zzQsGL_F9_c   \n",
       "16360       16360          Budweiser | Beer Country | :60  zzQsGL_F9_c   \n",
       "144           144  Dark | Official Trailer [HD] | Netflix  zy0b9e40tK8   \n",
       "36895       36944      kanye west / charlamagne interview  zxwfDlhJIpw   \n",
       "36693       36742      kanye west / charlamagne interview  zxwfDlhJIpw   \n",
       "\n",
       "      Trending Date            Time Published  Total Views  \n",
       "16559      18.06.02  2018-01-30T18:30:04.000Z       199041  \n",
       "16360      18.05.02  2018-01-30T18:30:04.000Z       154206  \n",
       "144        17.14.11  2017-11-09T09:00:07.000Z       378750  \n",
       "36895      18.25.05  2018-05-01T15:57:06.000Z      8442986  \n",
       "36693      18.24.05  2018-05-01T15:57:06.000Z      8431178  "
      ]
     },
     "execution_count": 8,
     "metadata": {},
     "output_type": "execute_result"
    }
   ],
   "source": [
    "#Get rid of all but the last day trending so I only have the total views per video\n",
    "\n",
    "#Sort by video id, then date\n",
    "\n",
    "yt_df = yt_df.sort_values([\"Video ID\", \"Trending Date\"], ascending=False)\n",
    "\n",
    "yt_df.head()"
   ]
  },
  {
   "cell_type": "code",
   "execution_count": 9,
   "metadata": {},
   "outputs": [
    {
     "data": {
      "text/html": [
       "<div>\n",
       "<style scoped>\n",
       "    .dataframe tbody tr th:only-of-type {\n",
       "        vertical-align: middle;\n",
       "    }\n",
       "\n",
       "    .dataframe tbody tr th {\n",
       "        vertical-align: top;\n",
       "    }\n",
       "\n",
       "    .dataframe thead th {\n",
       "        text-align: right;\n",
       "    }\n",
       "</style>\n",
       "<table border=\"1\" class=\"dataframe\">\n",
       "  <thead>\n",
       "    <tr style=\"text-align: right;\">\n",
       "      <th></th>\n",
       "      <th>Unnamed: 0</th>\n",
       "      <th>Video Title</th>\n",
       "      <th>Video ID</th>\n",
       "      <th>Trending Date</th>\n",
       "      <th>Time Published</th>\n",
       "      <th>Total Views</th>\n",
       "    </tr>\n",
       "  </thead>\n",
       "  <tbody>\n",
       "    <tr>\n",
       "      <th>16559</th>\n",
       "      <td>16559</td>\n",
       "      <td>Budweiser | Beer Country | :60</td>\n",
       "      <td>zzQsGL_F9_c</td>\n",
       "      <td>18.06.02</td>\n",
       "      <td>2018-01-30T18:30:04.000Z</td>\n",
       "      <td>199041</td>\n",
       "    </tr>\n",
       "    <tr>\n",
       "      <th>144</th>\n",
       "      <td>144</td>\n",
       "      <td>Dark | Official Trailer [HD] | Netflix</td>\n",
       "      <td>zy0b9e40tK8</td>\n",
       "      <td>17.14.11</td>\n",
       "      <td>2017-11-09T09:00:07.000Z</td>\n",
       "      <td>378750</td>\n",
       "    </tr>\n",
       "    <tr>\n",
       "      <th>36895</th>\n",
       "      <td>36944</td>\n",
       "      <td>kanye west / charlamagne interview</td>\n",
       "      <td>zxwfDlhJIpw</td>\n",
       "      <td>18.25.05</td>\n",
       "      <td>2018-05-01T15:57:06.000Z</td>\n",
       "      <td>8442986</td>\n",
       "    </tr>\n",
       "    <tr>\n",
       "      <th>1183</th>\n",
       "      <td>1183</td>\n",
       "      <td>100 People Hold Their Breath for as Long as Th...</td>\n",
       "      <td>zxUwbflE1SY</td>\n",
       "      <td>17.19.11</td>\n",
       "      <td>2017-11-13T13:00:10.000Z</td>\n",
       "      <td>225280</td>\n",
       "    </tr>\n",
       "    <tr>\n",
       "      <th>27082</th>\n",
       "      <td>27082</td>\n",
       "      <td>This Is Me - Cover by Shoshana Bean Featuring ...</td>\n",
       "      <td>zwEn-ambXLw</td>\n",
       "      <td>18.31.03</td>\n",
       "      <td>2018-03-22T08:30:07.000Z</td>\n",
       "      <td>190898</td>\n",
       "    </tr>\n",
       "  </tbody>\n",
       "</table>\n",
       "</div>"
      ],
      "text/plain": [
       "       Unnamed: 0                                        Video Title  \\\n",
       "16559       16559                     Budweiser | Beer Country | :60   \n",
       "144           144             Dark | Official Trailer [HD] | Netflix   \n",
       "36895       36944                 kanye west / charlamagne interview   \n",
       "1183         1183  100 People Hold Their Breath for as Long as Th...   \n",
       "27082       27082  This Is Me - Cover by Shoshana Bean Featuring ...   \n",
       "\n",
       "          Video ID Trending Date            Time Published  Total Views  \n",
       "16559  zzQsGL_F9_c      18.06.02  2018-01-30T18:30:04.000Z       199041  \n",
       "144    zy0b9e40tK8      17.14.11  2017-11-09T09:00:07.000Z       378750  \n",
       "36895  zxwfDlhJIpw      18.25.05  2018-05-01T15:57:06.000Z      8442986  \n",
       "1183   zxUwbflE1SY      17.19.11  2017-11-13T13:00:10.000Z       225280  \n",
       "27082  zwEn-ambXLw      18.31.03  2018-03-22T08:30:07.000Z       190898  "
      ]
     },
     "execution_count": 9,
     "metadata": {},
     "output_type": "execute_result"
    }
   ],
   "source": [
    "#Remove extra trending dates\n",
    "\n",
    "yt_df = yt_df.drop_duplicates(\"Video ID\", keep='first')\n",
    "\n",
    "yt_df.head()"
   ]
  },
  {
   "cell_type": "code",
   "execution_count": 10,
   "metadata": {},
   "outputs": [
    {
     "data": {
      "text/plain": [
       "6351"
      ]
     },
     "execution_count": 10,
     "metadata": {},
     "output_type": "execute_result"
    }
   ],
   "source": [
    "#Check Length...It matches above so we are good!\n",
    "len(yt_df)"
   ]
  },
  {
   "cell_type": "markdown",
   "metadata": {},
   "source": [
    "I found that by trying to use video title when I did value counts it got a different number than video id. I decided that using video id would be better incase there were some videos that were different but had the same name or vice versa."
   ]
  },
  {
   "cell_type": "code",
   "execution_count": null,
   "metadata": {},
   "outputs": [],
   "source": []
  },
  {
   "cell_type": "code",
   "execution_count": 11,
   "metadata": {},
   "outputs": [
    {
     "data": {
      "text/html": [
       "<div>\n",
       "<style scoped>\n",
       "    .dataframe tbody tr th:only-of-type {\n",
       "        vertical-align: middle;\n",
       "    }\n",
       "\n",
       "    .dataframe tbody tr th {\n",
       "        vertical-align: top;\n",
       "    }\n",
       "\n",
       "    .dataframe thead th {\n",
       "        text-align: right;\n",
       "    }\n",
       "</style>\n",
       "<table border=\"1\" class=\"dataframe\">\n",
       "  <thead>\n",
       "    <tr style=\"text-align: right;\">\n",
       "      <th></th>\n",
       "      <th>Video ID</th>\n",
       "      <th>Number of Days Trending</th>\n",
       "      <th>Unnamed: 0</th>\n",
       "      <th>Video Title</th>\n",
       "      <th>Trending Date</th>\n",
       "      <th>Time Published</th>\n",
       "      <th>Total Views</th>\n",
       "    </tr>\n",
       "  </thead>\n",
       "  <tbody>\n",
       "    <tr>\n",
       "      <th>0</th>\n",
       "      <td>j4KvrAUjn6c</td>\n",
       "      <td>29</td>\n",
       "      <td>38108</td>\n",
       "      <td>WE MADE OUR MOM CRY...HER DREAM CAME TRUE!</td>\n",
       "      <td>18.31.05</td>\n",
       "      <td>2018-05-13T18:03:56.000Z</td>\n",
       "      <td>9081270</td>\n",
       "    </tr>\n",
       "    <tr>\n",
       "      <th>1</th>\n",
       "      <td>8h--kFui1JA</td>\n",
       "      <td>29</td>\n",
       "      <td>38130</td>\n",
       "      <td>Sam Smith - Pray (Official Video) ft. Logic</td>\n",
       "      <td>18.31.05</td>\n",
       "      <td>2018-05-09T17:00:00.000Z</td>\n",
       "      <td>17424422</td>\n",
       "    </tr>\n",
       "    <tr>\n",
       "      <th>2</th>\n",
       "      <td>ulNswX3If6U</td>\n",
       "      <td>28</td>\n",
       "      <td>38122</td>\n",
       "      <td>Selena Gomez - Back To You (Lyric Video)</td>\n",
       "      <td>18.31.05</td>\n",
       "      <td>2018-05-10T16:00:11.000Z</td>\n",
       "      <td>40205404</td>\n",
       "    </tr>\n",
       "    <tr>\n",
       "      <th>3</th>\n",
       "      <td>6S9c5nnDd_s</td>\n",
       "      <td>28</td>\n",
       "      <td>38093</td>\n",
       "      <td>Bohemian Rhapsody | Teaser Trailer [HD] | 20th...</td>\n",
       "      <td>18.31.05</td>\n",
       "      <td>2018-05-15T13:01:12.000Z</td>\n",
       "      <td>12834122</td>\n",
       "    </tr>\n",
       "    <tr>\n",
       "      <th>4</th>\n",
       "      <td>iILJvqrAQ_w</td>\n",
       "      <td>28</td>\n",
       "      <td>38121</td>\n",
       "      <td>Charlie Puth - BOY [Official Audio]</td>\n",
       "      <td>18.31.05</td>\n",
       "      <td>2018-05-11T04:00:34.000Z</td>\n",
       "      <td>8441561</td>\n",
       "    </tr>\n",
       "  </tbody>\n",
       "</table>\n",
       "</div>"
      ],
      "text/plain": [
       "      Video ID  Number of Days Trending  Unnamed: 0  \\\n",
       "0  j4KvrAUjn6c                       29       38108   \n",
       "1  8h--kFui1JA                       29       38130   \n",
       "2  ulNswX3If6U                       28       38122   \n",
       "3  6S9c5nnDd_s                       28       38093   \n",
       "4  iILJvqrAQ_w                       28       38121   \n",
       "\n",
       "                                         Video Title Trending Date  \\\n",
       "0         WE MADE OUR MOM CRY...HER DREAM CAME TRUE!      18.31.05   \n",
       "1        Sam Smith - Pray (Official Video) ft. Logic      18.31.05   \n",
       "2           Selena Gomez - Back To You (Lyric Video)      18.31.05   \n",
       "3  Bohemian Rhapsody | Teaser Trailer [HD] | 20th...      18.31.05   \n",
       "4                Charlie Puth - BOY [Official Audio]      18.31.05   \n",
       "\n",
       "             Time Published  Total Views  \n",
       "0  2018-05-13T18:03:56.000Z      9081270  \n",
       "1  2018-05-09T17:00:00.000Z     17424422  \n",
       "2  2018-05-10T16:00:11.000Z     40205404  \n",
       "3  2018-05-15T13:01:12.000Z     12834122  \n",
       "4  2018-05-11T04:00:34.000Z      8441561  "
      ]
     },
     "execution_count": 11,
     "metadata": {},
     "output_type": "execute_result"
    }
   ],
   "source": [
    "#Merge trendingSumamry_df and yt_df\n",
    "\n",
    "youTubeMerged_df = pd.merge(trendingSummary_df, yt_df, on=\"Video ID\", how=\"outer\")\n",
    "\n",
    "youTubeMerged_df.head()\n"
   ]
  },
  {
   "cell_type": "code",
   "execution_count": 12,
   "metadata": {},
   "outputs": [
    {
     "data": {
      "text/html": [
       "<div>\n",
       "<style scoped>\n",
       "    .dataframe tbody tr th:only-of-type {\n",
       "        vertical-align: middle;\n",
       "    }\n",
       "\n",
       "    .dataframe tbody tr th {\n",
       "        vertical-align: top;\n",
       "    }\n",
       "\n",
       "    .dataframe thead th {\n",
       "        text-align: right;\n",
       "    }\n",
       "</style>\n",
       "<table border=\"1\" class=\"dataframe\">\n",
       "  <thead>\n",
       "    <tr style=\"text-align: right;\">\n",
       "      <th></th>\n",
       "      <th>Video Title</th>\n",
       "      <th>Video ID</th>\n",
       "      <th>Number of Days Trending</th>\n",
       "      <th>Time Published</th>\n",
       "      <th>Total Views</th>\n",
       "    </tr>\n",
       "  </thead>\n",
       "  <tbody>\n",
       "    <tr>\n",
       "      <th>0</th>\n",
       "      <td>WE MADE OUR MOM CRY...HER DREAM CAME TRUE!</td>\n",
       "      <td>j4KvrAUjn6c</td>\n",
       "      <td>29</td>\n",
       "      <td>2018-05-13T18:03:56.000Z</td>\n",
       "      <td>9081270</td>\n",
       "    </tr>\n",
       "    <tr>\n",
       "      <th>1</th>\n",
       "      <td>Sam Smith - Pray (Official Video) ft. Logic</td>\n",
       "      <td>8h--kFui1JA</td>\n",
       "      <td>29</td>\n",
       "      <td>2018-05-09T17:00:00.000Z</td>\n",
       "      <td>17424422</td>\n",
       "    </tr>\n",
       "    <tr>\n",
       "      <th>2</th>\n",
       "      <td>Selena Gomez - Back To You (Lyric Video)</td>\n",
       "      <td>ulNswX3If6U</td>\n",
       "      <td>28</td>\n",
       "      <td>2018-05-10T16:00:11.000Z</td>\n",
       "      <td>40205404</td>\n",
       "    </tr>\n",
       "    <tr>\n",
       "      <th>3</th>\n",
       "      <td>Bohemian Rhapsody | Teaser Trailer [HD] | 20th...</td>\n",
       "      <td>6S9c5nnDd_s</td>\n",
       "      <td>28</td>\n",
       "      <td>2018-05-15T13:01:12.000Z</td>\n",
       "      <td>12834122</td>\n",
       "    </tr>\n",
       "    <tr>\n",
       "      <th>4</th>\n",
       "      <td>Charlie Puth - BOY [Official Audio]</td>\n",
       "      <td>iILJvqrAQ_w</td>\n",
       "      <td>28</td>\n",
       "      <td>2018-05-11T04:00:34.000Z</td>\n",
       "      <td>8441561</td>\n",
       "    </tr>\n",
       "    <tr>\n",
       "      <th>...</th>\n",
       "      <td>...</td>\n",
       "      <td>...</td>\n",
       "      <td>...</td>\n",
       "      <td>...</td>\n",
       "      <td>...</td>\n",
       "    </tr>\n",
       "    <tr>\n",
       "      <th>6346</th>\n",
       "      <td>Iraq-Iran earthquake: Deadly tremor hits borde...</td>\n",
       "      <td>goP4Z5wyOlM</td>\n",
       "      <td>1</td>\n",
       "      <td>2017-11-12T21:16:40.000Z</td>\n",
       "      <td>34785</td>\n",
       "    </tr>\n",
       "    <tr>\n",
       "      <th>6347</th>\n",
       "      <td>Celebrities rally around bullied boy after he ...</td>\n",
       "      <td>IXJhN4cOVM0</td>\n",
       "      <td>1</td>\n",
       "      <td>2017-12-11T13:06:08.000Z</td>\n",
       "      <td>84968</td>\n",
       "    </tr>\n",
       "    <tr>\n",
       "      <th>6348</th>\n",
       "      <td>Stock market plunges, but it's not time to panic</td>\n",
       "      <td>WArjc_PF2b4</td>\n",
       "      <td>1</td>\n",
       "      <td>2018-02-05T21:26:11.000Z</td>\n",
       "      <td>58231</td>\n",
       "    </tr>\n",
       "    <tr>\n",
       "      <th>6349</th>\n",
       "      <td>JUSTICE LEAGUE Spoiler Review and Discussion</td>\n",
       "      <td>UrSxvUc5R6Q</td>\n",
       "      <td>1</td>\n",
       "      <td>2017-11-18T19:42:33.000Z</td>\n",
       "      <td>44805</td>\n",
       "    </tr>\n",
       "    <tr>\n",
       "      <th>6350</th>\n",
       "      <td>3D printed explorer robot</td>\n",
       "      <td>rovAxg5A48Q</td>\n",
       "      <td>1</td>\n",
       "      <td>2017-11-07T09:32:06.000Z</td>\n",
       "      <td>5584</td>\n",
       "    </tr>\n",
       "  </tbody>\n",
       "</table>\n",
       "<p>6351 rows × 5 columns</p>\n",
       "</div>"
      ],
      "text/plain": [
       "                                            Video Title     Video ID  \\\n",
       "0            WE MADE OUR MOM CRY...HER DREAM CAME TRUE!  j4KvrAUjn6c   \n",
       "1           Sam Smith - Pray (Official Video) ft. Logic  8h--kFui1JA   \n",
       "2              Selena Gomez - Back To You (Lyric Video)  ulNswX3If6U   \n",
       "3     Bohemian Rhapsody | Teaser Trailer [HD] | 20th...  6S9c5nnDd_s   \n",
       "4                   Charlie Puth - BOY [Official Audio]  iILJvqrAQ_w   \n",
       "...                                                 ...          ...   \n",
       "6346  Iraq-Iran earthquake: Deadly tremor hits borde...  goP4Z5wyOlM   \n",
       "6347  Celebrities rally around bullied boy after he ...  IXJhN4cOVM0   \n",
       "6348   Stock market plunges, but it's not time to panic  WArjc_PF2b4   \n",
       "6349       JUSTICE LEAGUE Spoiler Review and Discussion  UrSxvUc5R6Q   \n",
       "6350                          3D printed explorer robot  rovAxg5A48Q   \n",
       "\n",
       "      Number of Days Trending            Time Published  Total Views  \n",
       "0                          29  2018-05-13T18:03:56.000Z      9081270  \n",
       "1                          29  2018-05-09T17:00:00.000Z     17424422  \n",
       "2                          28  2018-05-10T16:00:11.000Z     40205404  \n",
       "3                          28  2018-05-15T13:01:12.000Z     12834122  \n",
       "4                          28  2018-05-11T04:00:34.000Z      8441561  \n",
       "...                       ...                       ...          ...  \n",
       "6346                        1  2017-11-12T21:16:40.000Z        34785  \n",
       "6347                        1  2017-12-11T13:06:08.000Z        84968  \n",
       "6348                        1  2018-02-05T21:26:11.000Z        58231  \n",
       "6349                        1  2017-11-18T19:42:33.000Z        44805  \n",
       "6350                        1  2017-11-07T09:32:06.000Z         5584  \n",
       "\n",
       "[6351 rows x 5 columns]"
      ]
     },
     "execution_count": 12,
     "metadata": {},
     "output_type": "execute_result"
    }
   ],
   "source": [
    "#Clean it up\n",
    "\n",
    "ytMaster_df = youTubeMerged_df[[\"Video Title\",\"Video ID\",\"Number of Days Trending\",\"Time Published\",\"Total Views\"]]\n",
    "\n",
    "ytMaster_df"
   ]
  },
  {
   "cell_type": "code",
   "execution_count": 13,
   "metadata": {},
   "outputs": [],
   "source": [
    "#Export cleaned data to a new csv\n",
    "ytMaster_df.to_csv(\"MasterYouTube.csv\", index=True, header=True)"
   ]
  },
  {
   "cell_type": "code",
   "execution_count": null,
   "metadata": {},
   "outputs": [],
   "source": [
    "\n"
   ]
  },
  {
   "cell_type": "code",
   "execution_count": 14,
   "metadata": {},
   "outputs": [],
   "source": [
    "#Create a Bar Graph of Video Titles vs. how many days it was trending\n",
    "\n",
    "#ytMaster_df.plot(kind='pie',x='Video Title',y='Number of Days Trending')\n",
    "\n",
    "#Found this was not very practical! "
   ]
  },
  {
   "cell_type": "code",
   "execution_count": null,
   "metadata": {},
   "outputs": [],
   "source": []
  },
  {
   "cell_type": "code",
   "execution_count": 15,
   "metadata": {},
   "outputs": [
    {
     "data": {
      "image/png": "[encoded data removed]",
      "text/plain": [
       "<Figure size 432x288 with 1 Axes>"
      ]
     },
     "metadata": {
      "needs_background": "light"
     },
     "output_type": "display_data"
    }
   ],
   "source": [
    "#Create a Bar Graph of how many days it was trending vs. views\n",
    "\n",
    "#Format Views\n",
    "\n",
    "#ytMaster_df[\"Total Views\"] = ytMaster_df[\"Total Views\"].map(\"{:,}\")\n",
    "\n",
    "#ytMaster_df.plot(kind='bar',x='Number of Days Trending',y='Total Views')\n",
    "#This didn't work so had to change it to groupby\n",
    "\n",
    "ytMaster_df.groupby(\"Number of Days Trending\")[\"Total Views\"].sum().plot(kind=\"bar\")\n",
    "\n",
    "plt.title(\"Total Sum Views per Days Trending\")\n",
    "plt.xlabel(\"Number of Days Trending\")\n",
    "plt.ylabel(\"Total Views (In Billions)\")\n",
    "\n",
    "plt.savefig(\"OutputCharts/TotalViewsSumperDaysTrendingBar\")\n",
    "\n",
    "plt.show()\n"
   ]
  },
  {
   "cell_type": "markdown",
   "metadata": {},
   "source": [
    "##### This appears to show that approximately 5-9 days trending will get the most views"
   ]
  },
  {
   "cell_type": "code",
   "execution_count": 16,
   "metadata": {},
   "outputs": [
    {
     "data": {
      "image/png": "[encoded data removed]",
      "text/plain": [
       "<Figure size 432x288 with 1 Axes>"
      ]
     },
     "metadata": {
      "needs_background": "light"
     },
     "output_type": "display_data"
    }
   ],
   "source": [
    "#Same thing but show average views for number of days trending\n",
    "ytMaster_df.groupby(\"Number of Days Trending\")[\"Total Views\"].mean().plot(kind=\"bar\", color=\"red\")\n",
    "\n",
    "plt.title(\"Total Average Views per Days Trending\")\n",
    "plt.xlabel(\"Number of Days Trending\")\n",
    "plt.ylabel(\"Total Views\")\n",
    "\n",
    "plt.savefig(\"OutputCharts/TotalViewsMeanperDaysTrendingBar\")\n",
    "\n",
    "plt.show()"
   ]
  },
  {
   "cell_type": "markdown",
   "metadata": {},
   "source": [
    "##### This appears to show opposite of above, and shows a trend that the longer a video trends, the more views it will get."
   ]
  },
  {
   "cell_type": "code",
   "execution_count": 17,
   "metadata": {
    "scrolled": true
   },
   "outputs": [
    {
     "data": {
      "image/png": "[encoded data removed]",
      "text/plain": [
       "<Figure size 432x288 with 1 Axes>"
      ]
     },
     "metadata": {
      "needs_background": "light"
     },
     "output_type": "display_data"
    }
   ],
   "source": [
    "#Scatterplot\n",
    "plt.scatter(ytMaster_df[\"Number of Days Trending\"], ytMaster_df[\"Total Views\"])\n",
    "plt.title(\"Total Views per Days Trending\")\n",
    "plt.xlabel(\"Number of Days Trending\")\n",
    "plt.ylabel(\"Total Views (In Billions)\")\n",
    "\n",
    "plt.savefig(\"OutputCharts/TotalViewsperDaysTrendingScatter\")\n",
    "\n",
    "plt.show()"
   ]
  },
  {
   "cell_type": "markdown",
   "metadata": {},
   "source": [
    "### Obviously, since I am dealing with time, scatterplots may not be the best chart to use."
   ]
  },
  {
   "cell_type": "code",
   "execution_count": 18,
   "metadata": {},
   "outputs": [
    {
     "name": "stdout",
     "output_type": "stream",
     "text": [
      "The correlation between the two factors is 0.24\n"
     ]
    }
   ],
   "source": [
    "#Correlation\n",
    "daystrending = ytMaster_df[\"Number of Days Trending\"]\n",
    "views = ytMaster_df[\"Total Views\"]\n",
    "\n",
    "correlation = sts.pearsonr(daystrending, views)\n",
    "\n",
    "print(f\"The correlation between the two factors is {round(correlation[0],2)}\")"
   ]
  },
  {
   "cell_type": "markdown",
   "metadata": {},
   "source": [
    "## This shows there is no noticable correlation between the number of days it is trending and the number of views it gets."
   ]
  },
  {
   "cell_type": "code",
   "execution_count": null,
   "metadata": {},
   "outputs": [],
   "source": []
  },
  {
   "cell_type": "code",
   "execution_count": 19,
   "metadata": {},
   "outputs": [
    {
     "data": {
      "image/png": "[encoded data removed]",
      "text/plain": [
       "<Figure size 432x288 with 1 Axes>"
      ]
     },
     "metadata": {
      "needs_background": "light"
     },
     "output_type": "display_data"
    }
   ],
   "source": [
    "#Box plot of total number of views from all videos trending for 7 days.\n",
    "views=ytMaster_df[\"Total Views\"]\n",
    "\n",
    "fig1, ax1 = plt.subplots()\n",
    "ax1.set_title(\"Total Number of Views for a Video\")\n",
    "ax1.set_ylabel(\"Total Views\")\n",
    "ax1.boxplot(views)\n",
    "\n",
    "plt.savefig(\"OutputCharts/ViewsBoxplot\")\n",
    "plt.show()"
   ]
  },
  {
   "cell_type": "markdown",
   "metadata": {},
   "source": [
    "##### There are a lot of outliers, so the data is not normally distributed. Makes it hard to draw conclusions/see trends"
   ]
  },
  {
   "cell_type": "code",
   "execution_count": 20,
   "metadata": {},
   "outputs": [
    {
     "name": "stdout",
     "output_type": "stream",
     "text": [
      "The mean total number of views is: 1768571.31\n",
      "The median total number of views is: 494964.0\n",
      "The max total number of views is: 217750076\n",
      "The minimum total number of views is: 559\n"
     ]
    }
   ],
   "source": [
    "mean = np.mean(ytMaster_df[\"Total Views\"])\n",
    "median = np.median(ytMaster_df[\"Total Views\"])\n",
    "mode = sts.mode(ytMaster_df[\"Total Views\"])\n",
    "upper = ytMaster_df[\"Total Views\"].max()\n",
    "lower = ytMaster_df[\"Total Views\"].min()\n",
    "\n",
    "print(f\"The mean total number of views is: {round(mean, 2)}\")\n",
    "print(f\"The median total number of views is: {round(median, 2)}\")\n",
    "print(f\"The max total number of views is: {round(upper, 2)}\")\n",
    "print(f\"The minimum total number of views is: {round(lower, 2)}\")\n"
   ]
  },
  {
   "cell_type": "code",
   "execution_count": null,
   "metadata": {},
   "outputs": [],
   "source": []
  },
  {
   "cell_type": "markdown",
   "metadata": {},
   "source": [
    "What can I infer from this information? \n"
   ]
  }
 ],
 "metadata": {
  "kernelspec": {
   "display_name": "Python 3",
   "language": "python",
   "name": "python3"
  },
  "language_info": {
   "codemirror_mode": {
    "name": "ipython",
    "version": 3
   },
   "file_extension": ".py",
   "mimetype": "text/x-python",
   "name": "python",
   "nbconvert_exporter": "python",
   "pygments_lexer": "ipython3",
   "version": "3.7.6"
  }
 },
 "nbformat": 4,
 "nbformat_minor": 4
}
