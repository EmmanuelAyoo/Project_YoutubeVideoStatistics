{
 "cells": [
  {
   "cell_type": "code",
   "execution_count": 1,
   "metadata": {},
   "outputs": [],
   "source": [
    "#import dependencies\n",
    "\n",
    "import pandas as pd\n",
    "from datetime import datetime\n",
    "import matplotlib.pyplot as plt\n",
    "import numpy as np\n",
    "import scipy.stats as st"
   ]
  },
  {
   "cell_type": "code",
   "execution_count": 2,
   "metadata": {},
   "outputs": [
    {
     "data": {
      "text/html": [
       "<div>\n",
       "<style scoped>\n",
       "    .dataframe tbody tr th:only-of-type {\n",
       "        vertical-align: middle;\n",
       "    }\n",
       "\n",
       "    .dataframe tbody tr th {\n",
       "        vertical-align: top;\n",
       "    }\n",
       "\n",
       "    .dataframe thead th {\n",
       "        text-align: right;\n",
       "    }\n",
       "</style>\n",
       "<table border=\"1\" class=\"dataframe\">\n",
       "  <thead>\n",
       "    <tr style=\"text-align: right;\">\n",
       "      <th></th>\n",
       "      <th>Unnamed: 0</th>\n",
       "      <th>Video Title</th>\n",
       "      <th>Video ID</th>\n",
       "      <th>Number of Days Trending</th>\n",
       "      <th>Time Published</th>\n",
       "      <th>Total Views</th>\n",
       "    </tr>\n",
       "  </thead>\n",
       "  <tbody>\n",
       "    <tr>\n",
       "      <th>0</th>\n",
       "      <td>0</td>\n",
       "      <td>Sam Smith - Pray (Official Video) ft. Logic</td>\n",
       "      <td>8h--kFui1JA</td>\n",
       "      <td>29</td>\n",
       "      <td>2018-05-09T17:00:00.000Z</td>\n",
       "      <td>17424422</td>\n",
       "    </tr>\n",
       "    <tr>\n",
       "      <th>1</th>\n",
       "      <td>1</td>\n",
       "      <td>WE MADE OUR MOM CRY...HER DREAM CAME TRUE!</td>\n",
       "      <td>j4KvrAUjn6c</td>\n",
       "      <td>29</td>\n",
       "      <td>2018-05-13T18:03:56.000Z</td>\n",
       "      <td>9081270</td>\n",
       "    </tr>\n",
       "    <tr>\n",
       "      <th>2</th>\n",
       "      <td>2</td>\n",
       "      <td>YoungBoy Never Broke Again Goes Sneaker Shoppi...</td>\n",
       "      <td>t4pRQ0jn23Q</td>\n",
       "      <td>28</td>\n",
       "      <td>2018-05-14T14:00:03.000Z</td>\n",
       "      <td>4406761</td>\n",
       "    </tr>\n",
       "    <tr>\n",
       "      <th>3</th>\n",
       "      <td>3</td>\n",
       "      <td>周杰倫 Jay Chou【不愛我就拉倒 If You Don't Love Me, It's...</td>\n",
       "      <td>MAjY8mCTXWk</td>\n",
       "      <td>28</td>\n",
       "      <td>2018-05-14T15:59:47.000Z</td>\n",
       "      <td>17259071</td>\n",
       "    </tr>\n",
       "    <tr>\n",
       "      <th>4</th>\n",
       "      <td>4</td>\n",
       "      <td>Cobra Kai Season 2</td>\n",
       "      <td>WIV3xNz8NoM</td>\n",
       "      <td>28</td>\n",
       "      <td>2018-05-10T17:02:55.000Z</td>\n",
       "      <td>1011030</td>\n",
       "    </tr>\n",
       "  </tbody>\n",
       "</table>\n",
       "</div>"
      ],
      "text/plain": [
       "   Unnamed: 0                                        Video Title     Video ID  \\\n",
       "0           0        Sam Smith - Pray (Official Video) ft. Logic  8h--kFui1JA   \n",
       "1           1         WE MADE OUR MOM CRY...HER DREAM CAME TRUE!  j4KvrAUjn6c   \n",
       "2           2  YoungBoy Never Broke Again Goes Sneaker Shoppi...  t4pRQ0jn23Q   \n",
       "3           3  周杰倫 Jay Chou【不愛我就拉倒 If You Don't Love Me, It's...  MAjY8mCTXWk   \n",
       "4           4                                 Cobra Kai Season 2  WIV3xNz8NoM   \n",
       "\n",
       "   Number of Days Trending            Time Published  Total Views  \n",
       "0                       29  2018-05-09T17:00:00.000Z     17424422  \n",
       "1                       29  2018-05-13T18:03:56.000Z      9081270  \n",
       "2                       28  2018-05-14T14:00:03.000Z      4406761  \n",
       "3                       28  2018-05-14T15:59:47.000Z     17259071  \n",
       "4                       28  2018-05-10T17:02:55.000Z      1011030  "
      ]
     },
     "execution_count": 2,
     "metadata": {},
     "output_type": "execute_result"
    }
   ],
   "source": [
    "#Store file path in a variable and read in csv\n",
    "\n",
    "file = \"MasterYouTube.csv\"\n",
    "\n",
    "master_df = pd.read_csv(file)\n",
    "\n",
    "#Print head\n",
    "master_df.head()"
   ]
  },
  {
   "cell_type": "code",
   "execution_count": null,
   "metadata": {},
   "outputs": [],
   "source": []
  },
  {
   "cell_type": "code",
   "execution_count": 3,
   "metadata": {},
   "outputs": [
    {
     "data": {
      "text/html": [
       "<div>\n",
       "<style scoped>\n",
       "    .dataframe tbody tr th:only-of-type {\n",
       "        vertical-align: middle;\n",
       "    }\n",
       "\n",
       "    .dataframe tbody tr th {\n",
       "        vertical-align: top;\n",
       "    }\n",
       "\n",
       "    .dataframe thead th {\n",
       "        text-align: right;\n",
       "    }\n",
       "</style>\n",
       "<table border=\"1\" class=\"dataframe\">\n",
       "  <thead>\n",
       "    <tr style=\"text-align: right;\">\n",
       "      <th></th>\n",
       "      <th>Video Title</th>\n",
       "      <th>Video ID</th>\n",
       "      <th>Time Published</th>\n",
       "      <th>Number of Days Trending</th>\n",
       "      <th>Total Views</th>\n",
       "    </tr>\n",
       "  </thead>\n",
       "  <tbody>\n",
       "    <tr>\n",
       "      <th>0</th>\n",
       "      <td>Sam Smith - Pray (Official Video) ft. Logic</td>\n",
       "      <td>8h--kFui1JA</td>\n",
       "      <td>2018-05-09T17:00:00.000Z</td>\n",
       "      <td>29</td>\n",
       "      <td>17424422</td>\n",
       "    </tr>\n",
       "    <tr>\n",
       "      <th>1</th>\n",
       "      <td>WE MADE OUR MOM CRY...HER DREAM CAME TRUE!</td>\n",
       "      <td>j4KvrAUjn6c</td>\n",
       "      <td>2018-05-13T18:03:56.000Z</td>\n",
       "      <td>29</td>\n",
       "      <td>9081270</td>\n",
       "    </tr>\n",
       "    <tr>\n",
       "      <th>2</th>\n",
       "      <td>YoungBoy Never Broke Again Goes Sneaker Shoppi...</td>\n",
       "      <td>t4pRQ0jn23Q</td>\n",
       "      <td>2018-05-14T14:00:03.000Z</td>\n",
       "      <td>28</td>\n",
       "      <td>4406761</td>\n",
       "    </tr>\n",
       "    <tr>\n",
       "      <th>3</th>\n",
       "      <td>周杰倫 Jay Chou【不愛我就拉倒 If You Don't Love Me, It's...</td>\n",
       "      <td>MAjY8mCTXWk</td>\n",
       "      <td>2018-05-14T15:59:47.000Z</td>\n",
       "      <td>28</td>\n",
       "      <td>17259071</td>\n",
       "    </tr>\n",
       "    <tr>\n",
       "      <th>4</th>\n",
       "      <td>Cobra Kai Season 2</td>\n",
       "      <td>WIV3xNz8NoM</td>\n",
       "      <td>2018-05-10T17:02:55.000Z</td>\n",
       "      <td>28</td>\n",
       "      <td>1011030</td>\n",
       "    </tr>\n",
       "  </tbody>\n",
       "</table>\n",
       "</div>"
      ],
      "text/plain": [
       "                                         Video Title     Video ID  \\\n",
       "0        Sam Smith - Pray (Official Video) ft. Logic  8h--kFui1JA   \n",
       "1         WE MADE OUR MOM CRY...HER DREAM CAME TRUE!  j4KvrAUjn6c   \n",
       "2  YoungBoy Never Broke Again Goes Sneaker Shoppi...  t4pRQ0jn23Q   \n",
       "3  周杰倫 Jay Chou【不愛我就拉倒 If You Don't Love Me, It's...  MAjY8mCTXWk   \n",
       "4                                 Cobra Kai Season 2  WIV3xNz8NoM   \n",
       "\n",
       "             Time Published  Number of Days Trending  Total Views  \n",
       "0  2018-05-09T17:00:00.000Z                       29     17424422  \n",
       "1  2018-05-13T18:03:56.000Z                       29      9081270  \n",
       "2  2018-05-14T14:00:03.000Z                       28      4406761  \n",
       "3  2018-05-14T15:59:47.000Z                       28     17259071  \n",
       "4  2018-05-10T17:02:55.000Z                       28      1011030  "
      ]
     },
     "execution_count": 3,
     "metadata": {},
     "output_type": "execute_result"
    }
   ],
   "source": [
    "#Pull out the columns I want\n",
    "\n",
    "time_df = master_df[[\"Video Title\", \"Video ID\", \"Time Published\", \"Number of Days Trending\", \"Total Views\"]]\n",
    "\n",
    "time_df.head()"
   ]
  },
  {
   "cell_type": "code",
   "execution_count": null,
   "metadata": {},
   "outputs": [],
   "source": []
  },
  {
   "cell_type": "code",
   "execution_count": 4,
   "metadata": {},
   "outputs": [
    {
     "data": {
      "text/html": [
       "<div>\n",
       "<style scoped>\n",
       "    .dataframe tbody tr th:only-of-type {\n",
       "        vertical-align: middle;\n",
       "    }\n",
       "\n",
       "    .dataframe tbody tr th {\n",
       "        vertical-align: top;\n",
       "    }\n",
       "\n",
       "    .dataframe thead th {\n",
       "        text-align: right;\n",
       "    }\n",
       "</style>\n",
       "<table border=\"1\" class=\"dataframe\">\n",
       "  <thead>\n",
       "    <tr style=\"text-align: right;\">\n",
       "      <th></th>\n",
       "      <th>Video Title</th>\n",
       "      <th>Video ID</th>\n",
       "      <th>Time Published</th>\n",
       "      <th>Number of Days Trending</th>\n",
       "      <th>Total Views</th>\n",
       "      <th>Hour Published</th>\n",
       "    </tr>\n",
       "  </thead>\n",
       "  <tbody>\n",
       "    <tr>\n",
       "      <th>0</th>\n",
       "      <td>Sam Smith - Pray (Official Video) ft. Logic</td>\n",
       "      <td>8h--kFui1JA</td>\n",
       "      <td>2018-05-09T17:00:00.000Z</td>\n",
       "      <td>29</td>\n",
       "      <td>17424422</td>\n",
       "      <td>17</td>\n",
       "    </tr>\n",
       "    <tr>\n",
       "      <th>1</th>\n",
       "      <td>WE MADE OUR MOM CRY...HER DREAM CAME TRUE!</td>\n",
       "      <td>j4KvrAUjn6c</td>\n",
       "      <td>2018-05-13T18:03:56.000Z</td>\n",
       "      <td>29</td>\n",
       "      <td>9081270</td>\n",
       "      <td>18</td>\n",
       "    </tr>\n",
       "    <tr>\n",
       "      <th>2</th>\n",
       "      <td>YoungBoy Never Broke Again Goes Sneaker Shoppi...</td>\n",
       "      <td>t4pRQ0jn23Q</td>\n",
       "      <td>2018-05-14T14:00:03.000Z</td>\n",
       "      <td>28</td>\n",
       "      <td>4406761</td>\n",
       "      <td>14</td>\n",
       "    </tr>\n",
       "    <tr>\n",
       "      <th>3</th>\n",
       "      <td>周杰倫 Jay Chou【不愛我就拉倒 If You Don't Love Me, It's...</td>\n",
       "      <td>MAjY8mCTXWk</td>\n",
       "      <td>2018-05-14T15:59:47.000Z</td>\n",
       "      <td>28</td>\n",
       "      <td>17259071</td>\n",
       "      <td>15</td>\n",
       "    </tr>\n",
       "    <tr>\n",
       "      <th>4</th>\n",
       "      <td>Cobra Kai Season 2</td>\n",
       "      <td>WIV3xNz8NoM</td>\n",
       "      <td>2018-05-10T17:02:55.000Z</td>\n",
       "      <td>28</td>\n",
       "      <td>1011030</td>\n",
       "      <td>17</td>\n",
       "    </tr>\n",
       "    <tr>\n",
       "      <th>...</th>\n",
       "      <td>...</td>\n",
       "      <td>...</td>\n",
       "      <td>...</td>\n",
       "      <td>...</td>\n",
       "      <td>...</td>\n",
       "      <td>...</td>\n",
       "    </tr>\n",
       "    <tr>\n",
       "      <th>6346</th>\n",
       "      <td>Stephen A. shares theory on why Spurs' Kawhi L...</td>\n",
       "      <td>kA66nAvEEII</td>\n",
       "      <td>2018-02-22T15:31:36.000Z</td>\n",
       "      <td>1</td>\n",
       "      <td>707341</td>\n",
       "      <td>15</td>\n",
       "    </tr>\n",
       "    <tr>\n",
       "      <th>6347</th>\n",
       "      <td>John Mayer On Andy Cohen’s Annoying Habit | WWHL</td>\n",
       "      <td>0WPYpeJA__U</td>\n",
       "      <td>2017-11-28T12:59:47.000Z</td>\n",
       "      <td>1</td>\n",
       "      <td>35467</td>\n",
       "      <td>12</td>\n",
       "    </tr>\n",
       "    <tr>\n",
       "      <th>6348</th>\n",
       "      <td>Top 10 NBA Celebrity Reactions - The Starters</td>\n",
       "      <td>AFC5RaH4xMg</td>\n",
       "      <td>2018-02-28T00:58:13.000Z</td>\n",
       "      <td>1</td>\n",
       "      <td>455015</td>\n",
       "      <td>0</td>\n",
       "    </tr>\n",
       "    <tr>\n",
       "      <th>6349</th>\n",
       "      <td>Greenland is melting</td>\n",
       "      <td>UKKYt6fWob8</td>\n",
       "      <td>2017-12-01T12:59:15.000Z</td>\n",
       "      <td>1</td>\n",
       "      <td>6084</td>\n",
       "      <td>12</td>\n",
       "    </tr>\n",
       "    <tr>\n",
       "      <th>6350</th>\n",
       "      <td>First Take reacts to Zaza Pachulia falling on ...</td>\n",
       "      <td>0mAS2Gxs08w</td>\n",
       "      <td>2018-02-26T15:37:37.000Z</td>\n",
       "      <td>1</td>\n",
       "      <td>1034272</td>\n",
       "      <td>15</td>\n",
       "    </tr>\n",
       "  </tbody>\n",
       "</table>\n",
       "<p>6351 rows × 6 columns</p>\n",
       "</div>"
      ],
      "text/plain": [
       "                                            Video Title     Video ID  \\\n",
       "0           Sam Smith - Pray (Official Video) ft. Logic  8h--kFui1JA   \n",
       "1            WE MADE OUR MOM CRY...HER DREAM CAME TRUE!  j4KvrAUjn6c   \n",
       "2     YoungBoy Never Broke Again Goes Sneaker Shoppi...  t4pRQ0jn23Q   \n",
       "3     周杰倫 Jay Chou【不愛我就拉倒 If You Don't Love Me, It's...  MAjY8mCTXWk   \n",
       "4                                    Cobra Kai Season 2  WIV3xNz8NoM   \n",
       "...                                                 ...          ...   \n",
       "6346  Stephen A. shares theory on why Spurs' Kawhi L...  kA66nAvEEII   \n",
       "6347   John Mayer On Andy Cohen’s Annoying Habit | WWHL  0WPYpeJA__U   \n",
       "6348      Top 10 NBA Celebrity Reactions - The Starters  AFC5RaH4xMg   \n",
       "6349                               Greenland is melting  UKKYt6fWob8   \n",
       "6350  First Take reacts to Zaza Pachulia falling on ...  0mAS2Gxs08w   \n",
       "\n",
       "                Time Published  Number of Days Trending  Total Views  \\\n",
       "0     2018-05-09T17:00:00.000Z                       29     17424422   \n",
       "1     2018-05-13T18:03:56.000Z                       29      9081270   \n",
       "2     2018-05-14T14:00:03.000Z                       28      4406761   \n",
       "3     2018-05-14T15:59:47.000Z                       28     17259071   \n",
       "4     2018-05-10T17:02:55.000Z                       28      1011030   \n",
       "...                        ...                      ...          ...   \n",
       "6346  2018-02-22T15:31:36.000Z                        1       707341   \n",
       "6347  2017-11-28T12:59:47.000Z                        1        35467   \n",
       "6348  2018-02-28T00:58:13.000Z                        1       455015   \n",
       "6349  2017-12-01T12:59:15.000Z                        1         6084   \n",
       "6350  2018-02-26T15:37:37.000Z                        1      1034272   \n",
       "\n",
       "      Hour Published  \n",
       "0                 17  \n",
       "1                 18  \n",
       "2                 14  \n",
       "3                 15  \n",
       "4                 17  \n",
       "...              ...  \n",
       "6346              15  \n",
       "6347              12  \n",
       "6348               0  \n",
       "6349              12  \n",
       "6350              15  \n",
       "\n",
       "[6351 rows x 6 columns]"
      ]
     },
     "execution_count": 4,
     "metadata": {},
     "output_type": "execute_result"
    }
   ],
   "source": [
    "#Reformat time so I can pull out just the hour published and put it in a new column\n",
    "#Pull out just the time of day (Hour) and create a new column\n",
    "\n",
    "time_df[\"Hour Published\"] = pd.to_datetime(time_df[\"Time Published\"]).dt.hour\n",
    "\n",
    "time_df"
   ]
  },
  {
   "cell_type": "code",
   "execution_count": null,
   "metadata": {},
   "outputs": [],
   "source": []
  },
  {
   "cell_type": "code",
   "execution_count": 5,
   "metadata": {},
   "outputs": [
    {
     "data": {
      "text/html": [
       "<div>\n",
       "<style scoped>\n",
       "    .dataframe tbody tr th:only-of-type {\n",
       "        vertical-align: middle;\n",
       "    }\n",
       "\n",
       "    .dataframe tbody tr th {\n",
       "        vertical-align: top;\n",
       "    }\n",
       "\n",
       "    .dataframe thead th {\n",
       "        text-align: right;\n",
       "    }\n",
       "</style>\n",
       "<table border=\"1\" class=\"dataframe\">\n",
       "  <thead>\n",
       "    <tr style=\"text-align: right;\">\n",
       "      <th></th>\n",
       "      <th>Video Title</th>\n",
       "      <th>Video ID</th>\n",
       "      <th>Time Published</th>\n",
       "      <th>Number of Days Trending</th>\n",
       "      <th>Total Views</th>\n",
       "      <th>Hour Published</th>\n",
       "    </tr>\n",
       "  </thead>\n",
       "  <tbody>\n",
       "    <tr>\n",
       "      <th>94</th>\n",
       "      <td>Calvin Harris, Dua Lipa - One Kiss (Official V...</td>\n",
       "      <td>DkeiKbqa02g</td>\n",
       "      <td>2018-05-02T23:01:00.000Z</td>\n",
       "      <td>21</td>\n",
       "      <td>71017021</td>\n",
       "      <td>23</td>\n",
       "    </tr>\n",
       "    <tr>\n",
       "      <th>2042</th>\n",
       "      <td>Turkish Airlines - 5 Senses with Dr. Oz</td>\n",
       "      <td>yvicqMrAHvQ</td>\n",
       "      <td>2018-02-04T23:55:21.000Z</td>\n",
       "      <td>7</td>\n",
       "      <td>23932421</td>\n",
       "      <td>23</td>\n",
       "    </tr>\n",
       "    <tr>\n",
       "      <th>1207</th>\n",
       "      <td>Jurassic World: Fallen Kingdom - Official Trai...</td>\n",
       "      <td>NooW_RbfdWI</td>\n",
       "      <td>2018-02-04T23:28:16.000Z</td>\n",
       "      <td>10</td>\n",
       "      <td>21113889</td>\n",
       "      <td>23</td>\n",
       "    </tr>\n",
       "    <tr>\n",
       "      <th>1785</th>\n",
       "      <td>Hope Detector | Hyundai NFL Super Bowl LII</td>\n",
       "      <td>wJJqGh2HLM8</td>\n",
       "      <td>2018-02-04T23:31:40.000Z</td>\n",
       "      <td>8</td>\n",
       "      <td>15904385</td>\n",
       "      <td>23</td>\n",
       "    </tr>\n",
       "    <tr>\n",
       "      <th>17</th>\n",
       "      <td>Calum Scott - What I Miss Most (Official Video)</td>\n",
       "      <td>H7gh2fmdjCU</td>\n",
       "      <td>2018-05-16T23:00:00.000Z</td>\n",
       "      <td>27</td>\n",
       "      <td>6379536</td>\n",
       "      <td>23</td>\n",
       "    </tr>\n",
       "  </tbody>\n",
       "</table>\n",
       "</div>"
      ],
      "text/plain": [
       "                                            Video Title     Video ID  \\\n",
       "94    Calvin Harris, Dua Lipa - One Kiss (Official V...  DkeiKbqa02g   \n",
       "2042            Turkish Airlines - 5 Senses with Dr. Oz  yvicqMrAHvQ   \n",
       "1207  Jurassic World: Fallen Kingdom - Official Trai...  NooW_RbfdWI   \n",
       "1785         Hope Detector | Hyundai NFL Super Bowl LII  wJJqGh2HLM8   \n",
       "17      Calum Scott - What I Miss Most (Official Video)  H7gh2fmdjCU   \n",
       "\n",
       "                Time Published  Number of Days Trending  Total Views  \\\n",
       "94    2018-05-02T23:01:00.000Z                       21     71017021   \n",
       "2042  2018-02-04T23:55:21.000Z                        7     23932421   \n",
       "1207  2018-02-04T23:28:16.000Z                       10     21113889   \n",
       "1785  2018-02-04T23:31:40.000Z                        8     15904385   \n",
       "17    2018-05-16T23:00:00.000Z                       27      6379536   \n",
       "\n",
       "      Hour Published  \n",
       "94                23  \n",
       "2042              23  \n",
       "1207              23  \n",
       "1785              23  \n",
       "17                23  "
      ]
     },
     "execution_count": 5,
     "metadata": {},
     "output_type": "execute_result"
    }
   ],
   "source": [
    "#Organize by hour published\n",
    "\n",
    "time_df = time_df.sort_values([\"Hour Published\", \"Total Views\"], ascending=False)\n",
    "\n",
    "time_df.head()"
   ]
  },
  {
   "cell_type": "code",
   "execution_count": 20,
   "metadata": {},
   "outputs": [
    {
     "data": {
      "image/png": "[encoded data removed]",
      "text/plain": [
       "<Figure size 432x288 with 1 Axes>"
      ]
     },
     "metadata": {
      "needs_background": "light"
     },
     "output_type": "display_data"
    }
   ],
   "source": [
    "#Find average days trending vs. hour published and put into a bar graph\n",
    "\n",
    "time_df.groupby('Hour Published')['Number of Days Trending'].mean().plot(kind='bar', color=\"green\")\n",
    "\n",
    "plt.title(\"Total Average Days Trending by Hour Published\")\n",
    "plt.xlabel(\"Hour Published (In Military Time)\")\n",
    "plt.ylabel(\"Total Average Days Trending\")\n",
    "\n",
    "plt.savefig(\"TotalDaysTrendingMeanperHourPublishedBar\")\n",
    "\n",
    "plt.show()\n"
   ]
  },
  {
   "cell_type": "code",
   "execution_count": 22,
   "metadata": {},
   "outputs": [
    {
     "data": {
      "image/png": "[encoded data removed]",
      "text/plain": [
       "<Figure size 432x288 with 1 Axes>"
      ]
     },
     "metadata": {
      "needs_background": "light"
     },
     "output_type": "display_data"
    }
   ],
   "source": [
    "#Do the same but with Sum\n",
    "\n",
    "time_df.groupby('Hour Published')['Number of Days Trending'].sum().plot(kind='bar')\n",
    "\n",
    "plt.title(\"Total Sum Days Trending by Hour Published\")\n",
    "plt.xlabel(\"Hour Published (In Military Time)\")\n",
    "plt.ylabel(\"Total Sum Days Trending\")\n",
    "\n",
    "plt.savefig(\"TotalDaysTrendingSumperHourPublishedBar\")\n",
    "\n",
    "plt.show()"
   ]
  },
  {
   "cell_type": "markdown",
   "metadata": {},
   "source": [
    "What can I infer from this?"
   ]
  },
  {
   "cell_type": "code",
   "execution_count": 15,
   "metadata": {},
   "outputs": [
    {
     "data": {
      "image/png": "[encoded data removed]",
      "text/plain": [
       "<Figure size 432x288 with 1 Axes>"
      ]
     },
     "metadata": {
      "needs_background": "light"
     },
     "output_type": "display_data"
    }
   ],
   "source": [
    "#Scatterplot\n",
    "plt.scatter(time_df[\"Hour Published\"], time_df[\"Number of Days Trending\"])\n",
    "plt.title(\"Days Trending by Hour Published\")\n",
    "plt.xlabel(\"Hour Published (In Military Time)\")\n",
    "plt.ylabel(\"Days Trending\")\n",
    "\n",
    "plt.savefig(\"TotalDaysTrendingperHourPublishedScatter\")\n",
    "\n",
    "plt.show()"
   ]
  },
  {
   "cell_type": "code",
   "execution_count": 16,
   "metadata": {},
   "outputs": [
    {
     "name": "stdout",
     "output_type": "stream",
     "text": [
      "The correlation between the two factors is 0.05\n"
     ]
    }
   ],
   "source": [
    "#Correlation\n",
    "hour = time_df[\"Hour Published\"]\n",
    "days = time_df[\"Number of Days Trending\"]\n",
    "\n",
    "correlation = st.pearsonr(hour, days)\n",
    "\n",
    "print(f\"The correlation between the two factors is {round(correlation[0],2)}\")"
   ]
  },
  {
   "cell_type": "code",
   "execution_count": null,
   "metadata": {},
   "outputs": [],
   "source": []
  },
  {
   "cell_type": "code",
   "execution_count": null,
   "metadata": {},
   "outputs": [],
   "source": []
  },
  {
   "cell_type": "code",
   "execution_count": 11,
   "metadata": {},
   "outputs": [
    {
     "data": {
      "image/png": "[encoded data removed]",
      "text/plain": [
       "<Figure size 432x288 with 1 Axes>"
      ]
     },
     "metadata": {
      "needs_background": "light"
     },
     "output_type": "display_data"
    }
   ],
   "source": [
    "#Scatterplot\n",
    "plt.scatter(time_df[\"Hour Published\"], time_df[\"Total Views\"])\n",
    "plt.title(\"Total Views by Hour Published\")\n",
    "plt.xlabel(\"Hour Published (In Military Time)\")\n",
    "plt.ylabel(\"Total Views\")\n",
    "\n",
    "plt.savefig(\"TotalViewsperHourPublishedScatter\")\n",
    "\n",
    "plt.show()"
   ]
  },
  {
   "cell_type": "code",
   "execution_count": 12,
   "metadata": {},
   "outputs": [
    {
     "name": "stdout",
     "output_type": "stream",
     "text": [
      "The correlation between the two factors is -0.04\n"
     ]
    }
   ],
   "source": [
    "#Correlation\n",
    "hour = time_df[\"Hour Published\"]\n",
    "views = time_df[\"Total Views\"]\n",
    "\n",
    "correlation = st.pearsonr(hour, views)\n",
    "\n",
    "print(f\"The correlation between the two factors is {round(correlation[0],2)}\")"
   ]
  },
  {
   "cell_type": "markdown",
   "metadata": {},
   "source": [
    "## This shows that there is no noticable correlation between the hour it is published and the number of views that a video receives while trending."
   ]
  },
  {
   "cell_type": "code",
   "execution_count": null,
   "metadata": {},
   "outputs": [],
   "source": []
  },
  {
   "cell_type": "code",
   "execution_count": 22,
   "metadata": {
    "scrolled": true
   },
   "outputs": [
    {
     "data": {
      "text/plain": [
       "Hour Published\n",
       "0     325599960\n",
       "1     344197971\n",
       "2     303390186\n",
       "3     279542203\n",
       "4     729761534\n",
       "5     531861552\n",
       "6     145420964\n",
       "7     281727760\n",
       "8     335686853\n",
       "9     392438288\n",
       "10    204670082\n",
       "11    317463789\n",
       "12    397414780\n",
       "13    648723620\n",
       "14    721822350\n",
       "15    875594490\n",
       "16    844040907\n",
       "17    764382881\n",
       "18    595676486\n",
       "19    377956952\n",
       "20    509891335\n",
       "21    501725294\n",
       "22    441520229\n",
       "23    325556902\n",
       "Name: Total Views, dtype: int64"
      ]
     },
     "execution_count": 22,
     "metadata": {},
     "output_type": "execute_result"
    }
   ],
   "source": [
    "#Find total views of all videos by hour published and put into a df\n",
    "totalviews = time_df.groupby('Hour Published')['Total Views'].sum()\n",
    "\n",
    "totalviews"
   ]
  },
  {
   "cell_type": "code",
   "execution_count": 17,
   "metadata": {},
   "outputs": [
    {
     "data": {
      "image/png": "[encoded data removed]",
      "text/plain": [
       "<Figure size 432x288 with 1 Axes>"
      ]
     },
     "metadata": {
      "needs_background": "light"
     },
     "output_type": "display_data"
    }
   ],
   "source": [
    "#Create a line graph to show this\n",
    "time_df.groupby('Hour Published')['Total Views'].sum().plot(kind='line')\n",
    "\n",
    "plt.title(\"Total Sum Views by Hour Published\")\n",
    "plt.xlabel(\"Hour Published (In Military Time)\")\n",
    "plt.ylabel(\"Total Views\")\n",
    "\n",
    "plt.savefig(\"TotalViewsSumperHourPublishedLine\")\n",
    "\n",
    "plt.show()"
   ]
  },
  {
   "cell_type": "code",
   "execution_count": 10,
   "metadata": {},
   "outputs": [],
   "source": []
  },
  {
   "cell_type": "code",
   "execution_count": 23,
   "metadata": {},
   "outputs": [
    {
     "data": {
      "text/plain": [
       "Hour Published\n",
       "0     1.466666e+06\n",
       "1     1.774216e+06\n",
       "2     1.763896e+06\n",
       "3     1.615851e+06\n",
       "4     3.944657e+06\n",
       "5     2.406613e+06\n",
       "6     1.384962e+06\n",
       "7     2.253822e+06\n",
       "8     2.223092e+06\n",
       "9     4.360425e+06\n",
       "10    2.088470e+06\n",
       "11    2.130629e+06\n",
       "12    1.948112e+06\n",
       "13    1.977816e+06\n",
       "14    1.682570e+06\n",
       "15    1.737291e+06\n",
       "16    1.462809e+06\n",
       "17    1.442232e+06\n",
       "18    1.375696e+06\n",
       "19    1.215296e+06\n",
       "20    1.559301e+06\n",
       "21    1.695018e+06\n",
       "22    1.512056e+06\n",
       "23    1.385349e+06\n",
       "Name: Total Views, dtype: float64"
      ]
     },
     "execution_count": 23,
     "metadata": {},
     "output_type": "execute_result"
    }
   ],
   "source": [
    "#Find total average views of all videos by hour published\n",
    "totalviews = time_df.groupby('Hour Published')['Total Views'].mean()\n",
    "\n",
    "totalviews"
   ]
  },
  {
   "cell_type": "code",
   "execution_count": 18,
   "metadata": {},
   "outputs": [
    {
     "data": {
      "image/png": "[encoded data removed]",
      "text/plain": [
       "<Figure size 432x288 with 1 Axes>"
      ]
     },
     "metadata": {
      "needs_background": "light"
     },
     "output_type": "display_data"
    }
   ],
   "source": [
    "#Create line graph that shows time (x) by average views(y) \n",
    "\n",
    "#Create a line graph to show this\n",
    "time_df.groupby('Hour Published')['Total Views'].mean().plot(kind='line')\n",
    "\n",
    "plt.title(\"Total Average Views by Hour Published\")\n",
    "plt.xlabel(\"Hour Published (In Military Time)\")\n",
    "plt.ylabel(\"Total Views\")\n",
    "\n",
    "plt.savefig(\"TotalViewsMeanperHourPublishedLine\")\n",
    "\n",
    "plt.show()"
   ]
  },
  {
   "cell_type": "code",
   "execution_count": 23,
   "metadata": {},
   "outputs": [
    {
     "data": {
      "image/png": "[encoded data removed]",
      "text/plain": [
       "<Figure size 432x288 with 1 Axes>"
      ]
     },
     "metadata": {
      "needs_background": "light"
     },
     "output_type": "display_data"
    }
   ],
   "source": [
    "#Find average views vs. hour published and put into a bar graph\n",
    "\n",
    "time_df.groupby('Hour Published')['Total Views'].mean().plot(kind='bar', color=\"purple\")\n",
    "\n",
    "plt.title(\"Total Average Views by Hour Published\")\n",
    "plt.xlabel(\"Hour Published (In Military Time)\")\n",
    "plt.ylabel(\"Total Average Views\")\n",
    "\n",
    "plt.savefig(\"TotalViewsMeanperHourPublishedBar\")\n",
    "\n",
    "plt.show()\n"
   ]
  },
  {
   "cell_type": "markdown",
   "metadata": {},
   "source": [
    "What can I infer from this?"
   ]
  }
 ],
 "metadata": {
  "kernelspec": {
   "display_name": "Python 3",
   "language": "python",
   "name": "python3"
  },
  "language_info": {
   "codemirror_mode": {
    "name": "ipython",
    "version": 3
   },
   "file_extension": ".py",
   "mimetype": "text/x-python",
   "name": "python",
   "nbconvert_exporter": "python",
   "pygments_lexer": "ipython3",
   "version": "3.7.6"
  }
 },
 "nbformat": 4,
 "nbformat_minor": 4
}
